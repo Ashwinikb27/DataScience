{
 "cells": [
  {
   "cell_type": "code",
   "execution_count": 11,
   "metadata": {},
   "outputs": [
    {
     "ename": "SyntaxError",
     "evalue": "invalid syntax (<ipython-input-11-0a7e6e26a52f>, line 24)",
     "output_type": "error",
     "traceback": [
      "\u001b[1;36m  File \u001b[1;32m\"<ipython-input-11-0a7e6e26a52f>\"\u001b[1;36m, line \u001b[1;32m24\u001b[0m\n\u001b[1;33m    print(x=x+i for i in lst)\u001b[0m\n\u001b[1;37m                ^\u001b[0m\n\u001b[1;31mSyntaxError\u001b[0m\u001b[1;31m:\u001b[0m invalid syntax\n"
     ]
    }
   ],
   "source": [
    "#Write a Python program to find the sum of all elements in a list using loop.\n",
    "#Input:- [10,20,30,40]  \n",
    "#Output:- 100\n",
    "\n",
    "lst= [10,20,30,40]\n",
    "print(sum(lst))\n",
    "\n",
    "# or\n",
    "\n",
    "lst= [10,20,30,40]\n",
    "sum=0\n",
    "for i in lst:\n",
    "    sum+=i\n",
    "print(sum)\n",
    "\n",
    "# # or\n",
    "import functools\n",
    "lst= [10,20,30,40]\n",
    "print(functools.reduce(lambda a,b:a+b,lst))\n"
   ]
  },
  {
   "cell_type": "code",
   "execution_count": 23,
   "metadata": {},
   "outputs": [
    {
     "name": "stdout",
     "output_type": "stream",
     "text": [
      "240000\n",
      "240000\n"
     ]
    }
   ],
   "source": [
    "#Write a Python program to find the multiplication of all elements in a list using loop.\n",
    "#Input:- [10,20,30,40]\n",
    "#Output:- 240000\n",
    "\n",
    "lst=[10,20,30,40]\n",
    "Multi=1\n",
    "for i in lst:\n",
    "    Multi*=i\n",
    "print(Multi)\n",
    "\n",
    "# or\n",
    "\n",
    "import functools\n",
    "print(functools.reduce(lambda a,b:a*b,lst))\n"
   ]
  },
  {
   "cell_type": "code",
   "execution_count": 24,
   "metadata": {},
   "outputs": [
    {
     "name": "stdout",
     "output_type": "stream",
     "text": [
      "2321\n",
      "2321\n"
     ]
    }
   ],
   "source": [
    "#Write a Python program to find the largest number from a list using loop.\n",
    "#Input:- [10,100,2321, 1,200,2]\n",
    "#Output:- 2321\n",
    "\n",
    "lst=[10,100,2321, 1,200,2]\n",
    "j=lst[0]\n",
    "for i in range(len(lst)-1):\n",
    "    if j<=lst[i+1]:\n",
    "        j=lst[i+1]\n",
    "print(j)\n",
    "        \n",
    "# or\n",
    "\n",
    "print(max(lst))"
   ]
  },
  {
   "cell_type": "code",
   "execution_count": 25,
   "metadata": {},
   "outputs": [
    {
     "name": "stdout",
     "output_type": "stream",
     "text": [
      "1\n",
      "1\n"
     ]
    }
   ],
   "source": [
    "#Write a Python program to find the smallest number from a list using loop.\n",
    "#Input:- [10,100,2321, 1,200,2]\n",
    "#Output:- 1\n",
    "\n",
    "lst=[10,100,2321, 1,200,2]\n",
    "j=lst[0]\n",
    "for i in range(len(lst)-1):\n",
    "    if j>=lst[i+1]:\n",
    "        j=lst[i+1]\n",
    "print(j)\n",
    "\n",
    "# or\n",
    "\n",
    "print(min(lst))\n"
   ]
  },
  {
   "cell_type": "code",
   "execution_count": 64,
   "metadata": {},
   "outputs": [
    {
     "name": "stdout",
     "output_type": "stream",
     "text": [
      "2\n"
     ]
    }
   ],
   "source": [
    "#Write a Python program to count the number of strings having length more than 2 and are palindrome in a list using loop.\n",
    "#Input:- ['ab', 'abc', 'aba', 'xyz', '1991']\n",
    "#Output:- 2\n",
    "\n",
    "lst=['ab', 'abc', 'aba', 'xyz', '1991']      \n",
    "s=''\n",
    "j=''\n",
    "count=0\n",
    "for i in lst:\n",
    "    if len(i)>2:\n",
    "        s=i\n",
    "        j=s[::-1]\n",
    "        if s==j:\n",
    "            count+=1\n",
    "    \n",
    "print(count)         "
   ]
  },
  {
   "cell_type": "code",
   "execution_count": 2,
   "metadata": {},
   "outputs": [
    {
     "name": "stdout",
     "output_type": "stream",
     "text": [
      "[1, 2, 9, 10, 65, 80, 100, 298, 483, 9213, 49876]\n",
      "[1, 2, 9, 10, 65, 80, 100, 298, 483, 9213, 49876]\n"
     ]
    }
   ],
   "source": [
    "#Write a Python program to sort a list in ascending order using loop.\n",
    "#Input:- [100,10,1,298,65,483,49876,2,80,9,9213]\n",
    "#Output:- [1,2,9,10,65,80,100,298,483,9213,49876]\n",
    "\n",
    "lst=[100,10,1,298,65,483,49876,2,80,9,9213]\n",
    "out=[]\n",
    "for i in range(len(lst)):\n",
    "    m=lst[0]\n",
    "    for j in range(len(lst)-1):\n",
    "        if m>=lst[j+1]:\n",
    "            m=lst[j+1]\n",
    "    out.append(m)\n",
    "    lst.remove(m)    \n",
    "print(out)\n",
    "    \n",
    "# or\n",
    "\n",
    "lst=[100,10,1,298,65,483,49876,2,80,9,9213]\n",
    "lst.sort()\n",
    "print(lst)\n",
    "\n",
    "# x=lst.sort()\n",
    "# print(x)   it wont work\n",
    "# print(lst.sort()) it wont work"
   ]
  },
  {
   "cell_type": "code",
   "execution_count": 7,
   "metadata": {},
   "outputs": [
    {
     "name": "stdout",
     "output_type": "stream",
     "text": [
      "[(9, 1), (2, 3), (5, 4), (5, 5), (7, 6), (5, 9)]\n",
      "[(9, 1), (2, 3), (5, 4), (5, 5), (7, 6), (5, 9)]\n"
     ]
    }
   ],
   "source": [
    "#Write a Python program to get a sorted list in increasing order of last element in each \n",
    "#tuple in a given list using loop.\n",
    "#Input:- [(5,4),(9,1),(2,3),(5,9),(7,6),(5,5)]\n",
    "#output:- [(9,1),(2,3),(5,4),(5,5),(7,6),(5,9)]\n",
    "\n",
    "lst=[(5,4),(9,1),(2,3),(5,9),(7,6),(5,5)]\n",
    "out=[]\n",
    "lst1=[]\n",
    "lst1=[(i[1],i[0]) for i in lst]\n",
    "# print(lst1)\n",
    "for i in range(len(lst1)):\n",
    "    m=lst1[0]\n",
    "    for j in range(len(lst1)-1):\n",
    "        if m>=lst1[j+1]:\n",
    "            m=lst1[j+1]\n",
    "    out.append(m)\n",
    "    lst1.remove(m) \n",
    "out=[(i[1],i[0]) for i in out]\n",
    "print(out)\n",
    "\n",
    "# or\n",
    "lst=[(5,4),(9,1),(2,3),(5,9),(7,6),(5,5)]\n",
    "lst1=[(i[1],i[0]) for i in lst]\n",
    "lst1.sort()\n",
    "lst1=[(i[1],i[0]) for i in lst1]\n",
    "print(lst1)"
   ]
  },
  {
   "cell_type": "code",
   "execution_count": 60,
   "metadata": {},
   "outputs": [
    {
     "name": "stdout",
     "output_type": "stream",
     "text": [
      "[10, 1, 11, 29, 876, 768, 92]\n",
      "True\n"
     ]
    }
   ],
   "source": [
    "#Write a Python program to remove duplicate element from a list using loop.\n",
    "#Input:- [10,1,11,1,29,876,768,10,11,1,92,29,876]\n",
    "#Output:- [10,1,11,29,876,768,92]\n",
    "\n",
    "lst=[10,1,11,1,29,876,768,10,11,1,92,29,876]\n",
    "out=[]\n",
    "for i in range(len(lst)):\n",
    "    if lst[i] not in out:\n",
    "        out.append(lst[i])\n",
    "print(out)\n"
   ]
  },
  {
   "cell_type": "code",
   "execution_count": 12,
   "metadata": {},
   "outputs": [
    {
     "name": "stdout",
     "output_type": "stream",
     "text": [
      "[]\n",
      "list is empty\n"
     ]
    }
   ],
   "source": [
    "#Write a Python program to check a list is empty or not?\n",
    "#Input:- []\n",
    "#Output:- List is empty\n",
    "#Input:- [10,20,30]\n",
    "#Output:- List is not empty\n",
    "\n",
    "\n",
    "# lst=eval(input(''))\n",
    "# if lst==[]:\n",
    "#     print('List is empty')\n",
    "# else:\n",
    "#     print('List is not empt')\n",
    "    \n",
    "# or\n",
    "\n",
    "lst=eval(input(''))\n",
    "if any(lst):\n",
    "    print('list is not empty')\n",
    "else:\n",
    "    print('list is empty')"
   ]
  },
  {
   "cell_type": "code",
   "execution_count": 13,
   "metadata": {},
   "outputs": [
    {
     "name": "stdout",
     "output_type": "stream",
     "text": [
      "[10, 10.2, (10+20j), 'Python', [10, 20], (10, 20)]\n",
      "[10, 10.2, (10+20j), 'Python', [10, 20], (10, 20)]\n"
     ]
    }
   ],
   "source": [
    "#Write a Python program to copy a list using loop.\n",
    "#inp_lst = [10,10.20,10+20j, 'Python', [10,20], (10,20)]\n",
    "#out_lst = [10,10.20,10+20j, 'Python', [10,20], (10,20)]\n",
    "\n",
    "inp_lst=[10,10.20,10+20j, 'Python', [10,20], (10,20)]\n",
    "out_lst=[]\n",
    "for i in range(len(inp_lst)):\n",
    "    out_lst.append(inp_lst[i])\n",
    "print(out_lst)\n",
    "\n",
    "# or\n",
    "out_lst=inp_lst.copy()\n",
    "print(out_lst)"
   ]
  },
  {
   "cell_type": "code",
   "execution_count": 14,
   "metadata": {},
   "outputs": [
    {
     "name": "stdout",
     "output_type": "stream",
     "text": [
      "['much', 'wood', 'would', 'woodchuck', 'chuck', 'could']\n",
      "['much', 'wood', 'would', 'woodchuck', 'chuck', 'could']\n"
     ]
    }
   ],
   "source": [
    "#Write a Python program to find the list of words that are longer than or equal to 4 from a given string.\n",
    "#Input:- 'How much wood would a woodchuck chuck if a woodchuck could chuck wood'\n",
    "#Output:- ['much', 'wood', 'would', 'woodchuck', 'chuck', 'could']\n",
    "#Note:- Duplicate should be avoided.\n",
    "\n",
    "str='How much wood would a woodchuck chuck if a woodchuck could chuck wood'\n",
    "lst=[]\n",
    "s=''\n",
    "for i in range(len(str)):\n",
    "    if str[i]!=' ':\n",
    "        s+=str[i]\n",
    "    elif s not in lst and len(s)>3:\n",
    "        lst.append(s)\n",
    "        s=''\n",
    "    else:\n",
    "        s=''\n",
    "print(lst)\n",
    "\n",
    "# or\n",
    "\n",
    "str='How much wood would a woodchuck chuck if a woodchuck could chuck wood'\n",
    "lst=str.split()\n",
    "out=[]\n",
    "for i in lst:\n",
    "    if (len(i)>=4) and (i not in out):\n",
    "            out.append(i)\n",
    "print(out)"
   ]
  },
  {
   "cell_type": "code",
   "execution_count": 45,
   "metadata": {},
   "outputs": [
    {
     "name": "stdout",
     "output_type": "stream",
     "text": [
      "True\n"
     ]
    }
   ],
   "source": [
    "#Write a Python program which takes two list as input and returns True if they have at least 3 common elements.\n",
    "#inp_lst1 = [10,20,'Python', 10.20, 10+20j, [10,20,30], (10,20,30)]\n",
    "#inp_lst2 = [(10,20,30),1,20+3j,100.2, 10+20j, [10,20,30],'Python']\n",
    "#Output:- True\n",
    "\n",
    "inp_lst1 = [10,20,'Python', 10.20, 10+20j, [10,20,30], (10,20,30)]\n",
    "inp_lst2 = [(10,20,30),1,20+3j,100.2, 10+20j, [10,20,30],'Python']\n",
    "lst=[]\n",
    "s=''\n",
    "count=0\n",
    "for i in range(len(inp_lst1)):\n",
    "    if inp_lst1[i] in inp_lst2:\n",
    "        count+=1\n",
    "if count>=3:\n",
    "    print('True')\n",
    "\n"
   ]
  },
  {
   "cell_type": "code",
   "execution_count": 21,
   "metadata": {},
   "outputs": [
    {
     "name": "stdout",
     "output_type": "stream",
     "text": [
      "[[0, 0, 0, 0], [0, 1, 2, 3], [0, 2, 4, 6], [0, 3, 6, 9]]\n",
      "[[0, 0, 0, 0], [0, 1, 2, 3], [0, 2, 4, 6], [0, 3, 6, 9]]\n"
     ]
    }
   ],
   "source": [
    "#Write a Python program to create a 4X4 2D matrix with below elements using loop and list comprehension both.\n",
    "#Output:- [[0,0,0,0],[0,1,2,3],[0,2,4,6],[0,3,6,9]]\n",
    "\n",
    "\n",
    "print([[(i*j) for i in range(4)] for j in range(4)])\n",
    "\n",
    "# or\n",
    "\n",
    "\n",
    "matrix=[]\n",
    "for i in range(4):\n",
    "    matrix.append([])\n",
    "    for j in range(4):\n",
    "        matrix[i].append(i*j)\n",
    "print(matrix)\n",
    "\n"
   ]
  },
  {
   "cell_type": "code",
   "execution_count": 201,
   "metadata": {},
   "outputs": [
    {
     "name": "stdout",
     "output_type": "stream",
     "text": [
      "[[[0, 0, 0, 0, 0, 0], [0, 0, 0, 0, 0, 0], [0, 0, 0, 0, 0, 0], [0, 0, 0, 0, 0, 0]], [[0, 0, 0, 0, 0, 0], [1, 1, 1, 1, 1, 1], [2, 2, 2, 2, 2, 2], [3, 3, 3, 3, 3, 3]], [[0, 0, 0, 0, 0, 0], [2, 2, 2, 2, 2, 2], [4, 4, 4, 4, 4, 4], [6, 6, 6, 6, 6, 6]]]\n"
     ]
    }
   ],
   "source": [
    "#Write a Python program to create a 3X4X6 3D matrix wiith below elements using loop\n",
    "#Output:- \n",
    "# [\n",
    "#     [[0,0,0,0,0,0],[0,0,0,0,0,0],[0,0,0,0,0,0],[0,0,0,0,0,0]],\n",
    "#     [[0,0,0,0,0,0],[1,1,1,1,1,1],[2,2,2,2,2,2],[3,3,3,3,3,3]],\n",
    "#     [[0,0,0,0,0,0],[2,2,2,2,2,2],[4,4,4,4,4,4],[6,6,6,6,6,6]]\n",
    "# ]\n",
    "\n",
    "\n",
    "# print([[[(i*j) for k in range(6)]for j in range(4)]for i in range(3)])\n",
    "\n",
    "print([[[j for j in range(6)]for i in range(4)]for k in range(3)])\n",
    "# or\n",
    "\n",
    "out_lst = []\n",
    "for i in range(3):\n",
    "    in_lst1 = []\n",
    "    for j in range(4):\n",
    "        in_lst2 = []\n",
    "        for k in range(6):\n",
    "            in_lst2.append(i*j)\n",
    "        in_lst1.append(in_lst2)\n",
    "    out_lst.append(in_lst1)\n",
    "print(out_lst)\n",
    "\n",
    "# or\n",
    "\n",
    "matrix=[]\n",
    "for k in range(3):\n",
    "    matrix.append([])\n",
    "    for i in range(4):\n",
    "        matrix[k].append([])\n",
    "        for j in range(6):\n",
    "            matrix[k][i].append(i*k)\n",
    "print(matrix)\n"
   ]
  },
  {
   "cell_type": "code",
   "execution_count": 41,
   "metadata": {},
   "outputs": [
    {
     "name": "stdout",
     "output_type": "stream",
     "text": [
      "[21, 87, 45, 33, 1]\n",
      "<function <lambda> at 0x00000114AFFABDC0> [10, 21, 22, 98, 87, 45, 33, 1, 2, 100]\n",
      "[21, 87, 45, 33, 1]\n"
     ]
    }
   ],
   "source": [
    "#Write a Python program which takes a list of numbers as input and prints a new list after \n",
    "# removing even numbers from it.\n",
    "#Input:- [10,21,22,98,87,45,33,1,2,100]\n",
    "#Output:- [21,87,45,33,1]\n",
    "\n",
    "lst=[10,21,22,98,87,45,33,1,2,100]\n",
    "out=[]\n",
    "for i in lst:\n",
    "    if i%2!=0:\n",
    "        out.append(i)\n",
    "print(out)\n",
    "\n",
    "\n",
    "# or\n",
    "print(list(filter(lambda a:a%2!=0,lst)))"
   ]
  },
  {
   "cell_type": "code",
   "execution_count": 196,
   "metadata": {},
   "outputs": [
    {
     "name": "stdout",
     "output_type": "stream",
     "text": [
      "[22, 87, 98, 21, 100, 45, 2, 1, 10, 33]\n"
     ]
    }
   ],
   "source": [
    "#Write a Python program which takes a list from the user and prints it after reshuffling the elements of the list.\n",
    "#Input:- [10,21,22,98,87,45,33,1,2,100]\n",
    "#Output:- [1,87,21,10,33,2,100,45,98,22] (It may be any randon list but with same elements)\n",
    "\n",
    "import random\n",
    "lst=[10,21,22,98,87,45,33,1,2,100]\n",
    "random.shuffle(lst)\n",
    "print(lst)"
   ]
  }
 ],
 "metadata": {
  "kernelspec": {
   "display_name": "Python 3",
   "language": "python",
   "name": "python3"
  },
  "language_info": {
   "codemirror_mode": {
    "name": "ipython",
    "version": 3
   },
   "file_extension": ".py",
   "mimetype": "text/x-python",
   "name": "python",
   "nbconvert_exporter": "python",
   "pygments_lexer": "ipython3",
   "version": "3.8.5"
  }
 },
 "nbformat": 4,
 "nbformat_minor": 4
}
