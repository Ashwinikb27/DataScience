{
 "cells": [
  {
   "cell_type": "code",
   "execution_count": 7,
   "metadata": {},
   "outputs": [
    {
     "name": "stdout",
     "output_type": "stream",
     "text": [
      "Enter a number between 0 to 9:5\n",
      "Five\n"
     ]
    }
   ],
   "source": [
    "# W. A P. which takes one number from 0 to 9 from the user and prints\n",
    "# it in the word. And if the word is not from 0 to 9 then\n",
    "# it should print that number is outside of the range and program should\n",
    "# exit.\n",
    "# For exapmple:-\n",
    "# input = 1\n",
    "# output = one\n",
    "\n",
    "num=int(input('Enter a number between 0 to 9:'))\n",
    "if num == 0:\n",
    "    print('Zero')\n",
    "elif num == 1:\n",
    "    print('One')\n",
    "elif num == 2:\n",
    "    print('Two')\n",
    "elif num == 3:\n",
    "    print('Three')\n",
    "elif num == 4:\n",
    "    print('Four')\n",
    "elif num == 5:\n",
    "    print('Five')\n",
    "elif num == 6:\n",
    "    print('Six')\n",
    "elif num == 7:\n",
    "    print('Seven')\n",
    "elif num == 8:\n",
    "    print('Eight')\n",
    "elif num == 9:\n",
    "    print('Nine')\n",
    "else:\n",
    "    print('The number is out of the range')"
   ]
  },
  {
   "cell_type": "code",
   "execution_count": 12,
   "metadata": {},
   "outputs": [
    {
     "name": "stdout",
     "output_type": "stream",
     "text": [
      "CALCULATOR:\n",
      " Enter first number:3\n",
      "Enter second number:4\n",
      "\n",
      " Please select any one operation from below:-\n",
      " \n",
      " \t\t To add enter 1\n",
      " \t\t To subtract enter 2\n",
      " \t\t To multiply enter 3\n",
      " \t\t To divide enter 4\n",
      " \t\t To divide and find quotient enter 5\n",
      " \t\t To divide and find remainder enter 6\n",
      " \t\t To divide and find num1 to the power of num2 enter 7\n",
      " \t\t To Come out of the program enter 8 \n",
      " \t3\n",
      "Multiplication of 3 and 4 is  12\n"
     ]
    }
   ],
   "source": [
    "# W. A P. to implement calculator but the operation to be done and two\n",
    "# numbers will be taken as input from user:-\n",
    "# Operation console should show below:-\n",
    "# Please select any one operation from below:-\n",
    "# * To add enter 1\n",
    "# * to subtract enter 2\n",
    "# * To multiply enter 3\n",
    "# * To divide enter 4\n",
    "# * To divide and find quotient enter 5\n",
    "# * To divide and find remainder enter 6\n",
    "# * To divide and find num1 to the power of num2 enter 7\n",
    "# * To Come out of the program enter 8\n",
    "\n",
    "\n",
    "a=int(input('CALCULATOR:\\n Enter first number:'))\n",
    "b=int(input('Enter second number:'))\n",
    "command=int(input('''\\n Please select any one operation from below:-\\n \n",
    " \\t\\t To add enter 1\n",
    " \\t\\t To subtract enter 2\n",
    " \\t\\t To multiply enter 3\n",
    " \\t\\t To divide enter 4\n",
    " \\t\\t To divide and find quotient enter 5\n",
    " \\t\\t To divide and find remainder enter 6\n",
    " \\t\\t To divide and find num1 to the power of num2 enter 7\n",
    " \\t\\t To Come out of the program enter 8 \\n \\t'''))\n",
    "if command == 1:\n",
    "    print(f'Sum of {a} and {b} is ',a+b)\n",
    "if command == 2:\n",
    "    print(f'Diffrence of {a} and {b} is ',a-b)\n",
    "if command == 3:\n",
    "    print(f'Multiplication of {a} and {b} is ',a*b)\n",
    "if command == 4:\n",
    "    print(f'Divide {a} by {b} = ',a/b)\n",
    "if command == 5:\n",
    "    print(f'Quotient we get when we divide {a} and {b} is ',a/b)\n",
    "if command == 6:\n",
    "    print(f'Remainder we get when we divide {a} and {b} is ',a%b)\n",
    "if command == 7:\n",
    "    print(f' {a} to the power of {b} is ',pow(a,b))\n",
    "if command == 8:\n",
    "    print('Exit')\n",
    "\n"
   ]
  },
  {
   "cell_type": "code",
   "execution_count": 25,
   "metadata": {},
   "outputs": [
    {
     "name": "stdout",
     "output_type": "stream",
     "text": [
      "Enter an year to check whether its a leap year or not : 1800\n",
      "1800 is not an leap year\n"
     ]
    }
   ],
   "source": [
    "# W A P to check whether a year entered by user is an leap year or not?\n",
    "# Check with below input:-\n",
    "# leap year:- 2012, 1968, 2004, 1200, 1600,2400\n",
    "# Non-lear year:- 1971, 2006, 1700,1800,1900\n",
    "\n",
    "# Logic:--\n",
    "#     year is a leap year if the following conditions are satisfied: \n",
    "\n",
    "# The year is multiple of 400.\n",
    "# The year is multiple of 4 and not multiple of 100.\n",
    "\n",
    "year = int(input(\"Enter an year to check whether its a leap year or not : \"))\n",
    "if (year%400 == 0) or (year%4 == 0 and year%100 != 0):\n",
    "    print(f'{year} is an Leap year')\n",
    "else:\n",
    "    print(f'{year} is not an leap year')"
   ]
  },
  {
   "cell_type": "code",
   "execution_count": 27,
   "metadata": {},
   "outputs": [
    {
     "name": "stdout",
     "output_type": "stream",
     "text": [
      "Enter a number to check whether it is a even or odd:24\n",
      "24 is an Even number\n"
     ]
    }
   ],
   "source": [
    "# W A P which takes one number from the user and checks whether it is\n",
    "# an even or odd number?, If it even then prints number is\n",
    "# even number else prints that number is odd number.\n",
    "\n",
    "num=int(input('Enter a number to check whether it is a even or odd:'))\n",
    "if num%2==0:\n",
    "    print(f'{num} is an Even number')\n",
    "else:\n",
    "    print(f'{num} is an Odd number')"
   ]
  },
  {
   "cell_type": "code",
   "execution_count": 39,
   "metadata": {},
   "outputs": [
    {
     "name": "stdout",
     "output_type": "stream",
     "text": [
      "Enter a first number :3\n",
      "Enter a second number :5\n",
      "3 is smaller than 5\n",
      "\n",
      "\n",
      "Enter a first number :3\n",
      "Enter a second number :5\n",
      "3 is smaller than 5\n"
     ]
    }
   ],
   "source": [
    "# W A P which takes two numbers from the user and prints below output:-\n",
    "#  1. num1 is greater than num2 if num1 is greater than num2\n",
    "#  2. num1 is smaller than num2 if num1 is smaller than num2\n",
    "#  3. num1 is equal to num2 if num1 and num2 are equal\n",
    "\n",
    "# Note:- 1. Do this problem using if - else\n",
    "\n",
    "\n",
    "num1=int(input('Enter a first number :'))\n",
    "num2=int(input('Enter a second number :'))\n",
    "if num1>num2:\n",
    "    print(f'{num1} is greater than {num2}')\n",
    "elif num1<num2:\n",
    "    print(f'{num1} is smaller than {num2}')\n",
    "else:\n",
    "    print(f'{num1} is equal to {num2}')\n",
    "    \n",
    "    \n",
    "#  2. Do this using ternary operator\n",
    "\n",
    "\n",
    "print('\\n')\n",
    "num1=int(input('Enter a first number :'))\n",
    "num2=int(input('Enter a second number :'))\n",
    "print(f'{num1} is greater than {num2}' if num1>num2 else f'{num1} is smaller than {num2}' if num1<num2 else f'{num1} is equal to {num2}')"
   ]
  },
  {
   "cell_type": "code",
   "execution_count": 45,
   "metadata": {},
   "outputs": [
    {
     "name": "stdout",
     "output_type": "stream",
     "text": [
      "Enter a first number : 5\n",
      "Enter a second number : 6\n",
      "Enter a third number: 4\n",
      "6 is greater than 5 and 4\n",
      "\n",
      "\n",
      "Enter a first number : 5\n",
      "Enter a second number : 6\n",
      "Enter a third number: 4\n",
      "6 is greater than 5 and 4\n"
     ]
    }
   ],
   "source": [
    "# W A P which takes three numbers from the user and prints below\n",
    "# output:-\n",
    "#  1. num1 is greater than num2 and num3 if num1 is greater than num2\n",
    "# and num3\n",
    "#  2. num2 is greater than num1 and num3 if num2 is greater than num1\n",
    "# and num3\n",
    "#  3. num3 is greater than num1 and num2 if num3 is greater than num1\n",
    "# and num2\n",
    "\n",
    "# Note:- 1. Do this problem using if - elif - else\n",
    "\n",
    "num1=int(input('Enter a first number : '))\n",
    "num2=int(input('Enter a second number : '))\n",
    "num3=int(input('Enter a third number: '))\n",
    "if num1>num2 and num1>num3:\n",
    "    print(f'{num1} is greater than {num2} and {num3}')\n",
    "elif num2>num1 and num2>num3:\n",
    "    print(f'{num2} is greater than {num1} and {num3}')\n",
    "else:\n",
    "    print(f'{num3} is greater than {num1} and {num2}')\n",
    "\n",
    "\n",
    "#  2. Do this using ternary operator\n",
    "# a = a if a>b else b\n",
    "print('\\n')\n",
    "num1=int(input('Enter a first number : '))\n",
    "num2=int(input('Enter a second number : '))\n",
    "num3=int(input('Enter a third number: '))\n",
    "\n",
    "print(f'{num1} is greater than {num2} and {num3}' if (num1>num2 and num1>num3) else f'{num2} is greater than {num1} and {num3}' if num2>num1 and num2>num3 else f'{num3} is greater than {num1} and {num2}')\n",
    "\n"
   ]
  },
  {
   "cell_type": "markdown",
   "metadata": {},
   "source": [
    "# Loop"
   ]
  },
  {
   "cell_type": "code",
   "execution_count": 12,
   "metadata": {},
   "outputs": [
    {
     "name": "stdout",
     "output_type": "stream",
     "text": [
      "55\n"
     ]
    }
   ],
   "source": [
    "# Write a Python program to find the length of the my_str using loop:-\n",
    "# Input:- 'Write a Python program to find the length of the my_str'\n",
    "# Output:- 55\n",
    "\n",
    "my_str='Write a Python program to find the length of the my_str'\n",
    "lst=''\n",
    "s=''\n",
    "count=0\n",
    "for i in my_str:\n",
    "    count+=1\n",
    "print(count) \n"
   ]
  },
  {
   "cell_type": "code",
   "execution_count": 16,
   "metadata": {},
   "outputs": [
    {
     "name": "stdout",
     "output_type": "stream",
     "text": [
      "The following are the indexes of all occurences of letter 'p' appeared in the string:\n",
      "9\n"
     ]
    }
   ],
   "source": [
    "# Write a Python program to find the total number of times letter 'p'\n",
    "# is appeared in the below string using loop:-\n",
    "# Input:- 'peter piper picked a peck of pickled peppers.\\n'\n",
    "# Output:- 9\n",
    "\n",
    "str='peter piper picked a peck of pickled peppers.'\n",
    "count=0\n",
    "print(\"The following are the indexes of all occurences of letter 'p' appeared in the string:\")\n",
    "for i in str:\n",
    "    if i=='p':\n",
    "        count+=1\n",
    "print(count)"
   ]
  },
  {
   "cell_type": "code",
   "execution_count": 13,
   "metadata": {},
   "outputs": [
    {
     "name": "stdout",
     "output_type": "stream",
     "text": [
      "The following are the indexes of all occurences of letter 'p' appeared in the string:\n",
      "0\n",
      "6\n",
      "8\n",
      "12\n",
      "21\n",
      "29\n",
      "37\n",
      "39\n",
      "40\n"
     ]
    }
   ],
   "source": [
    "# Write a Python Program, to print all the indexes of all occurences of\n",
    "# letter 'p' appeared in the string using loop:-\n",
    "# Input:- 'peter piper picked a peck of pickled peppers.'\n",
    "# Output:-\n",
    "# 0\n",
    "# 6\n",
    "# 8\n",
    "# 12\n",
    "# 21\n",
    "# 29\n",
    "# 37\n",
    "# 39\n",
    "# 40\n",
    "\n",
    "str='peter piper picked a peck of pickled peppers.'\n",
    "count=-1\n",
    "print(\"The following are the indexes of all occurences of letter 'p' appeared in the string:\")\n",
    "for i in str:\n",
    "    count+=1\n",
    "    if i=='p':\n",
    "        print(count)\n",
    "\n"
   ]
  },
  {
   "cell_type": "code",
   "execution_count": 37,
   "metadata": {},
   "outputs": [
    {
     "name": "stdout",
     "output_type": "stream",
     "text": [
      "['peter', 'piper', 'picked', 'a', 'peck', 'of', 'pickled', 'peppers.']\n",
      "\n",
      "\n",
      "['peter', 'piper', 'picked', 'a', 'peck', 'of', 'pickled', 'peppers']\n"
     ]
    }
   ],
   "source": [
    "# Write a python program to find below output using loop:-\n",
    "# Input:- 'peter piper picked a peck of pickled peppers.'\n",
    "# Output:- ['peter', 'piper', 'picked', 'a', 'peck', 'of', 'pickled',\n",
    "# 'peppers']\n",
    "\n",
    "str='peter piper picked a peck of pickled peppers.'\n",
    "lst=[]\n",
    "s=''\n",
    "for i in str:\n",
    "    if i!=' ':\n",
    "        s+=i\n",
    "    else:\n",
    "        lst.append(s)\n",
    "        s=''\n",
    "lst.append(s)\n",
    "print(lst)\n",
    "\n",
    "# or\n",
    "\n",
    "# To remove full stop at the end\n",
    "\n",
    "print('\\n')\n",
    "str='peter piper picked a peck of pickled peppers.'\n",
    "lst=[]\n",
    "s=''\n",
    "for i in range(len(str)-1):\n",
    "    if str[i]!=' ':\n",
    "        s+=str[i]\n",
    "    else:\n",
    "        lst.append(s)\n",
    "        s=''\n",
    "lst.append(s)\n",
    "print(lst)\n"
   ]
  },
  {
   "cell_type": "code",
   "execution_count": 66,
   "metadata": {},
   "outputs": [
    {
     "name": "stdout",
     "output_type": "stream",
     "text": [
      "peppers pickled of peck a picked piper peter \n"
     ]
    }
   ],
   "source": [
    "# Write a python program to find below output using loop:-\n",
    "# Input:- 'peter piper picked a peck of pickled peppers.'\n",
    "# Output:- 'peppers pickled of peck a picked piper peter'\n",
    "     \n",
    "str='peter piper picked a peck of pickled peppers.'\n",
    "lst=''\n",
    "s=' '\n",
    "for i in range(len(str)-2,-1,-1):   # to get fullstop--->for i in range(len(str)-1,-1,-1):\n",
    "    if str[i]!=' ':\n",
    "        s+=str[i]\n",
    "       \n",
    "    else:\n",
    "        lst+=s[::-1]\n",
    "        s=' '\n",
    "lst+=s[::-1]\n",
    "print(lst)"
   ]
  },
  {
   "cell_type": "code",
   "execution_count": 83,
   "metadata": {},
   "outputs": [
    {
     "name": "stdout",
     "output_type": "stream",
     "text": [
      ".sreppep delkcip fo kcep a dekcip repip retep\n",
      ".sreppep delkcip fo kcep a dekcip repip retep \n"
     ]
    }
   ],
   "source": [
    "# Write a python program to find below output using loop:-\n",
    "# Input:- 'peter piper picked a peck of pickled peppers.'\n",
    "# Output:- '.sreppep delkcip fo kcep a dekcip repip retep'\n",
    "\n",
    "str='peter piper picked a peck of pickled peppers.'\n",
    "lst=''\n",
    "s=''\n",
    "for i in range(len(str)-1,-1,-1):\n",
    "    if str[i]!='':\n",
    "        s+=str[i]\n",
    "    else:\n",
    "        lst=s\n",
    "        s=''\n",
    "lst=s\n",
    "print(lst)\n",
    "\n",
    "\n",
    "# or\n",
    "\n",
    "str='peter piper picked a peck of pickled peppers.'\n",
    "lst=''\n",
    "s=' '\n",
    "for i in range(len(str)):\n",
    "    if str[i]!='':\n",
    "        s+=str[i]\n",
    "    else:\n",
    "        lst=s\n",
    "        s=''\n",
    "lst=s\n",
    "print(lst[::-1])"
   ]
  },
  {
   "cell_type": "code",
   "execution_count": 93,
   "metadata": {},
   "outputs": [
    {
     "name": "stdout",
     "output_type": "stream",
     "text": [
      " retep repip dekcip a kcep fo delkcip sreppep \n"
     ]
    }
   ],
   "source": [
    "# Write a python program to find below output using loop:-\n",
    "# Input:- 'peter piper picked a peck of pickled peppers.'\n",
    "# Output:- 'retep repip dekcip a kcep fo delkcip sreppep'\n",
    "    \n",
    "str='peter piper picked a peck of pickled peppers.'\n",
    "lst=' '\n",
    "s=' '\n",
    "for i in range(len(str)-1):   # # to get fullstop--->for i in range(len(str)):\n",
    "    if str[i]!=' ':\n",
    "        s+=str[i]\n",
    "    else:\n",
    "        lst+=s[::-1]\n",
    "        s=' '\n",
    "lst+=s[::-1]\n",
    "print(lst)\n"
   ]
  },
  {
   "cell_type": "code",
   "execution_count": 98,
   "metadata": {},
   "outputs": [
    {
     "name": "stdout",
     "output_type": "stream",
     "text": [
      "  Peter Piper Picked A Peck Of Pickled Peppers.\n",
      "  Peter Piper Picked A Peck Of Pickled Peppers.\n"
     ]
    }
   ],
   "source": [
    "# Write a python program to find below output using loop:-\n",
    "# Input:- 'peter piper picked a peck of pickled peppers.'\n",
    "# Output:- 'Peter Piper Picked A Peck Of Pickled Peppers'\n",
    "\n",
    "str='peter piper picked a peck of pickled peppers.'\n",
    "lst=' '\n",
    "s=' '\n",
    "for i in range(len(str)):\n",
    "    if str[i]!=' ':\n",
    "        s+=str[i]\n",
    "    else:\n",
    "        lst+=s.title()\n",
    "        s=' '\n",
    "lst+=s.title()\n",
    "print(lst)\n",
    "\n",
    "\n",
    "# or\n",
    "\n",
    "str='peter piper picked a peck of pickled peppers.'\n",
    "lst=' '\n",
    "s=' '\n",
    "for i in range(len(str)):\n",
    "    if str[i]!=' ':\n",
    "        s+=str[i]\n",
    "    else:\n",
    "        lst+=s\n",
    "        s=' '\n",
    "lst+=s\n",
    "print(lst.title())\n",
    "\n",
    "\n"
   ]
  },
  {
   "cell_type": "code",
   "execution_count": 110,
   "metadata": {},
   "outputs": [
    {
     "name": "stdout",
     "output_type": "stream",
     "text": [
      "Peter piper picked a peck of pickled peppers.\n"
     ]
    }
   ],
   "source": [
    "# Write a python program to find below output using loop:-\n",
    "# Input:- 'Peter Piper Picked A Peck Of Pickled Peppers.'\n",
    "# Output:- 'Peter piper picked a peck of pickled peppers'\n",
    "\n",
    "str='Peter Piper Picked A Peck Of Pickled Peppers.'\n",
    "lst=''\n",
    "s=''\n",
    "for i in range(len(str)):\n",
    "    if str[i]!=' ':\n",
    "        s+=str[i]\n",
    "    else:\n",
    "        lst+=s\n",
    "        s=' '\n",
    "lst+=s\n",
    "print(lst.capitalize())\n"
   ]
  },
  {
   "cell_type": "code",
   "execution_count": 125,
   "metadata": {},
   "outputs": [
    {
     "name": "stdout",
     "output_type": "stream",
     "text": [
      "29\n"
     ]
    }
   ],
   "source": [
    "#  Write a python program to implement index method using loop. If\n",
    "# sub_str is found in my_str then it will print the index\n",
    "# of first occurrence of first character of matching string in my_str:-\n",
    "# Input:- my_str = 'Peter Piper Picked A Peck Of Pickled Peppers.',\n",
    "# sub_str = 'Pickl'\n",
    "# Output:- 29\n",
    "\n",
    "my_str='Peter Piper Picked A Peck Of Pickled Peppers.'\n",
    "sub_str = 'Pickl'\n",
    "lst=''\n",
    "s=''\n",
    "count=-1\n",
    "index=1\n",
    "for i in my_str:\n",
    "    if lst==sub_str:\n",
    "        break\n",
    "    if i==' ':\n",
    "        count+=1\n",
    "        lst=s[0:5]\n",
    "        index=count-len(s)\n",
    "        s=''\n",
    "    else:\n",
    "        s+=i\n",
    "        count+=1\n",
    "print(index) \n"
   ]
  },
  {
   "cell_type": "code",
   "execution_count": 132,
   "metadata": {},
   "outputs": [
    {
     "name": "stdout",
     "output_type": "stream",
     "text": [
      "Peter Piper Picked A Pack Of Pickled Peppers.\n"
     ]
    }
   ],
   "source": [
    "# Write a python program to implement replace method using loop. If\n",
    "# sub_str is found in my_str then it will replace the first\n",
    "# occurrence of sub_str with new_str else it will will print sub_str not\n",
    "# found:-\n",
    "# Input:- my_str = 'Peter Piper Picked A Peck Of Pickled Peppers.',\n",
    "# sub_str = 'Peck', new_str = 'Pack'\n",
    "# Output:- 'Peter Piper Picked A Pack Of Pickled Peppers.'\n",
    "\n",
    "\n",
    "str='Peter Piper Picked A Peck Of Pickled Peppers.'\n",
    "sub_str = 'Peck'\n",
    "new_str = 'Pack'\n",
    "lst=''\n",
    "s=''\n",
    "m=''\n",
    "for i in range(len(str)):\n",
    "    if str[i]!=' ':\n",
    "        s+=str[i]\n",
    "    elif s==sub_str:\n",
    "        lst+=new_str\n",
    "        s=' '\n",
    "    else:\n",
    "        lst+=s\n",
    "        s=' '\n",
    "lst+=s\n",
    "print(lst)\n",
    "\n"
   ]
  },
  {
   "cell_type": "code",
   "execution_count": 8,
   "metadata": {},
   "outputs": [
    {
     "name": "stdout",
     "output_type": "stream",
     "text": [
      "*************************Peck********************\n"
     ]
    }
   ],
   "source": [
    "# Write a python program to find below output (implements rjust and\n",
    "# ljust) using loop:-\n",
    "# Input:- 'Peter Piper Picked A Peck Of Pickled Peppers.', sub_str =\n",
    "# 'Peck',\n",
    "# Output:- '*********************Peck********************'\n",
    "\n",
    "str='Peter Piper Picked A Peck Of Pickled Peppers.'\n",
    "sub_str = 'Peck'\n",
    "lst=''\n",
    "s=''\n",
    "for i in range(len(str)):\n",
    "    if str[i]!=' ':\n",
    "        s+=str[i]\n",
    "        lst+='*'\n",
    "    elif s==sub_str:\n",
    "        lst+=sub_str\n",
    "        s=''\n",
    "    else:\n",
    "        lst+='*'\n",
    "        s=''\n",
    "lst+='*'\n",
    "print(lst)\n",
    "\n"
   ]
  },
  {
   "cell_type": "code",
   "execution_count": 2,
   "metadata": {},
   "outputs": [
    {
     "name": "stdout",
     "output_type": "stream",
     "text": [
      "['This', 'is', 'Python class']\n"
     ]
    }
   ],
   "source": [
    "# Write a python program to find below output using loop:-\n",
    "# Input:- 'This is Python class', sep = ' is',\n",
    "# Output:- ['This', 'is', 'Python class']\n",
    "\n",
    "my_str = 'This is Python class'\n",
    "sep = 'is'\n",
    "out_lst = []\n",
    "my_str1 = ''\n",
    "for i in my_str:\n",
    "    if i != ' ':\n",
    "        my_str1 += i\n",
    "    else:\n",
    "        if sep not in out_lst:\n",
    "            out_lst += [my_str1]\n",
    "            my_str1 = ''\n",
    "        else:\n",
    "            my_str1 += ' '\n",
    "out_lst += [my_str1.strip()]\n",
    "print(out_lst)\n",
    "\n",
    "\n"
   ]
  },
  {
   "cell_type": "code",
   "execution_count": null,
   "metadata": {},
   "outputs": [],
   "source": []
  },
  {
   "cell_type": "code",
   "execution_count": null,
   "metadata": {},
   "outputs": [],
   "source": []
  },
  {
   "cell_type": "code",
   "execution_count": null,
   "metadata": {},
   "outputs": [],
   "source": []
  },
  {
   "cell_type": "code",
   "execution_count": null,
   "metadata": {},
   "outputs": [],
   "source": []
  },
  {
   "cell_type": "code",
   "execution_count": null,
   "metadata": {},
   "outputs": [],
   "source": []
  },
  {
   "cell_type": "code",
   "execution_count": null,
   "metadata": {},
   "outputs": [],
   "source": []
  },
  {
   "cell_type": "code",
   "execution_count": null,
   "metadata": {},
   "outputs": [],
   "source": []
  },
  {
   "cell_type": "code",
   "execution_count": null,
   "metadata": {},
   "outputs": [],
   "source": []
  },
  {
   "cell_type": "code",
   "execution_count": null,
   "metadata": {},
   "outputs": [],
   "source": []
  },
  {
   "cell_type": "code",
   "execution_count": null,
   "metadata": {},
   "outputs": [],
   "source": []
  },
  {
   "cell_type": "code",
   "execution_count": null,
   "metadata": {},
   "outputs": [],
   "source": []
  },
  {
   "cell_type": "code",
   "execution_count": null,
   "metadata": {},
   "outputs": [],
   "source": []
  },
  {
   "cell_type": "code",
   "execution_count": null,
   "metadata": {},
   "outputs": [],
   "source": []
  },
  {
   "cell_type": "code",
   "execution_count": null,
   "metadata": {},
   "outputs": [],
   "source": []
  },
  {
   "cell_type": "code",
   "execution_count": null,
   "metadata": {},
   "outputs": [],
   "source": []
  },
  {
   "cell_type": "code",
   "execution_count": null,
   "metadata": {},
   "outputs": [],
   "source": []
  },
  {
   "cell_type": "code",
   "execution_count": null,
   "metadata": {},
   "outputs": [],
   "source": []
  },
  {
   "cell_type": "code",
   "execution_count": null,
   "metadata": {},
   "outputs": [],
   "source": []
  },
  {
   "cell_type": "code",
   "execution_count": null,
   "metadata": {},
   "outputs": [],
   "source": []
  },
  {
   "cell_type": "code",
   "execution_count": null,
   "metadata": {},
   "outputs": [],
   "source": []
  },
  {
   "cell_type": "code",
   "execution_count": null,
   "metadata": {},
   "outputs": [],
   "source": []
  }
 ],
 "metadata": {
  "kernelspec": {
   "display_name": "Python 3",
   "language": "python",
   "name": "python3"
  },
  "language_info": {
   "codemirror_mode": {
    "name": "ipython",
    "version": 3
   },
   "file_extension": ".py",
   "mimetype": "text/x-python",
   "name": "python",
   "nbconvert_exporter": "python",
   "pygments_lexer": "ipython3",
   "version": "3.8.5"
  }
 },
 "nbformat": 4,
 "nbformat_minor": 4
}
