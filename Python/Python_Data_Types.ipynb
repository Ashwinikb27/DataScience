{
  "nbformat": 4,
  "nbformat_minor": 0,
  "metadata": {
    "kernelspec": {
      "display_name": "Python 3",
      "language": "python",
      "name": "python3"
    },
    "language_info": {
      "codemirror_mode": {
        "name": "ipython",
        "version": 3
      },
      "file_extension": ".py",
      "mimetype": "text/x-python",
      "name": "python",
      "nbconvert_exporter": "python",
      "pygments_lexer": "ipython3",
      "version": "3.8.2"
    },
    "latex_envs": {
      "LaTeX_envs_menu_present": true,
      "autoclose": false,
      "autocomplete": true,
      "bibliofile": "biblio.bib",
      "cite_by": "apalike",
      "current_citInitial": 1,
      "eqLabelWithNumbers": true,
      "eqNumInitial": 1,
      "hotkeys": {
        "equation": "Ctrl-E",
        "itemize": "Ctrl-I"
      },
      "labels_anchors": false,
      "latex_user_defs": false,
      "report_style_numbering": false,
      "user_envs_cfg": false
    },
    "varInspector": {
      "cols": {
        "lenName": 16,
        "lenType": 16,
        "lenVar": 40
      },
      "kernels_config": {
        "python": {
          "delete_cmd_postfix": "",
          "delete_cmd_prefix": "del ",
          "library": "var_list.py",
          "varRefreshCmd": "print(var_dic_list())"
        },
        "r": {
          "delete_cmd_postfix": ") ",
          "delete_cmd_prefix": "rm(",
          "library": "var_list.r",
          "varRefreshCmd": "cat(var_dic_list()) "
        }
      },
      "types_to_exclude": [
        "module",
        "function",
        "builtin_function_or_method",
        "instance",
        "_Feature"
      ],
      "window_display": false
    },
    "colab": {
      "name": "Python_Data_Types.ipynb",
      "provenance": [],
      "collapsed_sections": [],
      "include_colab_link": true
    }
  },
  "cells": [
    {
      "cell_type": "markdown",
      "metadata": {
        "id": "view-in-github",
        "colab_type": "text"
      },
      "source": [
        "<a href=\"https://colab.research.google.com/github/Ashwinikb27/DataScience/blob/main/Python/Python_Data_Types.ipynb\" target=\"_parent\"><img src=\"https://colab.research.google.com/assets/colab-badge.svg\" alt=\"Open In Colab\"/></a>"
      ]
    },
    {
      "cell_type": "code",
      "metadata": {
        "id": "bc2F9sIQOg9Z"
      },
      "source": [
        "# Comments\n",
        "# Data Types\n",
        "    # Fundamental Data Types - Int, Float, Complex, Boolean, None, Strings\n",
        "    # Derived Data Types - List, Tuples, Set, Dictionary, range, frozenset, Bytes, Bytearray\n",
        "    \n",
        "# In Python, everything is an object"
      ],
      "execution_count": null,
      "outputs": []
    },
    {
      "cell_type": "code",
      "metadata": {
        "ExecuteTime": {
          "end_time": "2021-04-13T03:28:56.337395Z",
          "start_time": "2021-04-13T03:28:56.318788Z"
        },
        "scrolled": false,
        "id": "bzLmq2ryOg9j",
        "outputId": "ba69677f-d25d-4474-bee8-a4825767c6a6"
      },
      "source": [
        "# Comments - \n",
        "\n",
        "# This Function takes 2 numbers \n",
        "# as argument and returns the sum of both\n",
        "'''def my_fun(a,b):\n",
        "    return a+b'''\n",
        "\n",
        "# Function call\n",
        "# my_fun(10,20)\n",
        "\n",
        "a = 10\n",
        "a\n",
        "\n",
        "\n",
        "# We should  use comments\n",
        "#     1. To explain yourself\n",
        "#     2. To skip few lines of code\n",
        "\n",
        "\n"
      ],
      "execution_count": null,
      "outputs": [
        {
          "output_type": "execute_result",
          "data": {
            "text/plain": [
              "10"
            ]
          },
          "metadata": {
            "tags": []
          },
          "execution_count": 2
        }
      ]
    },
    {
      "cell_type": "code",
      "metadata": {
        "id": "QgToCTdzQbtE"
      },
      "source": [
        "# Data Types\n",
        "    # Fundamental Data Types - Int, Float, Complex, Boolean, None, Strings"
      ],
      "execution_count": null,
      "outputs": []
    },
    {
      "cell_type": "code",
      "metadata": {
        "colab": {
          "base_uri": "https://localhost:8080/"
        },
        "id": "6l1_FckWP-0a",
        "outputId": "79280f9b-7611-43a6-f81d-8730dc205aba"
      },
      "source": [
        "# Integers\n",
        "    # Any number in python without a decimal point\n",
        "    # e.g. - 10, -10, 0\n",
        "    # id(), type(), sys.getsizeof(), dir(), help()\n",
        "    \n",
        "a = 10\n",
        "print(a)\n",
        "print(id(a)) # memory address\n",
        "print(type(a))\n",
        "print(dir(a))\n",
        "# print(help(a))\n",
        "import sys\n",
        "print(sys.getsizeof(a))  # no.of bytes "
      ],
      "execution_count": 6,
      "outputs": [
        {
          "output_type": "stream",
          "text": [
            "10\n",
            "94227215276832\n",
            "<class 'int'>\n",
            "['__abs__', '__add__', '__and__', '__bool__', '__ceil__', '__class__', '__delattr__', '__dir__', '__divmod__', '__doc__', '__eq__', '__float__', '__floor__', '__floordiv__', '__format__', '__ge__', '__getattribute__', '__getnewargs__', '__gt__', '__hash__', '__index__', '__init__', '__init_subclass__', '__int__', '__invert__', '__le__', '__lshift__', '__lt__', '__mod__', '__mul__', '__ne__', '__neg__', '__new__', '__or__', '__pos__', '__pow__', '__radd__', '__rand__', '__rdivmod__', '__reduce__', '__reduce_ex__', '__repr__', '__rfloordiv__', '__rlshift__', '__rmod__', '__rmul__', '__ror__', '__round__', '__rpow__', '__rrshift__', '__rshift__', '__rsub__', '__rtruediv__', '__rxor__', '__setattr__', '__sizeof__', '__str__', '__sub__', '__subclasshook__', '__truediv__', '__trunc__', '__xor__', 'bit_length', 'conjugate', 'denominator', 'from_bytes', 'imag', 'numerator', 'real', 'to_bytes']\n",
            "28\n"
          ],
          "name": "stdout"
        }
      ]
    },
    {
      "cell_type": "code",
      "metadata": {
        "colab": {
          "base_uri": "https://localhost:8080/"
        },
        "id": "D_UDg0uaP-6C",
        "outputId": "e607e144-6e21-4a78-9f00-e82e07f4652b"
      },
      "source": [
        "# Float\n",
        "    # Any number with a decimal point\n",
        "    # 10.20, -10.20, 0.20\n",
        "    # id(), type(), sys.getsizeof(), dir(), help()\n",
        "    \n",
        "f = 10.20\n",
        "print(f)\n",
        "print(id(f))\n",
        "print(type(f))\n",
        "print(dir(f))\n",
        "import sys\n",
        "print(sys.getsizeof(f))\n",
        "# print(help(f))"
      ],
      "execution_count": 3,
      "outputs": [
        {
          "output_type": "stream",
          "text": [
            "10.2\n",
            "140187124601008\n",
            "<class 'float'>\n",
            "['__abs__', '__add__', '__bool__', '__class__', '__delattr__', '__dir__', '__divmod__', '__doc__', '__eq__', '__float__', '__floordiv__', '__format__', '__ge__', '__getattribute__', '__getformat__', '__getnewargs__', '__gt__', '__hash__', '__init__', '__init_subclass__', '__int__', '__le__', '__lt__', '__mod__', '__mul__', '__ne__', '__neg__', '__new__', '__pos__', '__pow__', '__radd__', '__rdivmod__', '__reduce__', '__reduce_ex__', '__repr__', '__rfloordiv__', '__rmod__', '__rmul__', '__round__', '__rpow__', '__rsub__', '__rtruediv__', '__set_format__', '__setattr__', '__sizeof__', '__str__', '__sub__', '__subclasshook__', '__truediv__', '__trunc__', 'as_integer_ratio', 'conjugate', 'fromhex', 'hex', 'imag', 'is_integer', 'real']\n",
            "24\n"
          ],
          "name": "stdout"
        }
      ]
    },
    {
      "cell_type": "code",
      "metadata": {
        "colab": {
          "base_uri": "https://localhost:8080/"
        },
        "id": "5KDwNrgGP-_4",
        "outputId": "758a36a8-d4da-4670-b998-74248aba087e"
      },
      "source": [
        "# Complex\n",
        "    # Any number in the format a+bj where a is real part, b is imaginary part and j is imaginary value(sqrt(-1))\n",
        "    # 10+20j, 10-20j, -10-20j\n",
        "    # 10 is real and 20 is imaginary part\n",
        "c = 10+20j\n",
        "print(c)\n",
        "print(id(c))\n",
        "print(type(c))\n",
        "print(dir(c))\n",
        "import sys\n",
        "print(sys.getsizeof(c))\n",
        "print(c.real)\n",
        "print(c.imag)\n",
        "# print(help(c))\n",
        "\n",
        "print(dir(c))\n"
      ],
      "execution_count": 5,
      "outputs": [
        {
          "output_type": "stream",
          "text": [
            "(10+20j)\n",
            "140187124678224\n",
            "<class 'complex'>\n",
            "['__abs__', '__add__', '__bool__', '__class__', '__delattr__', '__dir__', '__divmod__', '__doc__', '__eq__', '__float__', '__floordiv__', '__format__', '__ge__', '__getattribute__', '__getnewargs__', '__gt__', '__hash__', '__init__', '__init_subclass__', '__int__', '__le__', '__lt__', '__mod__', '__mul__', '__ne__', '__neg__', '__new__', '__pos__', '__pow__', '__radd__', '__rdivmod__', '__reduce__', '__reduce_ex__', '__repr__', '__rfloordiv__', '__rmod__', '__rmul__', '__rpow__', '__rsub__', '__rtruediv__', '__setattr__', '__sizeof__', '__str__', '__sub__', '__subclasshook__', '__truediv__', 'conjugate', 'imag', 'real']\n",
            "32\n",
            "10.0\n",
            "20.0\n",
            "['__abs__', '__add__', '__bool__', '__class__', '__delattr__', '__dir__', '__divmod__', '__doc__', '__eq__', '__float__', '__floordiv__', '__format__', '__ge__', '__getattribute__', '__getnewargs__', '__gt__', '__hash__', '__init__', '__init_subclass__', '__int__', '__le__', '__lt__', '__mod__', '__mul__', '__ne__', '__neg__', '__new__', '__pos__', '__pow__', '__radd__', '__rdivmod__', '__reduce__', '__reduce_ex__', '__repr__', '__rfloordiv__', '__rmod__', '__rmul__', '__rpow__', '__rsub__', '__rtruediv__', '__setattr__', '__sizeof__', '__str__', '__sub__', '__subclasshook__', '__truediv__', 'conjugate', 'imag', 'real']\n"
          ],
          "name": "stdout"
        }
      ]
    },
    {
      "cell_type": "code",
      "metadata": {
        "ExecuteTime": {
          "end_time": "2021-04-13T04:31:57.320154Z",
          "start_time": "2021-04-13T04:31:57.307180Z"
        },
        "id": "YOD1vQNOOg9p",
        "outputId": "7c3ffc19-f06a-4bef-c6c3-0a60492478e5"
      },
      "source": [
        "\n",
        "# Operators\n",
        "    # Arithmetic -> +, -, *, /(FLoat Division), //(Floor Division), **(Exponent), %(Modulo- returns Remainder) - \n",
        "    # Bitwise -> &, |, ^, ~, <<, >>\n",
        "    # Logical -> and or not\n",
        "    # Comaprison -> <, <=, >, >=\n",
        "    # Equality -> ==, !=\n",
        "    # Assignment -> =\n",
        "    # Compound Assignment -> +=, -=, *=, /=, //=, **=, %=, &=, |=, ^=, ~=, <<=, >>=\n",
        "    # Identity -> is, is not\n",
        "    # Membership - in, not in\n",
        "    # Ternary - expr if else expr\n",
        "\n",
        "\n"
      ],
      "execution_count": null,
      "outputs": [
        {
          "output_type": "stream",
          "text": [
            "10\n",
            "0\n",
            "10\n",
            "0.0\n"
          ],
          "name": "stdout"
        }
      ]
    },
    {
      "cell_type": "code",
      "metadata": {
        "colab": {
          "base_uri": "https://localhost:8080/"
        },
        "id": "CNLHf-sxQpQS",
        "outputId": "a247bd77-da6a-4adb-9dac-98fb0c0cffbf"
      },
      "source": [
        "\n",
        "# Arithmetic -> +, -, *, /(FLoat Division), //(Floor Division), **(Exponent), %(Modulo- returns Remainder)\n",
        "num1 = int(input('Enter 1st Number: '))\n",
        "num2 = int(input('Enter 2nd Number: '))\n",
        "print(num1+num2)\n",
        "print(num1-num2)\n",
        "print(num1*num2)\n",
        "print('...............')\n",
        "# Floor vs Float Division\n",
        "print(num1/num2)       # Float value after division\n",
        "print(num1//num2)      # Floor value after division - Quotient\n",
        "print(num1%num2)       # Returns remainder\n",
        "\n",
        "# Exponet - a**b -> a id base, b is exponent\n",
        "print(num1**num2)\n",
        "print('...............')\n",
        "# To find the Absolute value\n",
        "print(abs(-10))\n",
        "print(pow(10, 3))               # pow(base, exp)\n",
        "print(dir(__builtins__))\n",
        "print('...............')\n",
        "\n",
        "\n",
        "\n",
        "import math    # Math is a module - it is a .py file\n",
        "print(round(math.pi,5))\n",
        "print(dir(int))\n",
        "print(dir(math))\n",
        "print(math.sqrt(4))\n",
        "print(math.ceil(3.0001))\n",
        "print(math.floor(3.0001))\n",
        "\n",
        "\n",
        "# ceil = higest nearest whole number - 4\n",
        "# num = 3.01\n",
        "# floor = lowest nearest whole number - 3"
      ],
      "execution_count": 8,
      "outputs": [
        {
          "output_type": "stream",
          "text": [
            "Enter 1st Number: 12\n",
            "Enter 2nd Number: 32\n",
            "44\n",
            "-20\n",
            "384\n",
            "...............\n",
            "0.375\n",
            "0\n",
            "12\n",
            "34182189187166852111368841966125056\n",
            "...............\n",
            "10\n",
            "1000\n",
            "['ArithmeticError', 'AssertionError', 'AttributeError', 'BaseException', 'BlockingIOError', 'BrokenPipeError', 'BufferError', 'BytesWarning', 'ChildProcessError', 'ConnectionAbortedError', 'ConnectionError', 'ConnectionRefusedError', 'ConnectionResetError', 'DeprecationWarning', 'EOFError', 'Ellipsis', 'EnvironmentError', 'Exception', 'False', 'FileExistsError', 'FileNotFoundError', 'FloatingPointError', 'FutureWarning', 'GeneratorExit', 'IOError', 'ImportError', 'ImportWarning', 'IndentationError', 'IndexError', 'InterruptedError', 'IsADirectoryError', 'KeyError', 'KeyboardInterrupt', 'LookupError', 'MemoryError', 'ModuleNotFoundError', 'NameError', 'None', 'NotADirectoryError', 'NotImplemented', 'NotImplementedError', 'OSError', 'OverflowError', 'PendingDeprecationWarning', 'PermissionError', 'ProcessLookupError', 'RecursionError', 'ReferenceError', 'ResourceWarning', 'RuntimeError', 'RuntimeWarning', 'StopAsyncIteration', 'StopIteration', 'SyntaxError', 'SyntaxWarning', 'SystemError', 'SystemExit', 'TabError', 'TimeoutError', 'True', 'TypeError', 'UnboundLocalError', 'UnicodeDecodeError', 'UnicodeEncodeError', 'UnicodeError', 'UnicodeTranslateError', 'UnicodeWarning', 'UserWarning', 'ValueError', 'Warning', 'ZeroDivisionError', '__IPYTHON__', '__build_class__', '__debug__', '__doc__', '__import__', '__loader__', '__name__', '__package__', '__spec__', 'abs', 'all', 'any', 'ascii', 'bin', 'bool', 'breakpoint', 'bytearray', 'bytes', 'callable', 'chr', 'classmethod', 'compile', 'complex', 'copyright', 'credits', 'delattr', 'dict', 'dir', 'display', 'divmod', 'dreload', 'enumerate', 'eval', 'exec', 'execfile', 'filter', 'float', 'format', 'frozenset', 'get_ipython', 'getattr', 'globals', 'hasattr', 'hash', 'help', 'hex', 'id', 'input', 'int', 'isinstance', 'issubclass', 'iter', 'len', 'license', 'list', 'locals', 'map', 'max', 'memoryview', 'min', 'next', 'object', 'oct', 'open', 'ord', 'pow', 'print', 'property', 'range', 'repr', 'reversed', 'round', 'runfile', 'set', 'setattr', 'slice', 'sorted', 'staticmethod', 'str', 'sum', 'super', 'tuple', 'type', 'vars', 'zip']\n",
            "...............\n",
            "3.14159\n",
            "['__abs__', '__add__', '__and__', '__bool__', '__ceil__', '__class__', '__delattr__', '__dir__', '__divmod__', '__doc__', '__eq__', '__float__', '__floor__', '__floordiv__', '__format__', '__ge__', '__getattribute__', '__getnewargs__', '__gt__', '__hash__', '__index__', '__init__', '__init_subclass__', '__int__', '__invert__', '__le__', '__lshift__', '__lt__', '__mod__', '__mul__', '__ne__', '__neg__', '__new__', '__or__', '__pos__', '__pow__', '__radd__', '__rand__', '__rdivmod__', '__reduce__', '__reduce_ex__', '__repr__', '__rfloordiv__', '__rlshift__', '__rmod__', '__rmul__', '__ror__', '__round__', '__rpow__', '__rrshift__', '__rshift__', '__rsub__', '__rtruediv__', '__rxor__', '__setattr__', '__sizeof__', '__str__', '__sub__', '__subclasshook__', '__truediv__', '__trunc__', '__xor__', 'bit_length', 'conjugate', 'denominator', 'from_bytes', 'imag', 'numerator', 'real', 'to_bytes']\n",
            "['__doc__', '__loader__', '__name__', '__package__', '__spec__', 'acos', 'acosh', 'asin', 'asinh', 'atan', 'atan2', 'atanh', 'ceil', 'copysign', 'cos', 'cosh', 'degrees', 'e', 'erf', 'erfc', 'exp', 'expm1', 'fabs', 'factorial', 'floor', 'fmod', 'frexp', 'fsum', 'gamma', 'gcd', 'hypot', 'inf', 'isclose', 'isfinite', 'isinf', 'isnan', 'ldexp', 'lgamma', 'log', 'log10', 'log1p', 'log2', 'modf', 'nan', 'pi', 'pow', 'radians', 'remainder', 'sin', 'sinh', 'sqrt', 'tan', 'tanh', 'tau', 'trunc']\n",
            "2.0\n",
            "4\n",
            "3\n"
          ],
          "name": "stdout"
        }
      ]
    },
    {
      "cell_type": "code",
      "metadata": {
        "colab": {
          "base_uri": "https://localhost:8080/"
        },
        "id": "Msvf5C2XRexb",
        "outputId": "9cb1368b-ae4c-4f78-c2a0-8166476a10cc"
      },
      "source": [
        "# Bitwise Operators \n",
        "    # These operators works on bits or binary input - 0 & 1\n",
        "    # These operators works only with integers\n",
        "    # &, |, ^, ~, <<, >>\n",
        "    \n",
        "# Bitwise & - Truth Table\n",
        "# 0 & 0 = 0\n",
        "# 0 & 1 = 0\n",
        "# 1 & 0 = 0\n",
        "# 1 & 1 = 1\n",
        "\n",
        "# Bitwise | - Truth Table\n",
        "# 0 | 0 = 0\n",
        "# 0 | 1 = 1\n",
        "# 1 | 0 = 1\n",
        "# 1 | 1 = 1\n",
        "\n",
        "# Bitwise ^ - Truth Table\n",
        "# 0 ^ 0 = 0\n",
        "# 0 ^ 1 = 1\n",
        "# 1 ^ 0 = 1\n",
        "# 1 ^ 1 = 0\n",
        "\n",
        "\n",
        "\n",
        "\n",
        "# Step 1 converts both the numbers to bits - take the remainder va;ue from. bottom to top\n",
        "# Step 2 do the bitwise operation\n",
        "# To get the deciaml equivalent\n",
        "# num      divide by 2      quo        rem\n",
        "# 37          2              18         1\n",
        "# 18          2               9         0\n",
        "# 9           2               4         1\n",
        "# 4           2               2         0\n",
        "# 2           2               1         0\n",
        "# 1           2               0         1\n",
        "\n",
        "\n",
        "\n",
        "# 37 => 100101\n",
        "# 57 => 111001\n",
        "# ===============\n",
        "# &  => 100001\n",
        "# |  => 111101\n",
        "# ^  => 11100\n",
        "\n",
        "# 1    0       0       0      0      1\n",
        "# 32 + 2^4  + 2^3  + 2^2  + 2^1  +   1\n",
        "\n",
        "\n",
        "\n",
        "# Logical Operations - and or not\n",
        "# and Truth Table - False\n",
        "# False and False = False\n",
        "# False and True = False\n",
        "# True and False = False\n",
        "# True and True = True\n",
        "\n",
        "# or Truth Table - True\n",
        "# False and False = False\n",
        "# False and True = True\n",
        "# True and False = True\n",
        "# True and True = True\n",
        "\n",
        "# not Truth Table\n",
        "# not True = False\n",
        "# not False = True\n",
        "\n",
        "\n",
        "\n",
        "# In the case of numbers apart from 0 everyythong is True\n",
        "print(bool(0))\n",
        "print(bool(10))\n",
        "print(bool(10.20))\n",
        "print(bool(0.0))\n",
        "\n",
        "print(0 and 0.0)\n",
        "\n",
        "print(10 or 0)\n",
        "print(0 or 0.0)\n",
        "\n",
        "\n",
        "    "
      ],
      "execution_count": 15,
      "outputs": [
        {
          "output_type": "stream",
          "text": [
            "False\n",
            "True\n",
            "True\n",
            "False\n",
            "0\n",
            "10\n",
            "0.0\n"
          ],
          "name": "stdout"
        }
      ]
    },
    {
      "cell_type": "code",
      "metadata": {
        "colab": {
          "base_uri": "https://localhost:8080/"
        },
        "id": "UR1LKBCaRe2p",
        "outputId": "962b330d-398b-476a-8247-65081377c96a"
      },
      "source": [
        "print(37 & 57)\n",
        "print(37 | 57)\n",
        "print(37 ^ 57)\n",
        "print(bin(57))\n",
        "print(0b11100)"
      ],
      "execution_count": 10,
      "outputs": [
        {
          "output_type": "stream",
          "text": [
            "33\n",
            "61\n",
            "28\n",
            "0b111001\n",
            "28\n"
          ],
          "name": "stdout"
        }
      ]
    },
    {
      "cell_type": "code",
      "metadata": {
        "colab": {
          "base_uri": "https://localhost:8080/"
        },
        "id": "Exg6nUGURe57",
        "outputId": "3bf3017e-280f-4527-ccbf-fe00202f7d27"
      },
      "source": [
        "# Bitwise Negation - ~\n",
        "# ~num = -(num+1)\n",
        "print(~10)\n",
        "print(~-9)\n",
        "print(~True) #-(1+1)"
      ],
      "execution_count": 11,
      "outputs": [
        {
          "output_type": "stream",
          "text": [
            "-11\n",
            "8\n",
            "-2\n"
          ],
          "name": "stdout"
        }
      ]
    },
    {
      "cell_type": "code",
      "metadata": {
        "colab": {
          "base_uri": "https://localhost:8080/"
        },
        "id": "0QvubgKERe_7",
        "outputId": "2b459c65-7c9a-4492-a26c-b7532a0edb7c"
      },
      "source": [
        "# << - left shift - num << no_of_bits => (num*(2**no_of_bits))\n",
        "print(57 << 3)\n",
        "print(57 * (2**3))\n",
        "print('--------------------')\n",
        "# >> right shift operation - num >> no_of_bits => (num//(2**no_of_bits))\n",
        "print(57 >> 3)\n",
        "print(57 // (2**3))"
      ],
      "execution_count": 12,
      "outputs": [
        {
          "output_type": "stream",
          "text": [
            "456\n",
            "456\n",
            "--------------------\n",
            "7\n",
            "7\n"
          ],
          "name": "stdout"
        }
      ]
    },
    {
      "cell_type": "code",
      "metadata": {
        "colab": {
          "base_uri": "https://localhost:8080/"
        },
        "id": "G3Y7uUQnStrP",
        "outputId": "d90c0c5d-c408-461b-8896-4ff2543aad89"
      },
      "source": [
        "# if (A and B are some object or value except booelan)\n",
        "# A and B => if A is False the result will be A otherwise result will be B\n",
        "# A or B => if A is True the result will be A otherwise result will be B\n",
        "\n",
        "\n",
        "\n",
        "print(20 and 10)\n",
        "# 1. Boolean True/False\n",
        "# 2. 10/20   -> Correct\n",
        "# 3. Error"
      ],
      "execution_count": 14,
      "outputs": [
        {
          "output_type": "stream",
          "text": [
            "10\n"
          ],
          "name": "stdout"
        }
      ]
    },
    {
      "cell_type": "code",
      "metadata": {
        "colab": {
          "base_uri": "https://localhost:8080/"
        },
        "id": "vv1BShGiRfCV",
        "outputId": "d5bcd6eb-0578-418d-ce2f-20e149139201"
      },
      "source": [
        "print((10<20) and (10==10))  \n",
        "print((10<20) and (10!=10))\n",
        "print('--------------------')\n",
        "print((10<20) or (10==10))\n",
        "print((10<20) or (10!=10))"
      ],
      "execution_count": 13,
      "outputs": [
        {
          "output_type": "stream",
          "text": [
            "True\n",
            "False\n",
            "--------------------\n",
            "True\n",
            "True\n"
          ],
          "name": "stdout"
        }
      ]
    },
    {
      "cell_type": "code",
      "metadata": {
        "ExecuteTime": {
          "end_time": "2021-04-13T03:34:06.265291Z",
          "start_time": "2021-04-13T03:34:06.257589Z"
        },
        "id": "soN4ZGr6Og9z",
        "outputId": "8d5c6270-e361-4261-cf9d-82f45b38d234"
      },
      "source": [
        "print(dir(__doc__))\n"
      ],
      "execution_count": null,
      "outputs": [
        {
          "output_type": "stream",
          "text": [
            "['__add__', '__class__', '__contains__', '__delattr__', '__dir__', '__doc__', '__eq__', '__format__', '__ge__', '__getattribute__', '__getitem__', '__getnewargs__', '__gt__', '__hash__', '__init__', '__init_subclass__', '__iter__', '__le__', '__len__', '__lt__', '__mod__', '__mul__', '__ne__', '__new__', '__reduce__', '__reduce_ex__', '__repr__', '__rmod__', '__rmul__', '__setattr__', '__sizeof__', '__str__', '__subclasshook__', 'capitalize', 'casefold', 'center', 'count', 'encode', 'endswith', 'expandtabs', 'find', 'format', 'format_map', 'index', 'isalnum', 'isalpha', 'isascii', 'isdecimal', 'isdigit', 'isidentifier', 'islower', 'isnumeric', 'isprintable', 'isspace', 'istitle', 'isupper', 'join', 'ljust', 'lower', 'lstrip', 'maketrans', 'partition', 'replace', 'rfind', 'rindex', 'rjust', 'rpartition', 'rsplit', 'rstrip', 'split', 'splitlines', 'startswith', 'strip', 'swapcase', 'title', 'translate', 'upper', 'zfill']\n"
          ],
          "name": "stdout"
        }
      ]
    },
    {
      "cell_type": "code",
      "metadata": {
        "id": "QBGOsq91Og91"
      },
      "source": [
        "# Object Reusability"
      ],
      "execution_count": null,
      "outputs": []
    },
    {
      "cell_type": "code",
      "metadata": {
        "ExecuteTime": {
          "end_time": "2021-04-13T03:41:19.901875Z",
          "start_time": "2021-04-13T03:41:18.816915Z"
        },
        "id": "4ky6_Qz5Og92",
        "outputId": "940424fc-30bc-4f19-cf27-229969c6928b"
      },
      "source": [
        "age = input('Enter your age: ')\n",
        "print(age)\n",
        "print(type(age))"
      ],
      "execution_count": null,
      "outputs": [
        {
          "output_type": "stream",
          "text": [
            "Enter your age: 10\n",
            "10\n",
            "<class 'int'>\n"
          ],
          "name": "stdout"
        }
      ]
    },
    {
      "cell_type": "code",
      "metadata": {
        "ExecuteTime": {
          "end_time": "2021-04-13T03:45:09.709193Z",
          "start_time": "2021-04-13T03:44:57.363202Z"
        },
        "id": "Q0_vci-mOg95",
        "colab": {
          "base_uri": "https://localhost:8080/"
        },
        "outputId": "518cfee7-184d-4307-c30a-efef7df6c51f"
      },
      "source": [
        "num1 = int(input('Enter 1st Number: '))\n",
        "num2 = int(input('Enter 2nd Number: '))\n",
        "print(num1, type(num1))\n",
        "print(num2, type(num2))\n",
        "print(num1+num2)\n",
        "print(int(num1) + int(num2))"
      ],
      "execution_count": 16,
      "outputs": [
        {
          "output_type": "stream",
          "text": [
            "Enter 1st Number: 10\n",
            "Enter 2nd Number: 20\n",
            "10 <class 'int'>\n",
            "20 <class 'int'>\n",
            "30\n",
            "30\n"
          ],
          "name": "stdout"
        }
      ]
    },
    {
      "cell_type": "code",
      "metadata": {
        "id": "8s3sX5NTOg97"
      },
      "source": [
        ""
      ],
      "execution_count": null,
      "outputs": []
    },
    {
      "cell_type": "code",
      "metadata": {
        "id": "n5OxoFEfOg98"
      },
      "source": [
        ""
      ],
      "execution_count": null,
      "outputs": []
    },
    {
      "cell_type": "code",
      "metadata": {
        "id": "_RwgRbhnOg99"
      },
      "source": [
        ""
      ],
      "execution_count": null,
      "outputs": []
    },
    {
      "cell_type": "code",
      "metadata": {
        "id": "QStU04MKOg99"
      },
      "source": [
        ""
      ],
      "execution_count": null,
      "outputs": []
    },
    {
      "cell_type": "code",
      "metadata": {
        "id": "RcAS4ES8Og9-"
      },
      "source": [
        ""
      ],
      "execution_count": null,
      "outputs": []
    },
    {
      "cell_type": "code",
      "metadata": {
        "id": "hGMiEDlKOg9_"
      },
      "source": [
        ""
      ],
      "execution_count": null,
      "outputs": []
    },
    {
      "cell_type": "code",
      "metadata": {
        "id": "n4demRpGOg-A"
      },
      "source": [
        ""
      ],
      "execution_count": null,
      "outputs": []
    },
    {
      "cell_type": "code",
      "metadata": {
        "id": "UBHpSy6UOg-A"
      },
      "source": [
        ""
      ],
      "execution_count": null,
      "outputs": []
    },
    {
      "cell_type": "code",
      "metadata": {
        "id": "UPozjMfZOg-B"
      },
      "source": [
        ""
      ],
      "execution_count": null,
      "outputs": []
    },
    {
      "cell_type": "code",
      "metadata": {
        "id": "sJUg9z-MOg-C"
      },
      "source": [
        ""
      ],
      "execution_count": null,
      "outputs": []
    },
    {
      "cell_type": "code",
      "metadata": {
        "id": "jdrYlP7UOg-C"
      },
      "source": [
        ""
      ],
      "execution_count": null,
      "outputs": []
    },
    {
      "cell_type": "code",
      "metadata": {
        "id": "0gZ4tJXtOg-D"
      },
      "source": [
        ""
      ],
      "execution_count": null,
      "outputs": []
    },
    {
      "cell_type": "code",
      "metadata": {
        "id": "9cw0OKpPOg-E"
      },
      "source": [
        ""
      ],
      "execution_count": null,
      "outputs": []
    },
    {
      "cell_type": "code",
      "metadata": {
        "id": "XjsCXepWOg-F"
      },
      "source": [
        ""
      ],
      "execution_count": null,
      "outputs": []
    },
    {
      "cell_type": "code",
      "metadata": {
        "id": "98HcGch1Og-G"
      },
      "source": [
        ""
      ],
      "execution_count": null,
      "outputs": []
    },
    {
      "cell_type": "code",
      "metadata": {
        "id": "WUsIHWNUOg-G"
      },
      "source": [
        ""
      ],
      "execution_count": null,
      "outputs": []
    },
    {
      "cell_type": "code",
      "metadata": {
        "id": "Vtt1hBkHOg-H"
      },
      "source": [
        ""
      ],
      "execution_count": null,
      "outputs": []
    },
    {
      "cell_type": "code",
      "metadata": {
        "id": "D6KW_No6Og-I"
      },
      "source": [
        ""
      ],
      "execution_count": null,
      "outputs": []
    },
    {
      "cell_type": "code",
      "metadata": {
        "id": "Yamgz_ozOg-I"
      },
      "source": [
        ""
      ],
      "execution_count": null,
      "outputs": []
    },
    {
      "cell_type": "code",
      "metadata": {
        "id": "qRfk0WSCOg-J"
      },
      "source": [
        ""
      ],
      "execution_count": null,
      "outputs": []
    },
    {
      "cell_type": "code",
      "metadata": {
        "id": "nSp2r-U8Og-J"
      },
      "source": [
        ""
      ],
      "execution_count": null,
      "outputs": []
    },
    {
      "cell_type": "code",
      "metadata": {
        "id": "1ltJRP_pOg-K"
      },
      "source": [
        ""
      ],
      "execution_count": null,
      "outputs": []
    },
    {
      "cell_type": "code",
      "metadata": {
        "id": "zhHYt_8iOg-L"
      },
      "source": [
        ""
      ],
      "execution_count": null,
      "outputs": []
    },
    {
      "cell_type": "code",
      "metadata": {
        "id": "eKDdWyYKOg-L"
      },
      "source": [
        ""
      ],
      "execution_count": null,
      "outputs": []
    },
    {
      "cell_type": "code",
      "metadata": {
        "id": "0pIK1brcOg-M"
      },
      "source": [
        ""
      ],
      "execution_count": null,
      "outputs": []
    },
    {
      "cell_type": "code",
      "metadata": {
        "id": "ajt1ONMcOg-M"
      },
      "source": [
        ""
      ],
      "execution_count": null,
      "outputs": []
    },
    {
      "cell_type": "code",
      "metadata": {
        "id": "nw-epD-zOg-N"
      },
      "source": [
        ""
      ],
      "execution_count": null,
      "outputs": []
    },
    {
      "cell_type": "code",
      "metadata": {
        "id": "F_DTVZPiOg-N"
      },
      "source": [
        ""
      ],
      "execution_count": null,
      "outputs": []
    },
    {
      "cell_type": "code",
      "metadata": {
        "id": "HMGxJDifOg-O"
      },
      "source": [
        ""
      ],
      "execution_count": null,
      "outputs": []
    },
    {
      "cell_type": "code",
      "metadata": {
        "id": "F2Pa59jeOg-P"
      },
      "source": [
        ""
      ],
      "execution_count": null,
      "outputs": []
    },
    {
      "cell_type": "code",
      "metadata": {
        "id": "oGoF_qs9Og-P"
      },
      "source": [
        ""
      ],
      "execution_count": null,
      "outputs": []
    },
    {
      "cell_type": "code",
      "metadata": {
        "id": "_QCzWSVAOg-Q"
      },
      "source": [
        ""
      ],
      "execution_count": null,
      "outputs": []
    }
  ]
}