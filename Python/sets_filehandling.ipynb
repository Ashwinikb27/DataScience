{
 "cells": [
  {
   "cell_type": "code",
   "execution_count": 5,
   "metadata": {},
   "outputs": [
    {
     "name": "stdout",
     "output_type": "stream",
     "text": [
      "2\n"
     ]
    }
   ],
   "source": [
    "# Python Program to Count the Number of Vowels Present\n",
    "# in a String using Sets:\n",
    "\n",
    "str='Ashwini'\n",
    "count=0\n",
    "set1=set(str.lower())\n",
    "# print(set1)\n",
    "vowel='aeiou'\n",
    "for i in set1:\n",
    "    if i in vowel:\n",
    "        count+=1\n",
    "print(count)"
   ]
  },
  {
   "cell_type": "code",
   "execution_count": 7,
   "metadata": {},
   "outputs": [
    {
     "name": "stdout",
     "output_type": "stream",
     "text": [
      "First string:Ashwini\n",
      "Second string:Ashu\n",
      "{'A', 's', 'h'}\n",
      "{'A', 's', 'h'}\n"
     ]
    }
   ],
   "source": [
    "# Python Program to Check Common Letters in Two Input Strings:\n",
    "str1=set(input('First string:'))\n",
    "str2=set(input('Second string:'))\n",
    "common=str1.intersection(str2)\n",
    "print(common)\n",
    "# x=str1&str2\n",
    "# print(x)\n"
   ]
  },
  {
   "cell_type": "code",
   "execution_count": 8,
   "metadata": {},
   "outputs": [
    {
     "name": "stdout",
     "output_type": "stream",
     "text": [
      "First string:Ashwini\n",
      "Second string:Ashu\n",
      "{'i', 'n', 'w'}\n"
     ]
    }
   ],
   "source": [
    "# Python Program that Displays which Letters are in the\n",
    "# First String but not in the Second:\n",
    "str1=set(input('First string:'))\n",
    "str2=set(input('Second string:'))\n",
    "unique_str2=str1.difference(str2)\n",
    "# unique_str2=str1-str2\n",
    "print(unique_str2)"
   ]
  },
  {
   "cell_type": "code",
   "execution_count": 9,
   "metadata": {},
   "outputs": [
    {
     "name": "stdout",
     "output_type": "stream",
     "text": [
      "First string:Ashwini\n",
      "Second string:Anand\n",
      "{'i', 'A', 's', 'd', 'n', 'a', 'h', 'w'}\n"
     ]
    }
   ],
   "source": [
    "# Python Program that Displays which Letters are Present\n",
    "# in Both the Strings:\n",
    "\n",
    "str1=set(input('First string:'))\n",
    "str2=set(input('Second string:'))\n",
    "letters=str1.union(str2)\n",
    "# letters=str1 | str2\n",
    "print(letters)"
   ]
  },
  {
   "cell_type": "code",
   "execution_count": 11,
   "metadata": {},
   "outputs": [
    {
     "name": "stdout",
     "output_type": "stream",
     "text": [
      "First string:Ashwini\n",
      "Second string:Anand\n",
      "{'i', 'd', 's', 'a', 'h', 'w'}\n"
     ]
    }
   ],
   "source": [
    "# Python Program that Displays which Letters are in the\n",
    "# Two Strings but not in Both:\n",
    "\n",
    "str1=set(input('First string:'))\n",
    "str2=set(input('Second string:'))\n",
    "notcommon=str1.symmetric_difference(str2)\n",
    "# notcommon=str1^str2\n",
    "print(notcommon)\n"
   ]
  },
  {
   "cell_type": "markdown",
   "metadata": {},
   "source": [
    "File Handling:"
   ]
  },
  {
   "cell_type": "code",
   "execution_count": 2,
   "metadata": {},
   "outputs": [
    {
     "name": "stdout",
     "output_type": "stream",
     "text": [
      "python class\n",
      "Machine learning\n"
     ]
    }
   ],
   "source": [
    "# Python Program to Read the Contents of a File\n",
    "\n",
    "with open('file2.txt','r') as f:\n",
    "    print(f.read())\n",
    "    "
   ]
  },
  {
   "cell_type": "code",
   "execution_count": 4,
   "metadata": {},
   "outputs": [
    {
     "name": "stdout",
     "output_type": "stream",
     "text": [
      "4\n"
     ]
    }
   ],
   "source": [
    "# Python Program to Count the Number of Words in a Text File\n",
    "\n",
    "with open('file2.txt','r') as f:\n",
    "    count=0\n",
    "    print(len(f.read().split()))\n",
    "    "
   ]
  },
  {
   "cell_type": "code",
   "execution_count": 6,
   "metadata": {},
   "outputs": [
    {
     "name": "stdout",
     "output_type": "stream",
     "text": [
      "Data science\n"
     ]
    }
   ],
   "source": [
    "# Python Program to Read a String from the User and Append it into a File\n",
    "\n",
    "with open('file2.txt','a') as f:\n",
    "    str=input('')\n",
    "    f.write(str)\n",
    "    "
   ]
  },
  {
   "cell_type": "code",
   "execution_count": null,
   "metadata": {},
   "outputs": [],
   "source": []
  },
  {
   "cell_type": "code",
   "execution_count": null,
   "metadata": {},
   "outputs": [],
   "source": []
  },
  {
   "cell_type": "code",
   "execution_count": null,
   "metadata": {},
   "outputs": [],
   "source": []
  },
  {
   "cell_type": "code",
   "execution_count": null,
   "metadata": {},
   "outputs": [],
   "source": []
  }
 ],
 "metadata": {
  "kernelspec": {
   "display_name": "Python 3",
   "language": "python",
   "name": "python3"
  },
  "language_info": {
   "codemirror_mode": {
    "name": "ipython",
    "version": 3
   },
   "file_extension": ".py",
   "mimetype": "text/x-python",
   "name": "python",
   "nbconvert_exporter": "python",
   "pygments_lexer": "ipython3",
   "version": "3.8.5"
  }
 },
 "nbformat": 4,
 "nbformat_minor": 4
}
