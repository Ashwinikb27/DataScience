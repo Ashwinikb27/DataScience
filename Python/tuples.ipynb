{
 "cells": [
  {
   "cell_type": "code",
   "execution_count": 1,
   "metadata": {},
   "outputs": [
    {
     "name": "stdout",
     "output_type": "stream",
     "text": [
      "(10, 20, 30, 40) <class 'tuple'>\n"
     ]
    }
   ],
   "source": [
    "# Tuple  - is similar to list\n",
    "# all the elements should be kept inside small \n",
    "# brackets(Optional) and separated by comma\n",
    "\n",
    "# Creation of tuple\n",
    "\n",
    "# If you know the elements in advance\n",
    "tpl = 10,20,30,40\n",
    "print(tpl, type(tpl))"
   ]
  },
  {
   "cell_type": "code",
   "execution_count": 2,
   "metadata": {},
   "outputs": [
    {
     "name": "stdout",
     "output_type": "stream",
     "text": [
      "Enter a list: 20,5,8,4,3\n",
      "(20, 5, 8, 4, 3) <class 'tuple'>\n"
     ]
    }
   ],
   "source": [
    "# Taking user input\n",
    "tpl1 = eval(input('Enter a list: '))\n",
    "print(tpl1, type(tpl1))"
   ]
  },
  {
   "cell_type": "code",
   "execution_count": 3,
   "metadata": {},
   "outputs": [
    {
     "name": "stdout",
     "output_type": "stream",
     "text": [
      "('P', 'y', 't', 'h', 'o', 'n')\n",
      "(10, 20, 30, 40)\n",
      "(40, 10, 20, 30)\n",
      "(1, 2, 3, 4)\n"
     ]
    }
   ],
   "source": [
    "# Using tuple(Iterable)\n",
    "# creating a tuple from string\n",
    "print(tuple('Python'))\n",
    "print(tuple([10,20,30,40]))\n",
    "print(tuple({10,20,30,40}))\n",
    "print(tuple({1:10,2:20,3:30,4:40}))"
   ]
  },
  {
   "cell_type": "code",
   "execution_count": 4,
   "metadata": {},
   "outputs": [
    {
     "name": "stdout",
     "output_type": "stream",
     "text": [
      "(10,) <class 'tuple'>\n"
     ]
    }
   ],
   "source": [
    "# Creating a tuple with single element\n",
    "tpl = (10,)\n",
    "print(tpl, type(tpl))\n"
   ]
  },
  {
   "cell_type": "code",
   "execution_count": null,
   "metadata": {},
   "outputs": [],
   "source": [
    "# Properties of Tuple:-\n",
    "# 1. Tuple is a seq\n",
    "# 2. It is an ordered collection of the elements -> The\n",
    "# elements are indexed\n",
    "# 3. Tuple also supports +ve and -ve indexing\n",
    "#     +ve indexing starts from 0 from LHS and -ve indexing \n",
    "# starts from -1 from RHS\n",
    "# 4. Tuple supports Indexing and slicing both\n",
    "# 5. It is immutable - \n",
    "# 6. It allows the duplicate elements\n",
    "# 7. Basic operation - Indexing, slicing, Concatenation, \n",
    "# Repetition, Membership, Identity operator\n",
    "# 8. It can hold any data as it's elements"
   ]
  },
  {
   "cell_type": "code",
   "execution_count": null,
   "metadata": {},
   "outputs": [],
   "source": [
    "# Methods in tuple\n",
    "# print(dir(tpl))"
   ]
  },
  {
   "cell_type": "code",
   "execution_count": 7,
   "metadata": {},
   "outputs": [
    {
     "name": "stdout",
     "output_type": "stream",
     "text": [
      "(100, 200, 300, 400) <class 'tuple'>\n"
     ]
    }
   ],
   "source": [
    "#  'count', 'index'\n",
    "\n",
    "# Tuple packing and unpacking\n",
    "\n",
    "# Tuple packing\n",
    "a = 100\n",
    "b = 200\n",
    "c = 300\n",
    "d = 400\n",
    "tpl = a,b,c,d     \n",
    "# Tuple packing - packing or assiging multiple values to a single variable\n",
    "print(tpl, type(tpl))"
   ]
  },
  {
   "cell_type": "code",
   "execution_count": 6,
   "metadata": {},
   "outputs": [
    {
     "name": "stdout",
     "output_type": "stream",
     "text": [
      "111\n",
      "222\n",
      "333\n",
      "444\n",
      "555\n",
      "666\n",
      "(111, 222, 333, 444, 555, 666)\n",
      "6\n"
     ]
    }
   ],
   "source": [
    "# Unpacking fetching th eindividual value from atuple\n",
    "tpl1 = (111,222,333,444,555,666)\n",
    "a,b,c,d,e,f = tpl1   # tuple unpacking\n",
    "print(a)\n",
    "print(b)\n",
    "print(c)\n",
    "print(d)\n",
    "print(e)\n",
    "print(f)\n",
    "\n",
    "\n",
    "print(tpl1)\n",
    "# In unpacking, no of variabe on LHS and no of elements should match\n",
    "print(len(tpl1))"
   ]
  },
  {
   "cell_type": "code",
   "execution_count": null,
   "metadata": {},
   "outputs": [],
   "source": []
  }
 ],
 "metadata": {
  "kernelspec": {
   "display_name": "Python 3",
   "language": "python",
   "name": "python3"
  },
  "language_info": {
   "codemirror_mode": {
    "name": "ipython",
    "version": 3
   },
   "file_extension": ".py",
   "mimetype": "text/x-python",
   "name": "python",
   "nbconvert_exporter": "python",
   "pygments_lexer": "ipython3",
   "version": "3.8.5"
  }
 },
 "nbformat": 4,
 "nbformat_minor": 4
}
