{
 "cells": [
  {
   "cell_type": "code",
   "execution_count": 5,
   "metadata": {},
   "outputs": [
    {
     "name": "stdout",
     "output_type": "stream",
     "text": [
      "1.19.2\n"
     ]
    }
   ],
   "source": [
    "# Write a Python program to print the NumPy version in your system.\n",
    "\n",
    "import numpy as np\n",
    "print(np.__version__)\n",
    "    "
   ]
  },
  {
   "cell_type": "code",
   "execution_count": 2,
   "metadata": {},
   "outputs": [
    {
     "data": {
      "text/plain": [
       "array([5, 4, 3, 2, 1])"
      ]
     },
     "execution_count": 2,
     "metadata": {},
     "output_type": "execute_result"
    }
   ],
   "source": [
    "# Write a Python program to reverse an array(first element becomes last).\n",
    "\n",
    "x=np.array([1,2,3,4,5])\n",
    "x[::-1]\n"
   ]
  },
  {
   "cell_type": "code",
   "execution_count": 7,
   "metadata": {},
   "outputs": [
    {
     "name": "stdout",
     "output_type": "stream",
     "text": [
      "[[1 2 3 4 5]\n",
      " [8 9 4 5 6]]\n",
      "[6 7 8 9 1]\n"
     ]
    }
   ],
   "source": [
    "# Write a Python program to convert a list and tuple into arrays.\n",
    "\n",
    "tpl=([1,2,3,4,5],[8,9,4,5,6])\n",
    "lst=[6,7,8,9,1]\n",
    "print(np.asarray(tpl))\n",
    "print(np.array(lst))"
   ]
  },
  {
   "cell_type": "code",
   "execution_count": 15,
   "metadata": {},
   "outputs": [
    {
     "name": "stdout",
     "output_type": "stream",
     "text": [
      "[1 4 5]\n"
     ]
    }
   ],
   "source": [
    "# Write a Python program to find common values between two arrays.\n",
    "\n",
    "arr1=np.array([1,2,3,4,5])\n",
    "arr2=np.array([4,5,6,7,1])\n",
    "print(np.intersect1d(arr1,arr2))\n"
   ]
  },
  {
   "cell_type": "code",
   "execution_count": 21,
   "metadata": {},
   "outputs": [
    {
     "name": "stdout",
     "output_type": "stream",
     "text": [
      "[False False False False  True]\n",
      "[False False False False  True]\n"
     ]
    }
   ],
   "source": [
    "# Write a Python program compare two arrays using numpy.\n",
    "\n",
    "arr1=np.array([1,2,3,4,5])\n",
    "arr2=np.array([4,5,6,7,1])\n",
    "print(arr1>=arr2)\n"
   ]
  },
  {
   "cell_type": "code",
   "execution_count": 29,
   "metadata": {},
   "outputs": [
    {
     "name": "stdout",
     "output_type": "stream",
     "text": [
      "[[ 1  2]\n",
      " [ 3  4]\n",
      " [ 5  6]\n",
      " [ 7  8]\n",
      " [ 9 10]]\n",
      "\n",
      "[[ 1  2  3  4  5]\n",
      " [ 6  7  8  9 10]]\n"
     ]
    }
   ],
   "source": [
    "# Write a Python program to change the dimension of an array.\n",
    "\n",
    "arr1=np.array([1,2,3,4,5,6,7,8,9,10])\n",
    "print(np.array(arr1).reshape(5,2))\n",
    "# or\n",
    "print()\n",
    "arr1.shape=(2,5)\n",
    "print(arr1)"
   ]
  },
  {
   "cell_type": "code",
   "execution_count": 10,
   "metadata": {},
   "outputs": [
    {
     "name": "stdout",
     "output_type": "stream",
     "text": [
      "[ 0  3  5  6  9 10 12 15 18 20 21 24 25 27 30 33 35 36 39 40 42 45 48 50\n",
      " 51 54 55 57 60 63 65 66 69 70 72 75 78 80 81 84 85 87 90 93 95 96 99]\n",
      "2318\n"
     ]
    }
   ],
   "source": [
    "# Write a Python program (using numpy) to sum of all the multiples of 3 or 5 below 100.\n",
    "\n",
    "arr1=np.arange(100)\n",
    "arr2=arr1[(arr1%3==0) | (arr1%5==0)]\n",
    "print(arr2)\n",
    "print(np.sum(arr1[(arr1%3==0) | (arr1%5==0)]))\n"
   ]
  },
  {
   "cell_type": "code",
   "execution_count": 36,
   "metadata": {},
   "outputs": [
    {
     "name": "stdout",
     "output_type": "stream",
     "text": [
      "[[ 0  1  2  3  4]\n",
      " [ 5  6  7  8  9]\n",
      " [10 11 12 13 14]\n",
      " [15 16 17 18 19]]\n",
      "\n",
      " [[0, 1, 2, 3, 4], [5, 6, 7, 8, 9], [10, 11, 12, 13, 14], [15, 16, 17, 18, 19]]\n"
     ]
    }
   ],
   "source": [
    "# Write a Python program to convert a NumPy array into Python list structure.\n",
    "\n",
    "arr1=np.arange(20).reshape(4,5)\n",
    "print(arr1)\n",
    "print('\\n',arr1.tolist())"
   ]
  },
  {
   "cell_type": "code",
   "execution_count": 22,
   "metadata": {},
   "outputs": [
    {
     "name": "stdout",
     "output_type": "stream",
     "text": [
      "[[1 2 3 9]\n",
      " [2 6 7 4]]\n"
     ]
    }
   ],
   "source": [
    "# Write a Python program to how to add an extra column to a numpy array.\n",
    "\n",
    "arr1=np.array([[1,2,3],[2,6,7]])\n",
    "arr2=np.array([[9],[4]])           # As two rows present in first array so give here 2row element \n",
    "print(np.append(arr1,arr2,axis=1))"
   ]
  },
  {
   "cell_type": "code",
   "execution_count": 44,
   "metadata": {},
   "outputs": [
    {
     "name": "stdout",
     "output_type": "stream",
     "text": [
      "Enter an array:\n",
      "[]\n",
      "Empty\n"
     ]
    }
   ],
   "source": [
    "# Write a Python program to check whether the numpy array is empty or not.\n",
    "\n",
    "\n",
    "x=eval(input('Enter an array:\\n'))\n",
    "arr1=np.array(x)\n",
    "arr_size=arr1.size\n",
    "if arr_size==0:\n",
    "    print('Empty')\n",
    "else:\n",
    "    print('Not empty')\n"
   ]
  },
  {
   "cell_type": "code",
   "execution_count": 51,
   "metadata": {},
   "outputs": [
    {
     "name": "stdout",
     "output_type": "stream",
     "text": [
      "Befor normalization \n",
      " [[0.36230734 0.03681539 0.620975  ]\n",
      " [0.32932979 0.61288747 0.401199  ]\n",
      " [0.71563221 0.9063843  0.37897441]]\n",
      "\n",
      "After normalization \n",
      " [[0.37431416 0.         0.6717807 ]\n",
      " [0.33639013 0.66248008 0.41903937]\n",
      " [0.78063603 1.         0.3934812 ]]\n"
     ]
    }
   ],
   "source": [
    "# Write a Python program to normalize a 3x3 random matrix.\n",
    "\n",
    "arr1=np.random.random((3,3))\n",
    "print('Befor normalization \\n',arr1)\n",
    "a_min,a_max=arr1.min(),arr1.max()\n",
    "print()\n",
    "print('After normalization \\n',(arr1-a_min)/(a_max-a_min))"
   ]
  },
  {
   "cell_type": "code",
   "execution_count": null,
   "metadata": {},
   "outputs": [],
   "source": [
    "How to ignore all numpy warnings (not recommended)?"
   ]
  },
  {
   "cell_type": "code",
   "execution_count": 40,
   "metadata": {},
   "outputs": [
    {
     "name": "stdout",
     "output_type": "stream",
     "text": [
      "[[ 1  2  3  4  5  6]\n",
      " [ 7  8  9 10 11 12]]\n"
     ]
    },
    {
     "data": {
      "text/plain": [
       "array([[ 7,  8,  9, 10, 11, 12],\n",
       "       [ 1,  2,  3,  4,  5,  6]])"
      ]
     },
     "execution_count": 40,
     "metadata": {},
     "output_type": "execute_result"
    }
   ],
   "source": [
    "# How to swap two rows of an array?\n",
    "\n",
    "# arr=np.arange(1,13).reshape(2,-1)\n",
    "# print(arr)\n",
    "# arr=arr[::-1]\n",
    "# arr\n",
    "\n",
    "arr=np.arange(1,13).reshape(2,-1)\n",
    "print(arr)\n",
    "arr[[0,1]]=arr[[1,0]]\n",
    "arr"
   ]
  },
  {
   "cell_type": "code",
   "execution_count": 41,
   "metadata": {},
   "outputs": [
    {
     "name": "stdout",
     "output_type": "stream",
     "text": [
      "[-0.15122776  0.25918165]\n"
     ]
    }
   ],
   "source": [
    "# Compute bootstrapped 95% confidence intervals for the mean of a 1D array X (i.e.,\n",
    "# resample the elements of an array with replacement N times, compute the mean of\n",
    "# each sample, and then compute percentiles over the means).\n",
    "\n",
    "X = np.random.randn(100) # random 1D array\n",
    "N = 1000 # number of bootstrap samples\n",
    "idx = np.random.randint(0, X.size, (N, X.size))\n",
    "means = X[idx].mean(axis=1)\n",
    "confint = np.percentile(means, [2.5, 97.5])\n",
    "print(confint)"
   ]
  },
  {
   "cell_type": "code",
   "execution_count": 47,
   "metadata": {},
   "outputs": [
    {
     "name": "stdout",
     "output_type": "stream",
     "text": [
      "[ 0.56871839  0.92243851  1.38955173  0.39279317 -0.18495816 -0.92428905\n",
      "  1.0163717  -0.30789897  0.6435375  -1.55289537]\n"
     ]
    },
    {
     "data": {
      "text/plain": [
       "array([-1.55289537, -0.92428905, -0.30789897, -0.18495816,  0.39279317,\n",
       "        0.56871839,  0.6435375 ,  0.92243851,  1.0163717 ,  1.38955173])"
      ]
     },
     "execution_count": 47,
     "metadata": {},
     "output_type": "execute_result"
    }
   ],
   "source": [
    "# Python program to create a random vector of size 10 and sort it.\n",
    "\n",
    "x=np.random.randn(10)\n",
    "print(x)\n",
    "x=np.sort(x)\n",
    "x"
   ]
  },
  {
   "cell_type": "code",
   "execution_count": 51,
   "metadata": {},
   "outputs": [
    {
     "name": "stdout",
     "output_type": "stream",
     "text": [
      "True\n"
     ]
    }
   ],
   "source": [
    "# Write a Python program to check two random arrays are equal or not.\n",
    "arr1=np.random.randn(0,2,10)\n",
    "arr2=np.random.randn(0,2,10)\n",
    "arr_equal=np.allclose(arr1,arr2)\n",
    "print(arr_equal)"
   ]
  },
  {
   "cell_type": "code",
   "execution_count": 66,
   "metadata": {},
   "outputs": [
    {
     "name": "stdout",
     "output_type": "stream",
     "text": [
      "[[ 1  2  3]\n",
      " [ 4  5  6]\n",
      " [ 7  8  9]\n",
      " [10 11 12]]\n",
      "\n",
      " [[ 2  4  6]\n",
      " [ 8 10 12]\n",
      " [14 16 18]\n",
      " [20 22 24]]\n",
      "\n",
      " [[0 0 0]\n",
      " [0 0 0]\n",
      " [0 0 0]\n",
      " [0 0 0]]\n",
      "\n",
      " [[  1   4   9]\n",
      " [ 16  25  36]\n",
      " [ 49  64  81]\n",
      " [100 121 144]]\n",
      "\n",
      " [[1. 1. 1.]\n",
      " [1. 1. 1.]\n",
      " [1. 1. 1.]\n",
      " [1. 1. 1.]]\n"
     ]
    }
   ],
   "source": [
    "# Write a Python program to add, subtract,multiply, divide arguments element-wise.\n",
    "\n",
    "arr1=np.arange(1,13).reshape(4,-1)\n",
    "print(arr1)\n",
    "arr2=np.arange(1,13).reshape(4,-1)\n",
    "print('\\n',np.add(arr1,arr2))\n",
    "print('\\n',np.subtract(arr1,arr2))\n",
    "print('\\n',np.multiply(arr1,arr2))\n",
    "print('\\n',np.divide(arr1,arr2))"
   ]
  },
  {
   "cell_type": "code",
   "execution_count": 53,
   "metadata": {},
   "outputs": [
    {
     "name": "stdout",
     "output_type": "stream",
     "text": [
      "Yestraday:  2021-05-18\n",
      "Today:  2021-05-19\n",
      "Tomorrow:  2021-05-20\n"
     ]
    }
   ],
   "source": [
    "# Write a Python program to get the dates of yesterday, today and tomorrow.\n",
    "\n",
    "import numpy as np\n",
    "yesterday = np.datetime64('today', 'D') - np.timedelta64(1, 'D')\n",
    "print(\"Yestraday: \",yesterday)\n",
    "today = np.datetime64('today', 'D')\n",
    "print(\"Today: \",today)\n",
    "tomorrow = np.datetime64('today', 'D') + np.timedelta64(1,'D')\n",
    "print(\"Tomorrow: \",tomorrow)"
   ]
  }
 ],
 "metadata": {
  "kernelspec": {
   "display_name": "Python 3",
   "language": "python",
   "name": "python3"
  },
  "language_info": {
   "codemirror_mode": {
    "name": "ipython",
    "version": 3
   },
   "file_extension": ".py",
   "mimetype": "text/x-python",
   "name": "python",
   "nbconvert_exporter": "python",
   "pygments_lexer": "ipython3",
   "version": "3.8.5"
  }
 },
 "nbformat": 4,
 "nbformat_minor": 4
}
