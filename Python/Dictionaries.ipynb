{
 "cells": [
  {
   "cell_type": "markdown",
   "metadata": {},
   "source": [
    "# Dictionary, range"
   ]
  },
  {
   "cell_type": "code",
   "execution_count": 1,
   "metadata": {},
   "outputs": [
    {
     "name": "stdout",
     "output_type": "stream",
     "text": [
      "{'emp1': {'name': 'ABC', 'age': 23, 'sal': 15000.0}, 'emp2': {'name': 'XYZ', 'age': 24, 'sal': 8000.0}}\n"
     ]
    }
   ],
   "source": [
    "# Dictionary is used to represent the structured data\n",
    "d = {'emp1':{'name':'ABC', 'age':23, 'sal':10000.00}, \n",
    "     'emp2':{'name':'XYZ', 'age':24, 'sal':8000.00}, \n",
    "     'emp1':{'name':'ABC', 'age':23, 'sal':15000.00}}\n",
    "print(d)\n"
   ]
  },
  {
   "cell_type": "code",
   "execution_count": null,
   "metadata": {},
   "outputs": [],
   "source": [
    "# Dictionary - Propertirs\n",
    "# 1. IS a collection of key value pair\n",
    "# 2. A key, value par is called item\n",
    "# 3. items are separated by comma\n",
    "# 4. key and value are separated by :\n",
    "# 5. key can not be duplicated whereas value can be dulicated\n",
    "# 6. key can not be mutable, it will be only immutable whereas values can be any type\n",
    "# 7. all the items should be kept inside \"{}\" separated by comma.\n",
    "# 8. Dictinary is not a seq so indexing and slicing is not allowed, concatenation and repetition is alsoi  ot aloowed\n",
    "# 9. membership operator then it checks for the keya dnreturns True if key is present in the dict\n",
    "# 10.identity operation is possible\n",
    "# 11. Dictionary is Mutable."
   ]
  },
  {
   "cell_type": "code",
   "execution_count": null,
   "metadata": {},
   "outputs": [],
   "source": [
    "tpl1 = (10,20,30)\n",
    "tpl2 = (10,20,30)\n",
    "print(tpl1 is tpl2)\n",
    "\n",
    "\n",
    "d = {tpl1:100, tpl2 :200}\n",
    "print(d[tpl1])\n",
    "\n",
    "tpl1 = ('name', 'age', 'sal') \n",
    "d = {tpl1: ('ABC', 23, 10000.00)}\n",
    "print(d)"
   ]
  },
  {
   "cell_type": "code",
   "execution_count": null,
   "metadata": {},
   "outputs": [],
   "source": [
    "# Creation of dictionary\n",
    "# If you know the values\n",
    "d = {'emp1':{'name':'ABC', 'age':23, 'sal':10000.00}, \n",
    "     'emp2':{'name':'XYZ', 'age':24, 'sal':8000.00}, \n",
    "     'emp1':{'name':'ABC', 'age':23, 'sal':15000.00}}\n",
    "print(d)\n"
   ]
  },
  {
   "cell_type": "code",
   "execution_count": null,
   "metadata": {},
   "outputs": [],
   "source": [
    "# using eval function\n",
    "d1 = eval(input('ENter a dictionary: '))\n",
    "print(d1)"
   ]
  },
  {
   "cell_type": "code",
   "execution_count": null,
   "metadata": {},
   "outputs": [],
   "source": []
  },
  {
   "cell_type": "code",
   "execution_count": null,
   "metadata": {},
   "outputs": [],
   "source": []
  },
  {
   "cell_type": "code",
   "execution_count": null,
   "metadata": {},
   "outputs": [],
   "source": []
  },
  {
   "cell_type": "code",
   "execution_count": null,
   "metadata": {},
   "outputs": [],
   "source": []
  },
  {
   "cell_type": "code",
   "execution_count": null,
   "metadata": {},
   "outputs": [],
   "source": []
  },
  {
   "cell_type": "code",
   "execution_count": null,
   "metadata": {},
   "outputs": [],
   "source": []
  },
  {
   "cell_type": "code",
   "execution_count": null,
   "metadata": {},
   "outputs": [],
   "source": []
  },
  {
   "cell_type": "code",
   "execution_count": null,
   "metadata": {},
   "outputs": [],
   "source": []
  },
  {
   "cell_type": "code",
   "execution_count": null,
   "metadata": {},
   "outputs": [],
   "source": []
  },
  {
   "cell_type": "code",
   "execution_count": null,
   "metadata": {},
   "outputs": [],
   "source": []
  },
  {
   "cell_type": "code",
   "execution_count": null,
   "metadata": {},
   "outputs": [],
   "source": []
  },
  {
   "cell_type": "code",
   "execution_count": null,
   "metadata": {},
   "outputs": [],
   "source": []
  },
  {
   "cell_type": "code",
   "execution_count": null,
   "metadata": {},
   "outputs": [],
   "source": []
  },
  {
   "cell_type": "code",
   "execution_count": null,
   "metadata": {},
   "outputs": [],
   "source": []
  },
  {
   "cell_type": "code",
   "execution_count": null,
   "metadata": {},
   "outputs": [],
   "source": []
  },
  {
   "cell_type": "code",
   "execution_count": null,
   "metadata": {},
   "outputs": [],
   "source": []
  },
  {
   "cell_type": "code",
   "execution_count": null,
   "metadata": {},
   "outputs": [],
   "source": []
  }
 ],
 "metadata": {
  "kernelspec": {
   "display_name": "Python 3",
   "language": "python",
   "name": "python3"
  },
  "language_info": {
   "codemirror_mode": {
    "name": "ipython",
    "version": 3
   },
   "file_extension": ".py",
   "mimetype": "text/x-python",
   "name": "python",
   "nbconvert_exporter": "python",
   "pygments_lexer": "ipython3",
   "version": "3.8.5"
  }
 },
 "nbformat": 4,
 "nbformat_minor": 4
}
