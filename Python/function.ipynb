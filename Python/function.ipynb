{
 "cells": [
  {
   "cell_type": "markdown",
   "metadata": {},
   "source": [
    "Function"
   ]
  },
  {
   "cell_type": "code",
   "execution_count": 1,
   "metadata": {},
   "outputs": [
    {
     "name": "stdout",
     "output_type": "stream",
     "text": [
      "1st Number: 45\n",
      "2nd Number: 5\n",
      "(50, 40, 225, 9, 0)\n"
     ]
    }
   ],
   "source": [
    "# Define a funcion which takes two number as input from the user \n",
    "# and returns the sum, diff, product, quotient and remainder\n",
    "\n",
    "def my_math(num1, num2):\n",
    "    sum1 = num1+num2\n",
    "    diff = num1-num2\n",
    "    prod = num1*num2\n",
    "    quo = num1//num2\n",
    "    rem = num1%num2\n",
    "    return sum1, diff, prod, quo, rem\n",
    "\n",
    "n1 = int(input('1st Number: '))\n",
    "n2 = int(input('2nd Number: '))\n",
    "out_tpl = my_math(n1,n2)\n",
    "print(out_tpl)"
   ]
  },
  {
   "cell_type": "code",
   "execution_count": 2,
   "metadata": {},
   "outputs": [
    {
     "name": "stdout",
     "output_type": "stream",
     "text": [
      "100\n"
     ]
    }
   ],
   "source": [
    "# Take a list from the user pass it as input to a function called \n",
    "# sum_list and find the sum of all elements \n",
    "# in the list. Return the total value as output\n",
    "\n",
    "def sum_lst(lst):\n",
    "    total = 0\n",
    "    for ele in lst:\n",
    "        total += ele\n",
    "    return total\n",
    "t = sum_lst([10,20,30,40])\n",
    "print(t)"
   ]
  },
  {
   "cell_type": "code",
   "execution_count": 3,
   "metadata": {},
   "outputs": [
    {
     "data": {
      "text/plain": [
       "212.0"
      ]
     },
     "execution_count": 3,
     "metadata": {},
     "output_type": "execute_result"
    }
   ],
   "source": [
    "# Define a function to convert 100 degree celsius \n",
    "# to degree fahrenhite\n",
    "\n",
    "# C/5 = (f-32)/9\n",
    "# f = (9c/5)+32\n",
    "\n",
    "def degree_to_fahrenhite(C):\n",
    "    f = ((9*C)/5)+32\n",
    "    return f\n",
    "\n",
    "degree_to_fahrenhite(100)\n"
   ]
  },
  {
   "cell_type": "code",
   "execution_count": 4,
   "metadata": {},
   "outputs": [
    {
     "data": {
      "text/plain": [
       "False"
      ]
     },
     "execution_count": 4,
     "metadata": {},
     "output_type": "execute_result"
    }
   ],
   "source": [
    "# Define a function which takes a number as inut and return True \n",
    "# if number is palindrome else returns False\n",
    "\n",
    "# 12321\n",
    "\n",
    "\n",
    "def Palindroe(num):\n",
    "    temp = num\n",
    "    rev_num = 0\n",
    "    while num > 0:\n",
    "        lst_dig = num % 10\n",
    "        rev_num = rev_num*10 + lst_dig\n",
    "        num = num//10\n",
    "    return True if temp == rev_num else False\n",
    "\n",
    "Palindroe(12322)"
   ]
  },
  {
   "cell_type": "code",
   "execution_count": null,
   "metadata": {},
   "outputs": [],
   "source": [
    "# Types of argumnets\n",
    "    1. Positional\n",
    "    2. default\n",
    "    3. keyworded\n",
    "    4. variable length(*args) and variable length \n",
    "    keyworded(**kwargs)"
   ]
  },
  {
   "cell_type": "code",
   "execution_count": 5,
   "metadata": {},
   "outputs": [
    {
     "name": "stdout",
     "output_type": "stream",
     "text": [
      "10 100 22 39 67 900\n",
      "1138\n"
     ]
    }
   ],
   "source": [
    "# Positional arguments - order does matter, numer of arguments\n",
    "# should also match\n",
    "\n",
    "def add(n1, n2, n3, n4, n5, n6):\n",
    "    print(n1, n2, n3,n4,n5 ,n6)\n",
    "    print(n1+n2+n3+n4+n5+n6)\n",
    "add(10, 100, 22, 39, 67, 900)"
   ]
  },
  {
   "cell_type": "code",
   "execution_count": 6,
   "metadata": {},
   "outputs": [
    {
     "name": "stdout",
     "output_type": "stream",
     "text": [
      "10 0 100 0 0 0\n",
      "110\n",
      "\n",
      "10 200 100 0 0 0\n",
      "310\n",
      "\n",
      "10 20 100 33 0 0\n",
      "163\n",
      "\n",
      "10 12 100 22 34 0\n",
      "178\n",
      "\n"
     ]
    }
   ],
   "source": [
    "# default argument - mix of positional and default arg \n",
    "# - positional should always be placed before default\n",
    "\n",
    "def add(n1, n3, n2=0, n4=0, n5=0, n6=0):\n",
    "    print(n1, n2, n3,n4,n5 ,n6)\n",
    "    print(n1+n2+n3+n4+n5+n6)\n",
    "    print()\n",
    "add(10, 100)\n",
    "add(10, 100,200)\n",
    "add(10, 100,20,33)\n",
    "add(10, 100,12,22,34)"
   ]
  },
  {
   "cell_type": "code",
   "execution_count": 7,
   "metadata": {},
   "outputs": [
    {
     "name": "stdout",
     "output_type": "stream",
     "text": [
      "100 300 20 100 600 20\n",
      "1140\n",
      "\n"
     ]
    }
   ],
   "source": [
    "# keyworded argument - args are passed wth the name while \n",
    "# doing function call - order does not matter\n",
    "# Mix of positional and keywrded arg then poitional shuld be kept first\n",
    "\n",
    "\n",
    "def add(n1, n3, n2, n4, n5, n6):\n",
    "    print(n1, n2, n3,n4,n5 ,n6)\n",
    "    print(n1+n2+n3+n4+n5+n6)\n",
    "    print()\n",
    "\n",
    "add(100,20, n4 = 100, n2 = 300, n6 = 20, n5 = 600)\n"
   ]
  },
  {
   "cell_type": "code",
   "execution_count": 8,
   "metadata": {},
   "outputs": [
    {
     "name": "stdout",
     "output_type": "stream",
     "text": [
      "(10,) <class 'tuple'>\n",
      "10\n",
      "\n",
      "(10, 20) <class 'tuple'>\n",
      "30\n",
      "\n",
      "(10, 20, 30) <class 'tuple'>\n",
      "60\n",
      "\n",
      "(10, 20, 30, 40) <class 'tuple'>\n",
      "100\n",
      "\n",
      "(10, 20, 30, 40, 50) <class 'tuple'>\n",
      "150\n",
      "\n",
      "(10, 20, 30, 40, 50, 60) <class 'tuple'>\n",
      "210\n",
      "\n",
      "(10, 20, 30, 40, 50, 60, 70) <class 'tuple'>\n",
      "280\n",
      "\n"
     ]
    }
   ],
   "source": [
    "# variable length - *args\n",
    "\n",
    "def var_len_func(*args):\n",
    "    print(args, type(args))\n",
    "    total = 0\n",
    "    for i in args:\n",
    "        total += i\n",
    "    print(total)\n",
    "    print()\n",
    "\n",
    "var_len_func(10)\n",
    "var_len_func(10,20)\n",
    "var_len_func(10,20,30)\n",
    "var_len_func(10,20,30,40)\n",
    "var_len_func(10,20,30,40,50)\n",
    "var_len_func(10,20,30,40,50,60)\n",
    "var_len_func(10,20,30,40,50,60,70)\n"
   ]
  },
  {
   "cell_type": "code",
   "execution_count": 9,
   "metadata": {},
   "outputs": [
    {
     "name": "stdout",
     "output_type": "stream",
     "text": [
      "{'a': 10} <class 'dict'>\n",
      "a ---> 10\n",
      "\n",
      "{'a': 10, 'b': 20} <class 'dict'>\n",
      "a ---> 10\n",
      "b ---> 20\n",
      "\n",
      "{'a': 10, 'b': 20, 'c': 30} <class 'dict'>\n",
      "a ---> 10\n",
      "b ---> 20\n",
      "c ---> 30\n",
      "\n",
      "{'a': 10, 'b': 20, 'c': 30, 'd': 40} <class 'dict'>\n",
      "a ---> 10\n",
      "b ---> 20\n",
      "c ---> 30\n",
      "d ---> 40\n",
      "\n",
      "{'a': 10, 'b': 20, 'c': 30, 'd': 40, 'e': 50} <class 'dict'>\n",
      "a ---> 10\n",
      "b ---> 20\n",
      "c ---> 30\n",
      "d ---> 40\n",
      "e ---> 50\n",
      "\n"
     ]
    }
   ],
   "source": [
    "# variable length keyworded arguments- *args\n",
    "\n",
    "def var_len_func(**kwvars):\n",
    "    print(kwvars, type(kwvars))\n",
    "    for i in kwvars:\n",
    "        print(i, '--->',kwvars[i])\n",
    "    print()\n",
    "\n",
    "var_len_func(a = 10)\n",
    "var_len_func(a= 10,b = 20)\n",
    "var_len_func(a = 10,b = 20,c = 30)\n",
    "var_len_func(a = 10,b = 20,c = 30,d = 40)\n",
    "var_len_func(a = 10,b = 20,c = 30,d = 40,e = 50)\n",
    "# var_len_func(10,20,30,40,50,60)\n",
    "# var_len_func(10,20,30,40,50,60,70)"
   ]
  },
  {
   "cell_type": "code",
   "execution_count": null,
   "metadata": {},
   "outputs": [],
   "source": [
    "contact_info(name, mob) - print(name, mob)\n",
    "\n",
    "adress_info(street,city, state, pin, **kwvars):- \n",
    "    contact_info(kwvars), print(street,city, state, pin,)\n",
    "    \n",
    "email(email, **kwargs) - adress_info(kwargs) print(email)\n",
    "\n",
    "\n",
    "email()"
   ]
  },
  {
   "cell_type": "code",
   "execution_count": 10,
   "metadata": {},
   "outputs": [
    {
     "name": "stdout",
     "output_type": "stream",
     "text": [
      "Enter a number or a sequence of number: 10,2,3,4\n",
      "Enter a number or a sequence of number: 4,5,3,2\n",
      "{'x': (10, 2, 3, 4), 'y': (4, 5, 3, 2)} <class 'dict'>\n",
      "33\n",
      "\n"
     ]
    }
   ],
   "source": [
    "def var_len_func(**var):\n",
    "    print(var, type(var))\n",
    "    total = 0\n",
    "    for i in var:\n",
    "        for j in range(len(var[i])):\n",
    "            total += var[i][j]\n",
    "    print(total)\n",
    "    print()\n",
    "\n",
    "    \n",
    "a = eval(input('Enter a number or a sequence of number: ')) \n",
    "b = eval(input('Enter a number or a sequence of number: ')) \n",
    "var_len_func(x = a, y = b)"
   ]
  },
  {
   "cell_type": "code",
   "execution_count": 11,
   "metadata": {},
   "outputs": [
    {
     "name": "stdout",
     "output_type": "stream",
     "text": [
      "Name:  ABC\n",
      "Mob:  9876543210\n",
      "Street:-  Satyam Street\n",
      "City:-  Bengaluru\n",
      "State:-  Karnataka\n",
      "Pin:  560103\n",
      "Email:  abc@gmail.com\n"
     ]
    }
   ],
   "source": [
    "def contact_info(name, mob):\n",
    "    print('Name: ', name)\n",
    "    print('Mob: ', mob)\n",
    "\n",
    "def address_info(street,city, state, pin, **kwvars):\n",
    "    contact_info(kwvars['name1'], kwvars['phone'])\n",
    "    print('Street:- ', street)\n",
    "    print('City:- ', city)\n",
    "    print('State:- ', state)\n",
    "    print('Pin: ', pin)\n",
    "    \n",
    "def email(email, **kwargs):\n",
    "    address_info(kwargs['street'], kwargs['city'], kwargs['state'],\n",
    "        kwargs['pin'], name1 = kwargs['name'], phone = kwargs['mob'])\n",
    "    print('Email: ',email)\n",
    "\n",
    "email(email = 'abc@gmail.com', street = 'Satyam Street', city = 'Bengaluru', \n",
    "      state = 'Karnataka', pin = 560103, name = 'ABC', mob = 9876543210)\n"
   ]
  },
  {
   "cell_type": "code",
   "execution_count": 12,
   "metadata": {},
   "outputs": [
    {
     "name": "stdout",
     "output_type": "stream",
     "text": [
      "16\n"
     ]
    }
   ],
   "source": [
    "# Anonymous function - a function without name - lambda\n",
    "# Filter, map, reduce etc\n",
    "\n",
    "# lambda arg1, arg2, ...: expr   --> return value is expr, \n",
    "# you don't have to write the return statment explicitly\n",
    "\n",
    "s = lambda num : num ** 2\n",
    "print(s(4))\n"
   ]
  },
  {
   "cell_type": "code",
   "execution_count": 19,
   "metadata": {},
   "outputs": [
    {
     "name": "stdout",
     "output_type": "stream",
     "text": [
      "[10, 12, 14, 1500, 16, 18]\n",
      "[20, 11, 24, 13, 28, 3000, 32, 17, 36, 19]\n",
      "[20, 24, 28, 3000, 32, 36]\n"
     ]
    }
   ],
   "source": [
    "# def is_even(num): True if num is even else False\n",
    "    \n",
    "seq = [10,11,12,13,14,15,16,17,18,19]\n",
    "# filter(is_even, seq):\n",
    "#     return a list of all even numbers\n",
    "\n",
    "def is_even(num):\n",
    "    return True if num % 2 == 0 else False\n",
    "\n",
    "seq = [10,11,12,13,14,1500,16,17,18,19]\n",
    "\n",
    "def filter_num(is_even, seq):\n",
    "    out = []\n",
    "    for i in seq:\n",
    "        if is_even(i) == True:\n",
    "            out.append(i) \n",
    "    return out\n",
    "\n",
    "print(filter_num(is_even,seq))\n",
    "\n",
    "\n",
    "# filter - filters a seq based on some condition, returns a filter object - \n",
    "# Syntax:- filter(func, seq)\n",
    "\n",
    "list(filter(lambda num:num%2, seq))\n",
    "\n",
    "\n",
    "# map - mapping every value of an existing seq to a set of values - returns map object\n",
    "# Synatx -map(func, seq)\n",
    "\n",
    "print(list(map(lambda num:num*2 if num%2 == 0 else num, seq)))\n",
    "\n",
    "print(list(filter(lambda num:num%2 == 0, map(lambda num:num*2 if num%2 == 0 else num, seq))))"
   ]
  },
  {
   "cell_type": "code",
   "execution_count": 23,
   "metadata": {},
   "outputs": [
    {
     "name": "stdout",
     "output_type": "stream",
     "text": [
      "60\n",
      "1630\n",
      "1500\n"
     ]
    }
   ],
   "source": [
    "# reduce - sum, prod, max, min \n",
    "\n",
    "print(sum([10,20,30]))\n",
    "\n",
    "from functools import reduce\n",
    "s = reduce(lambda x,y:x+y, seq)\n",
    "print(s)\n",
    "\n",
    "max = reduce(lambda x,y:x if x>y else y, seq)\n",
    "print(max)\n",
    "\n",
    "\n",
    "\n",
    "# sum , max, min\n"
   ]
  },
  {
   "cell_type": "code",
   "execution_count": 25,
   "metadata": {},
   "outputs": [
    {
     "name": "stdout",
     "output_type": "stream",
     "text": [
      "<function add at 0x000001FA8DBDC700>\n"
     ]
    }
   ],
   "source": [
    "def add(n1,n2):\n",
    "    return n1+n2\n",
    "s = add(10,20)\n",
    "print(add)"
   ]
  },
  {
   "cell_type": "code",
   "execution_count": 26,
   "metadata": {},
   "outputs": [
    {
     "ename": "NameError",
     "evalue": "name 'num' is not defined",
     "output_type": "error",
     "traceback": [
      "\u001b[1;31m---------------------------------------------------------------------------\u001b[0m",
      "\u001b[1;31mNameError\u001b[0m                                 Traceback (most recent call last)",
      "\u001b[1;32m<ipython-input-26-332c64309a95>\u001b[0m in \u001b[0;36m<module>\u001b[1;34m\u001b[0m\n\u001b[1;32m----> 1\u001b[1;33m \u001b[0ms\u001b[0m \u001b[1;33m=\u001b[0m \u001b[1;32mlambda\u001b[0m \u001b[0mnum\u001b[0m\u001b[1;33m:\u001b[0m\u001b[0mnum\u001b[0m\u001b[1;33m*\u001b[0m\u001b[1;36m2\u001b[0m\u001b[1;33m,\u001b[0m\u001b[0mnum\u001b[0m\u001b[1;33m*\u001b[0m\u001b[1;36m3\u001b[0m\u001b[1;33m,\u001b[0m \u001b[0mnum\u001b[0m\u001b[1;33m*\u001b[0m\u001b[1;36m4\u001b[0m\u001b[1;33m\u001b[0m\u001b[1;33m\u001b[0m\u001b[0m\n\u001b[0m\u001b[0;32m      2\u001b[0m \u001b[0mprint\u001b[0m\u001b[1;33m(\u001b[0m\u001b[0ms\u001b[0m\u001b[1;33m(\u001b[0m\u001b[1;36m5\u001b[0m\u001b[1;33m)\u001b[0m\u001b[1;33m)\u001b[0m\u001b[1;33m\u001b[0m\u001b[1;33m\u001b[0m\u001b[0m\n",
      "\u001b[1;31mNameError\u001b[0m: name 'num' is not defined"
     ]
    }
   ],
   "source": [
    "s = lambda num:num*2,num*3, num*4\n",
    "print(s(5))"
   ]
  },
  {
   "cell_type": "code",
   "execution_count": null,
   "metadata": {},
   "outputs": [],
   "source": [
    "# print(dir())"
   ]
  },
  {
   "cell_type": "code",
   "execution_count": null,
   "metadata": {},
   "outputs": [],
   "source": [
    "#os, sys, math, random, functools, numpy, pandas, \n",
    "# matplotlib, seaborn, time, datetime"
   ]
  },
  {
   "cell_type": "code",
   "execution_count": null,
   "metadata": {},
   "outputs": [],
   "source": [
    "# import math\n",
    "# print(dir(math))"
   ]
  },
  {
   "cell_type": "code",
   "execution_count": null,
   "metadata": {},
   "outputs": [],
   "source": [
    "# import os\n",
    "# print(dir(os))"
   ]
  },
  {
   "cell_type": "code",
   "execution_count": null,
   "metadata": {},
   "outputs": [],
   "source": [
    "# import numpy\n",
    "# print(dir(numpy))"
   ]
  },
  {
   "cell_type": "markdown",
   "metadata": {},
   "source": [
    "Scope and Namespace"
   ]
  },
  {
   "cell_type": "code",
   "execution_count": null,
   "metadata": {},
   "outputs": [],
   "source": [
    "L - Local, E - Extended, G - Global, B - Builtins"
   ]
  },
  {
   "cell_type": "code",
   "execution_count": null,
   "metadata": {},
   "outputs": [],
   "source": [
    "# Namespace - container _ LOCAL containser, Extended Container, \n",
    "# Global Container, Builtin- Container"
   ]
  },
  {
   "cell_type": "code",
   "execution_count": 27,
   "metadata": {},
   "outputs": [
    {
     "name": "stdout",
     "output_type": "stream",
     "text": [
      "100\n"
     ]
    }
   ],
   "source": [
    "from math import pi\n",
    "x = 100\n",
    "def f1():\n",
    "    print(x)\n",
    "f1()"
   ]
  },
  {
   "cell_type": "code",
   "execution_count": 28,
   "metadata": {},
   "outputs": [
    {
     "name": "stdout",
     "output_type": "stream",
     "text": [
      "100\n"
     ]
    }
   ],
   "source": [
    "from math import pi\n",
    "x = 100\n",
    "def f1():\n",
    "    def f2():\n",
    "        print(x)\n",
    "    f2()\n",
    "f1()"
   ]
  },
  {
   "cell_type": "code",
   "execution_count": 29,
   "metadata": {},
   "outputs": [
    {
     "name": "stdout",
     "output_type": "stream",
     "text": [
      "3.141592653589793\n"
     ]
    },
    {
     "ename": "NameError",
     "evalue": "name 'm' is not defined",
     "output_type": "error",
     "traceback": [
      "\u001b[1;31m---------------------------------------------------------------------------\u001b[0m",
      "\u001b[1;31mNameError\u001b[0m                                 Traceback (most recent call last)",
      "\u001b[1;32m<ipython-input-29-a2974e1a3b71>\u001b[0m in \u001b[0;36m<module>\u001b[1;34m\u001b[0m\n\u001b[0;32m      7\u001b[0m     \u001b[0mf2\u001b[0m\u001b[1;33m(\u001b[0m\u001b[1;33m)\u001b[0m\u001b[1;33m\u001b[0m\u001b[1;33m\u001b[0m\u001b[0m\n\u001b[0;32m      8\u001b[0m \u001b[0mf1\u001b[0m\u001b[1;33m(\u001b[0m\u001b[1;33m)\u001b[0m\u001b[1;33m\u001b[0m\u001b[1;33m\u001b[0m\u001b[0m\n\u001b[1;32m----> 9\u001b[1;33m \u001b[0mprint\u001b[0m\u001b[1;33m(\u001b[0m\u001b[0mm\u001b[0m\u001b[1;33m)\u001b[0m\u001b[1;33m\u001b[0m\u001b[1;33m\u001b[0m\u001b[0m\n\u001b[0m",
      "\u001b[1;31mNameError\u001b[0m: name 'm' is not defined"
     ]
    }
   ],
   "source": [
    "from math import pi\n",
    "x = 100\n",
    "def f1():\n",
    "    def f2():\n",
    "        m = 200\n",
    "        print(pi)\n",
    "    f2()\n",
    "f1()\n",
    "print(m)"
   ]
  },
  {
   "cell_type": "code",
   "execution_count": null,
   "metadata": {},
   "outputs": [],
   "source": [
    "# Modules in Python\n",
    "    # Builtin module - os, sys, math, random, datetime, \n",
    "    # User defined module - extension - .py"
   ]
  },
  {
   "cell_type": "code",
   "execution_count": 30,
   "metadata": {},
   "outputs": [
    {
     "ename": "ModuleNotFoundError",
     "evalue": "No module named 'my_math'",
     "output_type": "error",
     "traceback": [
      "\u001b[1;31m---------------------------------------------------------------------------\u001b[0m",
      "\u001b[1;31mModuleNotFoundError\u001b[0m                       Traceback (most recent call last)",
      "\u001b[1;32m<ipython-input-30-a607a5d5cf0d>\u001b[0m in \u001b[0;36m<module>\u001b[1;34m\u001b[0m\n\u001b[1;32m----> 1\u001b[1;33m \u001b[1;32mimport\u001b[0m \u001b[0mmy_math\u001b[0m\u001b[1;33m\u001b[0m\u001b[1;33m\u001b[0m\u001b[0m\n\u001b[0m\u001b[0;32m      2\u001b[0m \u001b[0mprint\u001b[0m\u001b[1;33m(\u001b[0m\u001b[0mdir\u001b[0m\u001b[1;33m(\u001b[0m\u001b[1;33m)\u001b[0m\u001b[1;33m)\u001b[0m\u001b[1;33m\u001b[0m\u001b[1;33m\u001b[0m\u001b[0m\n\u001b[0;32m      3\u001b[0m \u001b[0mprint\u001b[0m\u001b[1;33m(\u001b[0m\u001b[0mmy_math\u001b[0m\u001b[1;33m.\u001b[0m\u001b[0mmy_add\u001b[0m\u001b[1;33m(\u001b[0m\u001b[1;36m10\u001b[0m\u001b[1;33m,\u001b[0m\u001b[1;36m20\u001b[0m\u001b[1;33m,\u001b[0m\u001b[1;36m30\u001b[0m\u001b[1;33m,\u001b[0m\u001b[1;36m40\u001b[0m\u001b[1;33m,\u001b[0m\u001b[1;36m50\u001b[0m\u001b[1;33m)\u001b[0m\u001b[1;33m)\u001b[0m\u001b[1;33m\u001b[0m\u001b[1;33m\u001b[0m\u001b[0m\n",
      "\u001b[1;31mModuleNotFoundError\u001b[0m: No module named 'my_math'"
     ]
    }
   ],
   "source": [
    "import my_math\n",
    "print(dir())\n",
    "print(my_math.my_add(10,20,30,40,50))"
   ]
  },
  {
   "cell_type": "code",
   "execution_count": 31,
   "metadata": {},
   "outputs": [
    {
     "ename": "ModuleNotFoundError",
     "evalue": "No module named 'my_math'",
     "output_type": "error",
     "traceback": [
      "\u001b[1;31m---------------------------------------------------------------------------\u001b[0m",
      "\u001b[1;31mModuleNotFoundError\u001b[0m                       Traceback (most recent call last)",
      "\u001b[1;32m<ipython-input-31-795e8d161b02>\u001b[0m in \u001b[0;36m<module>\u001b[1;34m\u001b[0m\n\u001b[1;32m----> 1\u001b[1;33m \u001b[1;32mimport\u001b[0m \u001b[0mmy_math\u001b[0m \u001b[1;32mas\u001b[0m \u001b[0mm\u001b[0m\u001b[1;33m\u001b[0m\u001b[1;33m\u001b[0m\u001b[0m\n\u001b[0m\u001b[0;32m      2\u001b[0m \u001b[0mprint\u001b[0m\u001b[1;33m(\u001b[0m\u001b[0mdir\u001b[0m\u001b[1;33m(\u001b[0m\u001b[1;33m)\u001b[0m\u001b[1;33m)\u001b[0m\u001b[1;33m\u001b[0m\u001b[1;33m\u001b[0m\u001b[0m\n\u001b[0;32m      3\u001b[0m \u001b[0mprint\u001b[0m\u001b[1;33m(\u001b[0m\u001b[0mm\u001b[0m\u001b[1;33m.\u001b[0m\u001b[0mmy_add\u001b[0m\u001b[1;33m(\u001b[0m\u001b[1;36m10\u001b[0m\u001b[1;33m,\u001b[0m\u001b[1;36m20\u001b[0m\u001b[1;33m,\u001b[0m\u001b[1;36m30\u001b[0m\u001b[1;33m,\u001b[0m\u001b[1;36m40\u001b[0m\u001b[1;33m,\u001b[0m\u001b[1;36m50\u001b[0m\u001b[1;33m)\u001b[0m\u001b[1;33m)\u001b[0m\u001b[1;33m\u001b[0m\u001b[1;33m\u001b[0m\u001b[0m\n\u001b[0;32m      4\u001b[0m \u001b[0mprint\u001b[0m\u001b[1;33m(\u001b[0m\u001b[0mm\u001b[0m\u001b[1;33m.\u001b[0m\u001b[0mmy_prod\u001b[0m\u001b[1;33m(\u001b[0m\u001b[1;36m10\u001b[0m\u001b[1;33m,\u001b[0m\u001b[1;36m20\u001b[0m\u001b[1;33m,\u001b[0m\u001b[1;36m30\u001b[0m\u001b[1;33m,\u001b[0m\u001b[1;36m40\u001b[0m\u001b[1;33m)\u001b[0m\u001b[1;33m)\u001b[0m\u001b[1;33m\u001b[0m\u001b[1;33m\u001b[0m\u001b[0m\n",
      "\u001b[1;31mModuleNotFoundError\u001b[0m: No module named 'my_math'"
     ]
    }
   ],
   "source": [
    "import my_math as m\n",
    "print(dir())\n",
    "print(m.my_add(10,20,30,40,50))\n",
    "print(m.my_prod(10,20,30,40))"
   ]
  },
  {
   "cell_type": "code",
   "execution_count": null,
   "metadata": {},
   "outputs": [],
   "source": [
    "from my_math import my_add as ma, my_prod as mp\n",
    "print(dir())\n",
    "print(ma(10,20,30,40))\n",
    "print(mp(10,20,30,40))"
   ]
  },
  {
   "cell_type": "code",
   "execution_count": 32,
   "metadata": {},
   "outputs": [
    {
     "name": "stdout",
     "output_type": "stream",
     "text": [
      "['In', 'Out', 'Palindroe', '_', '_3', '_4', '__', '___', '__builtin__', '__builtins__', '__doc__', '__loader__', '__name__', '__package__', '__spec__', '_dh', '_i', '_i1', '_i10', '_i11', '_i12', '_i13', '_i14', '_i15', '_i16', '_i17', '_i18', '_i19', '_i2', '_i20', '_i21', '_i22', '_i23', '_i24', '_i25', '_i26', '_i27', '_i28', '_i29', '_i3', '_i30', '_i31', '_i32', '_i4', '_i5', '_i6', '_i7', '_i8', '_i9', '_ih', '_ii', '_iii', '_oh', 'a', 'add', 'address_info', 'b', 'contact_info', 'degree_to_fahrenhite', 'email', 'exit', 'f1', 'filter_num', 'get_ipython', 'is_even', 'max', 'my_math', 'n1', 'n2', 'out_tpl', 'pi', 'quit', 'reduce', 's', 'seq', 'sum_lst', 't', 'var_len_func', 'x']\n",
      "\n",
      "\n",
      "\n",
      "\n",
      "\n",
      "2.0\n"
     ]
    }
   ],
   "source": [
    "print(dir())\n",
    "print('\\n\\n\\n\\n')\n",
    "\n",
    "\n",
    "import math as m\n",
    "import numpy as np\n",
    "print(m.sqrt(4))"
   ]
  }
 ],
 "metadata": {
  "kernelspec": {
   "display_name": "Python 3",
   "language": "python",
   "name": "python3"
  },
  "language_info": {
   "codemirror_mode": {
    "name": "ipython",
    "version": 3
   },
   "file_extension": ".py",
   "mimetype": "text/x-python",
   "name": "python",
   "nbconvert_exporter": "python",
   "pygments_lexer": "ipython3",
   "version": "3.8.5"
  }
 },
 "nbformat": 4,
 "nbformat_minor": 4
}
