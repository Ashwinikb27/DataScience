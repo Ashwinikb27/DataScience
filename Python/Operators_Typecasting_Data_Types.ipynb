{
  "nbformat": 4,
  "nbformat_minor": 0,
  "metadata": {
    "kernelspec": {
      "display_name": "Python 3",
      "language": "python",
      "name": "python3"
    },
    "language_info": {
      "codemirror_mode": {
        "name": "ipython",
        "version": 3
      },
      "file_extension": ".py",
      "mimetype": "text/x-python",
      "name": "python",
      "nbconvert_exporter": "python",
      "pygments_lexer": "ipython3",
      "version": "3.8.2"
    },
    "latex_envs": {
      "LaTeX_envs_menu_present": true,
      "autoclose": false,
      "autocomplete": true,
      "bibliofile": "biblio.bib",
      "cite_by": "apalike",
      "current_citInitial": 1,
      "eqLabelWithNumbers": true,
      "eqNumInitial": 1,
      "hotkeys": {
        "equation": "Ctrl-E",
        "itemize": "Ctrl-I"
      },
      "labels_anchors": false,
      "latex_user_defs": false,
      "report_style_numbering": false,
      "user_envs_cfg": false
    },
    "varInspector": {
      "cols": {
        "lenName": 16,
        "lenType": 16,
        "lenVar": 40
      },
      "kernels_config": {
        "python": {
          "delete_cmd_postfix": "",
          "delete_cmd_prefix": "del ",
          "library": "var_list.py",
          "varRefreshCmd": "print(var_dic_list())"
        },
        "r": {
          "delete_cmd_postfix": ") ",
          "delete_cmd_prefix": "rm(",
          "library": "var_list.r",
          "varRefreshCmd": "cat(var_dic_list()) "
        }
      },
      "types_to_exclude": [
        "module",
        "function",
        "builtin_function_or_method",
        "instance",
        "_Feature"
      ],
      "window_display": false
    },
    "colab": {
      "name": "Operators_Typecasting_Data_Types.ipynb",
      "provenance": [],
      "include_colab_link": true
    }
  },
  "cells": [
    {
      "cell_type": "markdown",
      "metadata": {
        "id": "view-in-github",
        "colab_type": "text"
      },
      "source": [
        "<a href=\"https://colab.research.google.com/github/Ashwinikb27/DataScience/blob/main/Python/Operators_Typecasting_Data_Types.ipynb\" target=\"_parent\"><img src=\"https://colab.research.google.com/assets/colab-badge.svg\" alt=\"Open In Colab\"/></a>"
      ]
    },
    {
      "cell_type": "code",
      "metadata": {
        "id": "lUdxFxr5U8ly"
      },
      "source": [
        "# Operators\n",
        "    # Comaprison -> <, <=, >, >=\n",
        "    # Equality -> ==, !=\n",
        "    # Assignment -> =\n",
        "    # Compound Assignment -> +=, -=, *=, /=, //=, **=, %=, &=, |=, ^=, ~=, <<=, >>=\n",
        "    # Identity -> is, is not\n",
        "    # Membership - in, not in\n",
        "    # Ternary - expr if else expr"
      ],
      "execution_count": null,
      "outputs": []
    },
    {
      "cell_type": "code",
      "metadata": {
        "id": "kgJyA2zRVGBE",
        "colab": {
          "base_uri": "https://localhost:8080/"
        },
        "outputId": "ee5d4bee-794d-45c1-be91-f6777282767e"
      },
      "source": [
        "# Comaprison -> <, <=, >, >=\n",
        "# It always returns Boolean Value - True/False\n",
        "# Comparison between the different data type is not possible except int and float.\n",
        "\n",
        "print(10<20)\n",
        "print(10<10.20)\n",
        "# print(10<20+30j)  # '<' not supported between instances of 'int' and 'complex'\n"
      ],
      "execution_count": 5,
      "outputs": [
        {
          "output_type": "stream",
          "text": [
            "True\n",
            "True\n"
          ],
          "name": "stdout"
        }
      ]
    },
    {
      "cell_type": "code",
      "metadata": {
        "id": "D4qVtPVoVGG4",
        "colab": {
          "base_uri": "https://localhost:8080/"
        },
        "outputId": "ab91ed0f-6ec5-4299-e445-6f228b800547"
      },
      "source": [
        "# ord and chr\n",
        "print(ord('A'))\n",
        "print(ord('a'))\n",
        "print(ord('='))\n",
        "\n",
        "# print(ord('AB'))  # Error because only single character need to be specified\n",
        "print('------------------')\n",
        "print(chr(65))\n",
        "print(chr(61))\n",
        "print(chr(97))\n",
        "print(chr(130))\n",
        "\n",
        "print(chr(3000))\n",
        "\n",
        "print('------------------')\n",
        "# print('A'<=65)  # error '<=' not supported between instances of 'str' and 'int'\n",
        "\n",
        "print('pythOnt' >= 'python')"
      ],
      "execution_count": 4,
      "outputs": [
        {
          "output_type": "stream",
          "text": [
            "65\n",
            "97\n",
            "61\n",
            "------------------\n",
            "A\n",
            "=\n",
            "a\n",
            "\n",
            "ஸ\n",
            "------------------\n",
            "False\n"
          ],
          "name": "stdout"
        }
      ]
    },
    {
      "cell_type": "code",
      "metadata": {
        "id": "OjjFrvbzVGKd",
        "colab": {
          "base_uri": "https://localhost:8080/"
        },
        "outputId": "e9a743e9-66ed-4f18-ff5f-6a2ac77985e3"
      },
      "source": [
        "# Equality Operator - ==, !=\n",
        "# These operatpors also returns boolean values\n",
        "# Comparison between dfferent data types is possible.\n",
        "# It compares the content\n",
        "\n",
        "print(10 == 10)\n",
        "print(10 != 20)\n",
        "print(10 == 10+20j)\n",
        "print('A'== 65)"
      ],
      "execution_count": 6,
      "outputs": [
        {
          "output_type": "stream",
          "text": [
            "True\n",
            "True\n",
            "False\n",
            "False\n"
          ],
          "name": "stdout"
        }
      ]
    },
    {
      "cell_type": "code",
      "metadata": {
        "id": "-kWUsyI6VGM5"
      },
      "source": [
        "# Assignment Operator -> =\n",
        "# It is used to assign the value to a variable\n",
        "\n",
        "name = 'Abhishek'\n",
        "age = 35"
      ],
      "execution_count": 7,
      "outputs": []
    },
    {
      "cell_type": "code",
      "metadata": {
        "id": "Xhjc3S7EVGQf",
        "colab": {
          "base_uri": "https://localhost:8080/"
        },
        "outputId": "7a3bb8fa-76ad-4f43-86d5-2e140e33c3e4"
      },
      "source": [
        "# Compound Assignment Operators - +=, -=, *=, /=, //=, **=, %=, &=, |=, ^=, ~=, <<=, >>=\n",
        "a = 10\n",
        "a += 2                                                    # a = a+2\n",
        "print(a)"
      ],
      "execution_count": 8,
      "outputs": [
        {
          "output_type": "stream",
          "text": [
            "12\n"
          ],
          "name": "stdout"
        }
      ]
    },
    {
      "cell_type": "code",
      "metadata": {
        "colab": {
          "base_uri": "https://localhost:8080/"
        },
        "id": "sbkdu0i-YReF",
        "outputId": "4fbcee27-18c4-4348-baa4-be6f50d86643"
      },
      "source": [
        "# Identity Operator - is , is not\n",
        "# These operators returns Boolean Value\n",
        "# These operators compares the address of the objects\n",
        "a = 10\n",
        "b = 10\n",
        "print(a == b)\n",
        "print(a is b)\n",
        "print(id(a))\n",
        "print(id(b))\n",
        "\n",
        "print('---------------------')\n",
        "\n",
        "a = 1000\n",
        "b = 1000\n",
        "print(a == b)\n",
        "print(a is b)\n",
        "print(id(a))\n",
        "print(id(b))\n"
      ],
      "execution_count": 9,
      "outputs": [
        {
          "output_type": "stream",
          "text": [
            "True\n",
            "True\n",
            "94133060991776\n",
            "94133060991776\n",
            "---------------------\n",
            "True\n",
            "False\n",
            "140333545096752\n",
            "140333545096656\n"
          ],
          "name": "stdout"
        }
      ]
    },
    {
      "cell_type": "code",
      "metadata": {
        "id": "Q3WeprUtYRic"
      },
      "source": [
        "# Object Reusability\n",
        "# In Python object creation is very expensive\n",
        "# 10 -> 28 bytes \n",
        "# Integeres -> -5 to 256\n",
        "# None, True, False\n",
        "# String - A-Z, a-z, 0-9, _\n",
        "\n",
        "# Rest all does not follow the object reusability concept\n",
        "# Why it does not provide the Oobject Reusability concept to float, complex or other derived Data Types?"
      ],
      "execution_count": null,
      "outputs": []
    },
    {
      "cell_type": "code",
      "metadata": {
        "id": "cJSC6E4WYRl7"
      },
      "source": [
        "\n",
        "# Membership Operator -> in, not in\n",
        "# These Operators returns Boolean value\n",
        "# These operators check whetehr an element is part of an iterable or not.\n",
        "\n",
        "# What is an Iterable?\n",
        "# Iterable is an object in Python which implements __iter__ method or we can run the for loop over these objects.\n",
        "# e.g - Seq -> String, List, Tuple, range Bytes, Bytearray, Iterator and Generator and Mapping objects - \n",
        "# Set, Frozenset, Dictionary\n",
        "# print(dir(str))\n",
        "# print(dir(list))\n",
        "# print(dir(set))\n",
        "# print(dir(dict))\n",
        "\n",
        "# print(dir(int))"
      ],
      "execution_count": null,
      "outputs": []
    },
    {
      "cell_type": "code",
      "metadata": {
        "colab": {
          "base_uri": "https://localhost:8080/"
        },
        "id": "pSSzcBp2YRtj",
        "outputId": "92391393-85ce-4c2f-daa9-89c209c1d06d"
      },
      "source": [
        "\n",
        "my_str = 'This is Python class'\n",
        "my_lst = [10,20,30,40]\n",
        "my_tuple = (1,2,3,4)\n",
        "my_range = range(30, 50)\n",
        "my_set = {11,22,33,44,55}\n",
        "my_dict = {1:100, 10.20:10+20j, 'A':[10,20,30], (1,2,3):'Python', None:True}\n",
        "\n",
        "print('i' in my_str)\n",
        "print('Class' not in my_str)\n",
        "print(20 in my_lst)\n",
        "print(200 in my_lst)\n",
        "print(1 in my_dict)\n",
        "print((10+20j in my_dict) and 10 not in my_lst)\n",
        "10,20\n",
        "\n",
        "res = 10+20j, 'A' in my_dict\n",
        "print(res)\n"
      ],
      "execution_count": 10,
      "outputs": [
        {
          "output_type": "stream",
          "text": [
            "True\n",
            "True\n",
            "True\n",
            "False\n",
            "True\n",
            "False\n",
            "((10+20j), True)\n"
          ],
          "name": "stdout"
        }
      ]
    },
    {
      "cell_type": "code",
      "metadata": {
        "ExecuteTime": {
          "end_time": "2021-04-14T03:25:30.361401Z",
          "start_time": "2021-04-14T03:25:30.347094Z"
        },
        "id": "_I3qncc6U8lz",
        "outputId": "36c1bed1-986c-4f49-a0e3-fba69c6542fc"
      },
      "source": [
        "# Ternary Operator\n",
        "# expr1 if cond else expr2 => Result will be expr1 if cond is True else Result will be expr2\n",
        "\n",
        "# expr1 if cond1 else expr2 if cond2 else expr3 => \n",
        "# Result will be expr1 if cond1 is True else Result will be expr2 if cond1 is False and cond2 is True else result will be expr3\n",
        "\n",
        "# num1 = 10\n",
        "# num2 = 100\n",
        "# num3 = 5\n",
        "# print(num1 if num1>num2 else num2)\n",
        "# print(num1 if num1>num2 and num1>num3 else num2 if num2 > num3 else num3)\n",
        "\n"
      ],
      "execution_count": null,
      "outputs": [
        {
          "output_type": "stream",
          "text": [
            "100\n",
            "100\n"
          ],
          "name": "stdout"
        }
      ]
    },
    {
      "cell_type": "code",
      "metadata": {
        "colab": {
          "base_uri": "https://localhost:8080/"
        },
        "id": "63TRVusAekac",
        "outputId": "5441fe8d-a767-4dd6-df7d-63e6c229d46d"
      },
      "source": [
        "# None Data Type\n",
        "a = None\n",
        "print(type(a))\n",
        "# print(help(a))\n",
        "\n",
        "# int a;\n",
        "\n",
        "x = None"
      ],
      "execution_count": 12,
      "outputs": [
        {
          "output_type": "stream",
          "text": [
            "<class 'NoneType'>\n"
          ],
          "name": "stdout"
        }
      ]
    },
    {
      "cell_type": "code",
      "metadata": {
        "colab": {
          "base_uri": "https://localhost:8080/"
        },
        "id": "UBTvrC1Nekh3",
        "outputId": "430ac9fe-600c-46d8-d606-9b026fdc1d2f"
      },
      "source": [
        "# list\n",
        "lst = [None] * 10\n",
        "print(lst)\n",
        "lst[3] = 'Python'\n",
        "print(lst)"
      ],
      "execution_count": 13,
      "outputs": [
        {
          "output_type": "stream",
          "text": [
            "[None, None, None, None, None, None, None, None, None, None]\n",
            "[None, None, None, 'Python', None, None, None, None, None, None]\n"
          ],
          "name": "stdout"
        }
      ]
    },
    {
      "cell_type": "code",
      "metadata": {
        "colab": {
          "base_uri": "https://localhost:8080/"
        },
        "id": "hPqLehBqf3zc",
        "outputId": "c8aa1f50-9de4-4509-d5b6-3515cb26503b"
      },
      "source": [
        "print(print())"
      ],
      "execution_count": 14,
      "outputs": [
        {
          "output_type": "stream",
          "text": [
            "\n",
            "None\n"
          ],
          "name": "stdout"
        }
      ]
    },
    {
      "cell_type": "code",
      "metadata": {
        "ExecuteTime": {
          "end_time": "2021-04-14T03:42:46.790896Z",
          "start_time": "2021-04-14T03:42:46.779908Z"
        },
        "id": "2KLHAMXlU8l5",
        "colab": {
          "base_uri": "https://localhost:8080/"
        },
        "outputId": "59738174-ba2d-4b7c-a95e-05688f9a6ccf"
      },
      "source": [
        "# None is used to represent missing values\n",
        "# Emp_name   Emp_id   Emp_sal\n",
        "# 'ABC'       101       10000\n",
        "# 'XYZ'       None       8000\n",
        "\n",
        "\n",
        "lst = ['abc@gmail.com', 'xyz@yahoo.com', 'mno@rediffmail.com', 'pqr@hotmail.com']\n",
        "out_lst = [None] * len(lst)\n",
        "print(out_lst)\n",
        "out_lst[0] = lst[0][:lst[0].index('@')]\n",
        "out_lst[1] = lst[1][:lst[1].index('@')]\n",
        "out_lst[2] = lst[2][:lst[2].index('@')]\n",
        "out_lst[3] = lst[3][:lst[3].index('@')]\n",
        "print(out_lst)"
      ],
      "execution_count": 15,
      "outputs": [
        {
          "output_type": "stream",
          "text": [
            "[None, None, None, None]\n",
            "['abc', 'xyz', 'mno', 'pqr']\n"
          ],
          "name": "stdout"
        }
      ]
    },
    {
      "cell_type": "code",
      "metadata": {
        "colab": {
          "base_uri": "https://localhost:8080/"
        },
        "id": "ek5v9ZmDgLMr",
        "outputId": "4d6109ef-e0e6-4945-f0f1-261ff9cdec32"
      },
      "source": [
        "a = None\n",
        "print(id(a))\n",
        "print(id(None))\n",
        "a = 10"
      ],
      "execution_count": 16,
      "outputs": [
        {
          "output_type": "stream",
          "text": [
            "94133060386240\n",
            "94133060386240\n"
          ],
          "name": "stdout"
        }
      ]
    },
    {
      "cell_type": "code",
      "metadata": {
        "colab": {
          "base_uri": "https://localhost:8080/"
        },
        "id": "Rp8xgTn8hGt7",
        "outputId": "aec70133-4c52-4074-c283-35fbdd6f4f0a"
      },
      "source": [
        "# Boolean Data Type - True, False\n",
        "# True == 1 and False == 0\n",
        "print(True + True)\n",
        "print(True + False)"
      ],
      "execution_count": 17,
      "outputs": [
        {
          "output_type": "stream",
          "text": [
            "2\n",
            "1\n"
          ],
          "name": "stdout"
        }
      ]
    },
    {
      "cell_type": "code",
      "metadata": {
        "ExecuteTime": {
          "end_time": "2021-04-14T03:49:16.258547Z",
          "start_time": "2021-04-14T03:49:16.252689Z"
        },
        "id": "MvQ1XYsbU8l8",
        "colab": {
          "base_uri": "https://localhost:8080/"
        },
        "outputId": "333fffad-56cb-411e-d7ce-9c595f66ed5a"
      },
      "source": [
        "# int to Boolean -> 0 is always False rest all True\n",
        "# Float to Boolean -> 0.0 is always False rest all True\n",
        "# complex to Boolean -> 0.0+0.0j is always False rest all True\n",
        "# None is always False\n",
        "# String - '' is always False and rest all True\n",
        "# List, Tuple, Set, Frsozenset, Dictionary - [], (), set(), frozenset(), {} - False rest all True\n",
        "\n",
        "print(bool(0))\n",
        "print(bool(-10))\n",
        "print(bool(0.000000000))\n",
        "print(bool(0.0000000001))\n",
        "print(bool(set()))\n",
        "print(bool({}))\n",
        "print(bool(''))\n",
        "print(bool(' '))\n",
        " \n",
        "\n"
      ],
      "execution_count": 18,
      "outputs": [
        {
          "output_type": "stream",
          "text": [
            "False\n",
            "True\n",
            "False\n",
            "True\n",
            "False\n",
            "False\n",
            "False\n",
            "True\n"
          ],
          "name": "stdout"
        }
      ]
    },
    {
      "cell_type": "code",
      "metadata": {
        "colab": {
          "base_uri": "https://localhost:8080/"
        },
        "id": "IwUxWGlkhbIE",
        "outputId": "eec35fc9-3a7c-4056-8c31-b25415cc0ace"
      },
      "source": [
        "# Typecasting - int, float, complex, bool, str\n",
        "#\n",
        "\n",
        "int()\n",
        "print(int(10))\n",
        "print(int('10'))\n",
        "print(int(True))\n",
        "print(int(10.20))\n",
        "print(int(0b10001))\n"
      ],
      "execution_count": 20,
      "outputs": [
        {
          "output_type": "stream",
          "text": [
            "10\n",
            "10\n",
            "1\n",
            "10\n",
            "17\n"
          ],
          "name": "stdout"
        }
      ]
    },
    {
      "cell_type": "code",
      "metadata": {
        "colab": {
          "base_uri": "https://localhost:8080/",
          "height": 229
        },
        "id": "aqxqRd4hhbL4",
        "outputId": "c0ada19d-3b2d-4818-f548-81b5010a9f4b"
      },
      "source": [
        "# Errors\n",
        "\n",
        "# print(int('10.20'))\n",
        "# print(int(10+20j))\n",
        "# print(int('A'))\n",
        "# print(int('True'))\n",
        "# print(int('0b10101'))\n"
      ],
      "execution_count": 22,
      "outputs": [
        {
          "output_type": "error",
          "ename": "ValueError",
          "evalue": "ignored",
          "traceback": [
            "\u001b[0;31m---------------------------------------------------------------------------\u001b[0m",
            "\u001b[0;31mValueError\u001b[0m                                Traceback (most recent call last)",
            "\u001b[0;32m<ipython-input-22-70846882de7b>\u001b[0m in \u001b[0;36m<module>\u001b[0;34m()\u001b[0m\n\u001b[0;32m----> 1\u001b[0;31m \u001b[0mprint\u001b[0m\u001b[0;34m(\u001b[0m\u001b[0mint\u001b[0m\u001b[0;34m(\u001b[0m\u001b[0;34m'10.20'\u001b[0m\u001b[0;34m)\u001b[0m\u001b[0;34m)\u001b[0m\u001b[0;34m\u001b[0m\u001b[0;34m\u001b[0m\u001b[0m\n\u001b[0m\u001b[1;32m      2\u001b[0m \u001b[0mprint\u001b[0m\u001b[0;34m(\u001b[0m\u001b[0mint\u001b[0m\u001b[0;34m(\u001b[0m\u001b[0;36m10\u001b[0m\u001b[0;34m+\u001b[0m\u001b[0;36m20j\u001b[0m\u001b[0;34m)\u001b[0m\u001b[0;34m)\u001b[0m\u001b[0;34m\u001b[0m\u001b[0;34m\u001b[0m\u001b[0m\n\u001b[1;32m      3\u001b[0m \u001b[0mprint\u001b[0m\u001b[0;34m(\u001b[0m\u001b[0mint\u001b[0m\u001b[0;34m(\u001b[0m\u001b[0;34m'A'\u001b[0m\u001b[0;34m)\u001b[0m\u001b[0;34m)\u001b[0m\u001b[0;34m\u001b[0m\u001b[0;34m\u001b[0m\u001b[0m\n\u001b[1;32m      4\u001b[0m \u001b[0mprint\u001b[0m\u001b[0;34m(\u001b[0m\u001b[0mint\u001b[0m\u001b[0;34m(\u001b[0m\u001b[0;34m'True'\u001b[0m\u001b[0;34m)\u001b[0m\u001b[0;34m)\u001b[0m\u001b[0;34m\u001b[0m\u001b[0;34m\u001b[0m\u001b[0m\n\u001b[1;32m      5\u001b[0m \u001b[0mprint\u001b[0m\u001b[0;34m(\u001b[0m\u001b[0mint\u001b[0m\u001b[0;34m(\u001b[0m\u001b[0;34m'0b10101'\u001b[0m\u001b[0;34m)\u001b[0m\u001b[0;34m)\u001b[0m\u001b[0;34m\u001b[0m\u001b[0;34m\u001b[0m\u001b[0m\n",
            "\u001b[0;31mValueError\u001b[0m: invalid literal for int() with base 10: '10.20'"
          ]
        }
      ]
    },
    {
      "cell_type": "code",
      "metadata": {
        "colab": {
          "base_uri": "https://localhost:8080/"
        },
        "id": "t0D24WN-hbO8",
        "outputId": "bca3e982-3cca-4419-964e-80caca2dea69"
      },
      "source": [
        "float\n",
        "print(float(10))\n",
        "print(float('10'))\n",
        "print(float(10.20))\n",
        "print(float('10.20'))\n",
        "print(float(True))\n",
        "print(float(0b10101))"
      ],
      "execution_count": 23,
      "outputs": [
        {
          "output_type": "stream",
          "text": [
            "10.0\n",
            "10.0\n",
            "10.2\n",
            "10.2\n",
            "1.0\n",
            "21.0\n"
          ],
          "name": "stdout"
        }
      ]
    },
    {
      "cell_type": "code",
      "metadata": {
        "id": "BNA1xBPwh4-v"
      },
      "source": [
        "# print(float(10+20j))\n",
        "# print(float('A'))\n",
        "# print(float('True'))\n",
        "# print(float('0b10101'))"
      ],
      "execution_count": null,
      "outputs": []
    },
    {
      "cell_type": "code",
      "metadata": {
        "colab": {
          "base_uri": "https://localhost:8080/"
        },
        "id": "v2XCnQ3Kh5CC",
        "outputId": "3424c344-1b32-4ebf-f047-2db9302b2592"
      },
      "source": [
        "# complex - real, imag\n",
        "# complex(real) - real + 0j\n",
        "# complex(real, imag) - real + imag j\n",
        "# If first value is string then second value is not allowed\n",
        "# Second value we can not pass as string\n",
        "print(complex(10))\n",
        "print(complex('10'))\n",
        "print(complex(10.20))\n",
        "print(complex('10.2'))\n",
        "print(complex(0b10101))\n",
        "print(complex(True))\n"
      ],
      "execution_count": 24,
      "outputs": [
        {
          "output_type": "stream",
          "text": [
            "(10+0j)\n",
            "(10+0j)\n",
            "(10.2+0j)\n",
            "(10.2+0j)\n",
            "(21+0j)\n",
            "(1+0j)\n"
          ],
          "name": "stdout"
        }
      ]
    },
    {
      "cell_type": "code",
      "metadata": {
        "colab": {
          "base_uri": "https://localhost:8080/",
          "height": 178
        },
        "id": "TW27Nxu6h5G3",
        "outputId": "921c4d6d-1fe5-4e87-9443-f80b2f6ada6d"
      },
      "source": [
        "# print(complex('0b10101'))\n",
        "# print(complex('True'))"
      ],
      "execution_count": 27,
      "outputs": [
        {
          "output_type": "error",
          "ename": "ValueError",
          "evalue": "ignored",
          "traceback": [
            "\u001b[0;31m---------------------------------------------------------------------------\u001b[0m",
            "\u001b[0;31mValueError\u001b[0m                                Traceback (most recent call last)",
            "\u001b[0;32m<ipython-input-27-e99142a5f6a0>\u001b[0m in \u001b[0;36m<module>\u001b[0;34m()\u001b[0m\n\u001b[0;32m----> 1\u001b[0;31m \u001b[0mprint\u001b[0m\u001b[0;34m(\u001b[0m\u001b[0mcomplex\u001b[0m\u001b[0;34m(\u001b[0m\u001b[0;34m'0b10101'\u001b[0m\u001b[0;34m)\u001b[0m\u001b[0;34m)\u001b[0m\u001b[0;34m\u001b[0m\u001b[0;34m\u001b[0m\u001b[0m\n\u001b[0m\u001b[1;32m      2\u001b[0m \u001b[0mprint\u001b[0m\u001b[0;34m(\u001b[0m\u001b[0mcomplex\u001b[0m\u001b[0;34m(\u001b[0m\u001b[0;34m'True'\u001b[0m\u001b[0;34m)\u001b[0m\u001b[0;34m)\u001b[0m\u001b[0;34m\u001b[0m\u001b[0;34m\u001b[0m\u001b[0m\n",
            "\u001b[0;31mValueError\u001b[0m: complex() arg is a malformed string"
          ]
        }
      ]
    },
    {
      "cell_type": "code",
      "metadata": {
        "colab": {
          "base_uri": "https://localhost:8080/"
        },
        "id": "_mn6uDxYiFxL",
        "outputId": "57598d59-6a6a-4842-c285-19ad0b32cedd"
      },
      "source": [
        "print(complex(10, 20))\n",
        "print(complex(10.20, 30))\n",
        "print(complex(0b10101))\n",
        "print(complex(True))"
      ],
      "execution_count": 25,
      "outputs": [
        {
          "output_type": "stream",
          "text": [
            "(10+20j)\n",
            "(10.2+30j)\n",
            "(21+0j)\n",
            "(1+0j)\n"
          ],
          "name": "stdout"
        }
      ]
    },
    {
      "cell_type": "code",
      "metadata": {
        "colab": {
          "base_uri": "https://localhost:8080/",
          "height": 195
        },
        "id": "xfwyoyF5iF1A",
        "outputId": "af720f50-793c-4072-bc08-18dea3ae456d"
      },
      "source": [
        "# print(complex('10'))\n",
        "# print(complex(0, '10.2'))"
      ],
      "execution_count": 26,
      "outputs": [
        {
          "output_type": "stream",
          "text": [
            "(10+0j)\n"
          ],
          "name": "stdout"
        },
        {
          "output_type": "error",
          "ename": "TypeError",
          "evalue": "ignored",
          "traceback": [
            "\u001b[0;31m---------------------------------------------------------------------------\u001b[0m",
            "\u001b[0;31mTypeError\u001b[0m                                 Traceback (most recent call last)",
            "\u001b[0;32m<ipython-input-26-0674907454e5>\u001b[0m in \u001b[0;36m<module>\u001b[0;34m()\u001b[0m\n\u001b[1;32m      1\u001b[0m \u001b[0mprint\u001b[0m\u001b[0;34m(\u001b[0m\u001b[0mcomplex\u001b[0m\u001b[0;34m(\u001b[0m\u001b[0;34m'10'\u001b[0m\u001b[0;34m)\u001b[0m\u001b[0;34m)\u001b[0m\u001b[0;34m\u001b[0m\u001b[0;34m\u001b[0m\u001b[0m\n\u001b[0;32m----> 2\u001b[0;31m \u001b[0mprint\u001b[0m\u001b[0;34m(\u001b[0m\u001b[0mcomplex\u001b[0m\u001b[0;34m(\u001b[0m\u001b[0;36m0\u001b[0m\u001b[0;34m,\u001b[0m \u001b[0;34m'10.2'\u001b[0m\u001b[0;34m)\u001b[0m\u001b[0;34m)\u001b[0m\u001b[0;34m\u001b[0m\u001b[0;34m\u001b[0m\u001b[0m\n\u001b[0m",
            "\u001b[0;31mTypeError\u001b[0m: complex() second arg can't be a string"
          ]
        }
      ]
    },
    {
      "cell_type": "code",
      "metadata": {
        "colab": {
          "base_uri": "https://localhost:8080/"
        },
        "id": "eCaKkIwViGF0",
        "outputId": "0f113b77-fe37-4883-99ab-ccb05d8af28d"
      },
      "source": [
        "# str()\n",
        "# Pass any value, it will be converted to string\n",
        "print(str(10))\n",
        "print(str(10.20))\n",
        "print(str(10.20+30j))\n",
        "print(str('10.20+30j'))\n",
        "print(int(10))\n"
      ],
      "execution_count": 28,
      "outputs": [
        {
          "output_type": "stream",
          "text": [
            "10\n",
            "10.2\n",
            "(10.2+30j)\n",
            "10.20+30j\n",
            "10\n"
          ],
          "name": "stdout"
        }
      ]
    },
    {
      "cell_type": "code",
      "metadata": {
        "ExecuteTime": {
          "end_time": "2021-04-14T04:13:05.174350Z",
          "start_time": "2021-04-14T04:13:05.160555Z"
        },
        "id": "rmr0C5D6U8l-",
        "colab": {
          "base_uri": "https://localhost:8080/",
          "height": 35
        },
        "outputId": "7a10e1de-98ca-4ac1-b9e9-ff3ae0c8cb7f"
      },
      "source": [
        "\n",
        "# # str('10.20+30j')\n",
        "# str(10.20+30j)\n",
        "# # str('A')"
      ],
      "execution_count": 29,
      "outputs": [
        {
          "output_type": "execute_result",
          "data": {
            "application/vnd.google.colaboratory.intrinsic+json": {
              "type": "string"
            },
            "text/plain": [
              "'10'"
            ]
          },
          "metadata": {
            "tags": []
          },
          "execution_count": 29
        }
      ]
    },
    {
      "cell_type": "code",
      "metadata": {
        "ExecuteTime": {
          "end_time": "2021-04-14T04:16:51.991813Z",
          "start_time": "2021-04-14T04:16:44.107075Z"
        },
        "id": "yvY-EZWZU8mB",
        "colab": {
          "base_uri": "https://localhost:8080/"
        },
        "outputId": "c82c0e6d-120f-4cb4-b5fd-ac83fd8518c4"
      },
      "source": [
        "# Input and output function\n",
        "\n",
        "# To take the input from user - input\n",
        "# it converts everything to string type\n",
        "\n",
        "num = int(input('Enter a number: '))\n",
        "print(num, type(num))"
      ],
      "execution_count": 30,
      "outputs": [
        {
          "output_type": "stream",
          "text": [
            "Enter a number: 12\n",
            "12 <class 'int'>\n"
          ],
          "name": "stdout"
        }
      ]
    },
    {
      "cell_type": "code",
      "metadata": {
        "colab": {
          "base_uri": "https://localhost:8080/"
        },
        "id": "gTSQxnFrjlg7",
        "outputId": "e0e983ae-9445-4845-b288-93d6e47b9648"
      },
      "source": [
        "\n",
        "age = eval(input('Enetr your age: '))\n",
        "print(age, type(age))\n"
      ],
      "execution_count": 32,
      "outputs": [
        {
          "output_type": "stream",
          "text": [
            "Enetr your age: [12,23]\n",
            "[12, 23] <class 'list'>\n"
          ],
          "name": "stdout"
        }
      ]
    },
    {
      "cell_type": "code",
      "metadata": {
        "colab": {
          "base_uri": "https://localhost:8080/"
        },
        "id": "Wz-meDzVj3rG",
        "outputId": "9f5190f5-d6a4-4719-9a15-cb919559534c"
      },
      "source": [
        "# eval -> evaluate\n",
        "# It evaluates the expression\n",
        "# It takes the expression only in string format\n",
        "# It parses, Compiles and evaluate the expression\n",
        "\n",
        "\n",
        "a = eval('10')\n",
        "print(a, type(a))\n",
        "\n",
        "b = eval('10+20')\n",
        "print(b, type(b))\n",
        "\n",
        "c = eval('[10,20,30,40]')\n",
        "print(c, type(c))\n"
      ],
      "execution_count": 33,
      "outputs": [
        {
          "output_type": "stream",
          "text": [
            "10 <class 'int'>\n",
            "30 <class 'int'>\n",
            "[10, 20, 30, 40] <class 'list'>\n"
          ],
          "name": "stdout"
        }
      ]
    },
    {
      "cell_type": "code",
      "metadata": {
        "colab": {
          "base_uri": "https://localhost:8080/"
        },
        "id": "zTOEvTTkj30-",
        "outputId": "5608ac19-9691-4798-ed47-daf13e8f650c"
      },
      "source": [
        "# Taking int input from the user\n",
        "a = int(input('Enter a number: '))\n",
        "print(a, type(a))\n",
        "\n",
        "# Taking list input from the user\n",
        "a = list(input('Enter a list: '))\n",
        "print(a, type(a))\n",
        "'[10,20,30,40]'\n",
        "\n",
        "\n",
        "a = eval(input('Enter a list: '))\n",
        "print(a, type(a))"
      ],
      "execution_count": 34,
      "outputs": [
        {
          "output_type": "stream",
          "text": [
            "Enter a number: 12\n",
            "12 <class 'int'>\n",
            "Enter a list: [12,27]\n",
            "['[', '1', '2', ',', '2', '7', ']'] <class 'list'>\n",
            "Enter a list: [12,27]\n",
            "[12, 27] <class 'list'>\n"
          ],
          "name": "stdout"
        }
      ]
    },
    {
      "cell_type": "code",
      "metadata": {
        "ExecuteTime": {
          "end_time": "2021-04-14T04:30:13.810882Z",
          "start_time": "2021-04-14T04:30:12.680860Z"
        },
        "id": "YnCu6IX8U8mD",
        "colab": {
          "base_uri": "https://localhost:8080/"
        },
        "outputId": "949daf08-fa91-4d68-a379-f54fbf5dd8ce"
      },
      "source": [
        "import sys\n",
        "a = eval(input('Enter a complex number: '))\n",
        "if type(a) != complex:\n",
        "    sys.exit()\n",
        "else:\n",
        "    print(a)\n",
        "               "
      ],
      "execution_count": 35,
      "outputs": [
        {
          "output_type": "stream",
          "text": [
            "Enter a complex number: 10+4j\n",
            "(10+4j)\n"
          ],
          "name": "stdout"
        }
      ]
    },
    {
      "cell_type": "code",
      "metadata": {
        "ExecuteTime": {
          "end_time": "2021-04-14T04:25:05.014315Z",
          "start_time": "2021-04-14T04:25:05.006761Z"
        },
        "id": "av-VcTrUU8mF",
        "outputId": "302cea88-8437-4083-ddb1-c0934dd6f478"
      },
      "source": [
        "tuple('Python')"
      ],
      "execution_count": null,
      "outputs": [
        {
          "output_type": "execute_result",
          "data": {
            "text/plain": [
              "('P', 'y', 't', 'h', 'o', 'n')"
            ]
          },
          "metadata": {
            "tags": []
          },
          "execution_count": 134
        }
      ]
    },
    {
      "cell_type": "code",
      "metadata": {
        "id": "j9NYC9-HU8mH"
      },
      "source": [
        ""
      ],
      "execution_count": null,
      "outputs": []
    },
    {
      "cell_type": "code",
      "metadata": {
        "id": "9vTJg94wU8mI"
      },
      "source": [
        ""
      ],
      "execution_count": null,
      "outputs": []
    },
    {
      "cell_type": "code",
      "metadata": {
        "id": "VoIhorJSU8mI"
      },
      "source": [
        ""
      ],
      "execution_count": null,
      "outputs": []
    },
    {
      "cell_type": "code",
      "metadata": {
        "id": "nvZQkdN4U8mJ"
      },
      "source": [
        ""
      ],
      "execution_count": null,
      "outputs": []
    },
    {
      "cell_type": "code",
      "metadata": {
        "id": "PbZPl0pDU8mK"
      },
      "source": [
        ""
      ],
      "execution_count": null,
      "outputs": []
    },
    {
      "cell_type": "code",
      "metadata": {
        "id": "ka6fXWTyU8mK"
      },
      "source": [
        ""
      ],
      "execution_count": null,
      "outputs": []
    },
    {
      "cell_type": "code",
      "metadata": {
        "id": "HXq-AbVJU8mL"
      },
      "source": [
        ""
      ],
      "execution_count": null,
      "outputs": []
    },
    {
      "cell_type": "code",
      "metadata": {
        "id": "I_gvBINAU8mL"
      },
      "source": [
        ""
      ],
      "execution_count": null,
      "outputs": []
    },
    {
      "cell_type": "code",
      "metadata": {
        "id": "FgaW4B4mU8mL"
      },
      "source": [
        ""
      ],
      "execution_count": null,
      "outputs": []
    },
    {
      "cell_type": "code",
      "metadata": {
        "id": "hpsUtu1uU8mM"
      },
      "source": [
        ""
      ],
      "execution_count": null,
      "outputs": []
    },
    {
      "cell_type": "code",
      "metadata": {
        "id": "mPhmFKGPU8mM"
      },
      "source": [
        ""
      ],
      "execution_count": null,
      "outputs": []
    },
    {
      "cell_type": "code",
      "metadata": {
        "id": "kTVrfNLcU8mN"
      },
      "source": [
        ""
      ],
      "execution_count": null,
      "outputs": []
    },
    {
      "cell_type": "code",
      "metadata": {
        "id": "Gl-4017dU8mN"
      },
      "source": [
        ""
      ],
      "execution_count": null,
      "outputs": []
    },
    {
      "cell_type": "code",
      "metadata": {
        "id": "6UeSUAT1U8mO"
      },
      "source": [
        ""
      ],
      "execution_count": null,
      "outputs": []
    },
    {
      "cell_type": "code",
      "metadata": {
        "id": "ORAtUb6WU8mO"
      },
      "source": [
        ""
      ],
      "execution_count": null,
      "outputs": []
    },
    {
      "cell_type": "code",
      "metadata": {
        "id": "kFbglsUEU8mO"
      },
      "source": [
        ""
      ],
      "execution_count": null,
      "outputs": []
    },
    {
      "cell_type": "code",
      "metadata": {
        "id": "WmNKBfYpU8mP"
      },
      "source": [
        ""
      ],
      "execution_count": null,
      "outputs": []
    },
    {
      "cell_type": "code",
      "metadata": {
        "id": "o42lZRYxU8mP"
      },
      "source": [
        ""
      ],
      "execution_count": null,
      "outputs": []
    },
    {
      "cell_type": "code",
      "metadata": {
        "id": "Y4mDio1SU8mQ"
      },
      "source": [
        ""
      ],
      "execution_count": null,
      "outputs": []
    },
    {
      "cell_type": "code",
      "metadata": {
        "id": "4GCM4raaU8mQ"
      },
      "source": [
        ""
      ],
      "execution_count": null,
      "outputs": []
    },
    {
      "cell_type": "code",
      "metadata": {
        "id": "1vewZqKPU8mQ"
      },
      "source": [
        ""
      ],
      "execution_count": null,
      "outputs": []
    },
    {
      "cell_type": "code",
      "metadata": {
        "id": "5guEKTS0U8mR"
      },
      "source": [
        ""
      ],
      "execution_count": null,
      "outputs": []
    },
    {
      "cell_type": "code",
      "metadata": {
        "id": "bvQbXo8NU8mR"
      },
      "source": [
        ""
      ],
      "execution_count": null,
      "outputs": []
    },
    {
      "cell_type": "code",
      "metadata": {
        "id": "icGBOToSU8mS"
      },
      "source": [
        ""
      ],
      "execution_count": null,
      "outputs": []
    },
    {
      "cell_type": "code",
      "metadata": {
        "id": "pK4S1v3bU8mS"
      },
      "source": [
        ""
      ],
      "execution_count": null,
      "outputs": []
    },
    {
      "cell_type": "code",
      "metadata": {
        "id": "xpzK4wnOU8mS"
      },
      "source": [
        ""
      ],
      "execution_count": null,
      "outputs": []
    },
    {
      "cell_type": "code",
      "metadata": {
        "id": "zS2Ltoa2U8mT"
      },
      "source": [
        ""
      ],
      "execution_count": null,
      "outputs": []
    },
    {
      "cell_type": "code",
      "metadata": {
        "id": "llZVpJXPU8mT"
      },
      "source": [
        ""
      ],
      "execution_count": null,
      "outputs": []
    },
    {
      "cell_type": "code",
      "metadata": {
        "id": "n0BHIhAPU8mU"
      },
      "source": [
        ""
      ],
      "execution_count": null,
      "outputs": []
    },
    {
      "cell_type": "code",
      "metadata": {
        "id": "AC7H2Gh3U8mU"
      },
      "source": [
        ""
      ],
      "execution_count": null,
      "outputs": []
    },
    {
      "cell_type": "code",
      "metadata": {
        "id": "66BSqZz8U8mV"
      },
      "source": [
        ""
      ],
      "execution_count": null,
      "outputs": []
    },
    {
      "cell_type": "code",
      "metadata": {
        "id": "rzqsPDDUU8mV"
      },
      "source": [
        ""
      ],
      "execution_count": null,
      "outputs": []
    },
    {
      "cell_type": "code",
      "metadata": {
        "id": "4bGzK6ZaU8mW"
      },
      "source": [
        ""
      ],
      "execution_count": null,
      "outputs": []
    },
    {
      "cell_type": "code",
      "metadata": {
        "id": "R6WOad-2U8mW"
      },
      "source": [
        ""
      ],
      "execution_count": null,
      "outputs": []
    },
    {
      "cell_type": "code",
      "metadata": {
        "id": "zY9mUISjU8mX"
      },
      "source": [
        ""
      ],
      "execution_count": null,
      "outputs": []
    },
    {
      "cell_type": "code",
      "metadata": {
        "id": "ATp5azL-U8mY"
      },
      "source": [
        ""
      ],
      "execution_count": null,
      "outputs": []
    },
    {
      "cell_type": "code",
      "metadata": {
        "id": "fpbH2D1qU8mY"
      },
      "source": [
        ""
      ],
      "execution_count": null,
      "outputs": []
    },
    {
      "cell_type": "code",
      "metadata": {
        "id": "NY-dw-MbU8mZ"
      },
      "source": [
        ""
      ],
      "execution_count": null,
      "outputs": []
    },
    {
      "cell_type": "code",
      "metadata": {
        "id": "oSKgOF2iU8mZ"
      },
      "source": [
        ""
      ],
      "execution_count": null,
      "outputs": []
    },
    {
      "cell_type": "code",
      "metadata": {
        "id": "Q8rAz1sYU8mZ"
      },
      "source": [
        ""
      ],
      "execution_count": null,
      "outputs": []
    },
    {
      "cell_type": "code",
      "metadata": {
        "id": "2XjY3niyU8ma"
      },
      "source": [
        ""
      ],
      "execution_count": null,
      "outputs": []
    },
    {
      "cell_type": "code",
      "metadata": {
        "id": "fv1rNVSDU8ma"
      },
      "source": [
        ""
      ],
      "execution_count": null,
      "outputs": []
    },
    {
      "cell_type": "code",
      "metadata": {
        "id": "ASpZb1Y3U8mb"
      },
      "source": [
        ""
      ],
      "execution_count": null,
      "outputs": []
    },
    {
      "cell_type": "code",
      "metadata": {
        "id": "X8YNFMOqU8mb"
      },
      "source": [
        ""
      ],
      "execution_count": null,
      "outputs": []
    },
    {
      "cell_type": "code",
      "metadata": {
        "id": "apJgtZBTU8mc"
      },
      "source": [
        ""
      ],
      "execution_count": null,
      "outputs": []
    },
    {
      "cell_type": "code",
      "metadata": {
        "id": "XKfyhw56U8mc"
      },
      "source": [
        ""
      ],
      "execution_count": null,
      "outputs": []
    },
    {
      "cell_type": "code",
      "metadata": {
        "id": "3Fw_gczjU8mc"
      },
      "source": [
        ""
      ],
      "execution_count": null,
      "outputs": []
    },
    {
      "cell_type": "code",
      "metadata": {
        "id": "rgjjKeOJU8md"
      },
      "source": [
        ""
      ],
      "execution_count": null,
      "outputs": []
    },
    {
      "cell_type": "code",
      "metadata": {
        "id": "1rDisNQFU8md"
      },
      "source": [
        ""
      ],
      "execution_count": null,
      "outputs": []
    },
    {
      "cell_type": "code",
      "metadata": {
        "id": "8MvmMPSDU8me"
      },
      "source": [
        ""
      ],
      "execution_count": null,
      "outputs": []
    },
    {
      "cell_type": "code",
      "metadata": {
        "id": "eeMRGg9ZU8me"
      },
      "source": [
        ""
      ],
      "execution_count": null,
      "outputs": []
    },
    {
      "cell_type": "code",
      "metadata": {
        "id": "Wlu1R3KeU8me"
      },
      "source": [
        ""
      ],
      "execution_count": null,
      "outputs": []
    },
    {
      "cell_type": "code",
      "metadata": {
        "id": "fnJgySlmU8mf"
      },
      "source": [
        ""
      ],
      "execution_count": null,
      "outputs": []
    },
    {
      "cell_type": "code",
      "metadata": {
        "id": "5rBL8yVKU8mf"
      },
      "source": [
        ""
      ],
      "execution_count": null,
      "outputs": []
    },
    {
      "cell_type": "code",
      "metadata": {
        "id": "JKd8uqAhU8mg"
      },
      "source": [
        ""
      ],
      "execution_count": null,
      "outputs": []
    },
    {
      "cell_type": "code",
      "metadata": {
        "id": "Sta59w6LU8mg"
      },
      "source": [
        ""
      ],
      "execution_count": null,
      "outputs": []
    },
    {
      "cell_type": "code",
      "metadata": {
        "id": "Kp2oUxFiU8mg"
      },
      "source": [
        ""
      ],
      "execution_count": null,
      "outputs": []
    },
    {
      "cell_type": "code",
      "metadata": {
        "id": "66uIjrokU8mh"
      },
      "source": [
        ""
      ],
      "execution_count": null,
      "outputs": []
    },
    {
      "cell_type": "code",
      "metadata": {
        "id": "o_7ad6PeU8mh"
      },
      "source": [
        ""
      ],
      "execution_count": null,
      "outputs": []
    }
  ]
}