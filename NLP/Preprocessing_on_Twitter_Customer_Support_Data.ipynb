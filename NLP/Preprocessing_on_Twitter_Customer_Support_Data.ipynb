{
  "nbformat": 4,
  "nbformat_minor": 0,
  "metadata": {
    "colab": {
      "name": "Preprocessing on Twitter Customer Support Data.ipynb",
      "provenance": [],
      "collapsed_sections": [],
      "include_colab_link": true
    },
    "kernelspec": {
      "name": "python3",
      "display_name": "Python 3"
    }
  },
  "cells": [
    {
      "cell_type": "markdown",
      "metadata": {
        "id": "view-in-github",
        "colab_type": "text"
      },
      "source": [
        "<a href=\"https://colab.research.google.com/github/Ashwinikb27/DataScience/blob/main/NLP/Preprocessing_on_Twitter_Customer_Support_Data.ipynb\" target=\"_parent\"><img src=\"https://colab.research.google.com/assets/colab-badge.svg\" alt=\"Open In Colab\"/></a>"
      ]
    },
    {
      "cell_type": "markdown",
      "metadata": {
        "id": "RUCf4KiUvvcl"
      },
      "source": [
        "## Text Preprocessing"
      ]
    },
    {
      "cell_type": "markdown",
      "metadata": {
        "id": "vGqMk4ChpFCL"
      },
      "source": [
        "In any machine learning task, cleaning or preprocessing the data is as important as model building if not more. And when it comes to unstructured data like text, this process is even more important.\n",
        "\n",
        "Objective of this code is to understand the various text preprocessing steps with examples.\n",
        "\n",
        "Some of the common text preprocessing / cleaning steps are:\n",
        "\n",
        "* Lower casing - \n",
        "* Removal of Punctuations\n",
        "* Removal of Stopwords\n",
        "* Removal of Frequent words\n",
        "* Removal of Rare words\n",
        "* Number to words/ignoring numbers\n",
        "* Stemming\n",
        "* Lemmatization\n",
        "* Removal of emojis\n",
        "* Removal of emoticons\n",
        "* Conversion of emoticons to words\n",
        "* Conversion of emojis to words\n",
        "* Removal of URLs\n",
        "* Removal of HTML tags\n",
        "* Chat words conversion\n",
        "* Spelling correction\n",
        "\n",
        "\n",
        "So these are the different types of text preprocessing steps which we can do on text data. But we need not do all of these all the times. We need to carefully choose the preprocessing steps based on our use case since that also play an important role.\n",
        "\n",
        "For example, in sentiment analysis use case, we need not remove the emojis or emoticons as it will convey some important information about the sentiment. Similarly we need to decide based on our use cases."
      ]
    },
    {
      "cell_type": "code",
      "metadata": {
        "id": "c2J5Z7NVoQDK"
      },
      "source": [
        "import pandas as pd\n",
        "import re\n",
        "import nltk\n",
        "import spacy\n",
        "import string"
      ],
      "execution_count": 1,
      "outputs": []
    },
    {
      "cell_type": "code",
      "metadata": {
        "id": "kYfe6OodpiHe",
        "colab": {
          "base_uri": "https://localhost:8080/"
        },
        "outputId": "ab7ba608-5d9e-4d55-9c36-efcfc7704052"
      },
      "source": [
        "from google.colab import drive  # while working on colab only\n",
        "drive.mount('/content/drive')    # copy the URL and paste it here then press enter"
      ],
      "execution_count": 5,
      "outputs": [
        {
          "output_type": "stream",
          "text": [
            "Mounted at /content/drive\n"
          ],
          "name": "stdout"
        }
      ]
    },
    {
      "cell_type": "code",
      "metadata": {
        "id": "HZSsXrBepr5g",
        "colab": {
          "base_uri": "https://localhost:8080/"
        },
        "outputId": "30f55398-5d4c-4c52-867e-7c36a887e6fb"
      },
      "source": [
        "! ls \"/content/drive/My Drive/data\""
      ],
      "execution_count": 16,
      "outputs": [
        {
          "output_type": "stream",
          "text": [
            "ls: cannot access '/content/drive/My Drive/data': No such file or directory\n"
          ],
          "name": "stdout"
        }
      ]
    },
    {
      "cell_type": "markdown",
      "metadata": {
        "id": "Q6NXKKAvUiXV"
      },
      "source": [
        "# New section"
      ]
    },
    {
      "cell_type": "code",
      "metadata": {
        "id": "X0O40QtBqcAx",
        "colab": {
          "base_uri": "https://localhost:8080/",
          "height": 408
        },
        "outputId": "57b92ba9-e66d-499f-8251-5739eb7fcc82"
      },
      "source": [
        "#full_df = pd.read_csv(\"/content/drive/My Drive/data/twcs.csv\", nrows=100000) \n",
        "full_df = pd.read_csv(\"twcs.csv\", nrows=100000) # randomly 100000 data because by decrease the burden to the RAM and it takes too much time to process\n",
        "df = full_df[[\"text\"]]\n",
        "df[\"text\"] = df[\"text\"].astype(str)\n",
        "full_df.head()"
      ],
      "execution_count": 34,
      "outputs": [
        {
          "output_type": "stream",
          "text": [
            "/usr/local/lib/python3.7/dist-packages/ipykernel_launcher.py:4: SettingWithCopyWarning: \n",
            "A value is trying to be set on a copy of a slice from a DataFrame.\n",
            "Try using .loc[row_indexer,col_indexer] = value instead\n",
            "\n",
            "See the caveats in the documentation: https://pandas.pydata.org/pandas-docs/stable/user_guide/indexing.html#returning-a-view-versus-a-copy\n",
            "  after removing the cwd from sys.path.\n"
          ],
          "name": "stderr"
        },
        {
          "output_type": "execute_result",
          "data": {
            "text/html": [
              "<div>\n",
              "<style scoped>\n",
              "    .dataframe tbody tr th:only-of-type {\n",
              "        vertical-align: middle;\n",
              "    }\n",
              "\n",
              "    .dataframe tbody tr th {\n",
              "        vertical-align: top;\n",
              "    }\n",
              "\n",
              "    .dataframe thead th {\n",
              "        text-align: right;\n",
              "    }\n",
              "</style>\n",
              "<table border=\"1\" class=\"dataframe\">\n",
              "  <thead>\n",
              "    <tr style=\"text-align: right;\">\n",
              "      <th></th>\n",
              "      <th>tweet_id</th>\n",
              "      <th>author_id</th>\n",
              "      <th>inbound</th>\n",
              "      <th>created_at</th>\n",
              "      <th>text</th>\n",
              "      <th>response_tweet_id</th>\n",
              "      <th>in_response_to_tweet_id</th>\n",
              "    </tr>\n",
              "  </thead>\n",
              "  <tbody>\n",
              "    <tr>\n",
              "      <th>0</th>\n",
              "      <td>1</td>\n",
              "      <td>sprintcare</td>\n",
              "      <td>False</td>\n",
              "      <td>Tue Oct 31 22:10:47 +0000 2017</td>\n",
              "      <td>@115712 I understand. I would like to assist y...</td>\n",
              "      <td>2</td>\n",
              "      <td>3.0</td>\n",
              "    </tr>\n",
              "    <tr>\n",
              "      <th>1</th>\n",
              "      <td>2</td>\n",
              "      <td>115712</td>\n",
              "      <td>True</td>\n",
              "      <td>Tue Oct 31 22:11:45 +0000 2017</td>\n",
              "      <td>@sprintcare and how do you propose we do that</td>\n",
              "      <td>NaN</td>\n",
              "      <td>1.0</td>\n",
              "    </tr>\n",
              "    <tr>\n",
              "      <th>2</th>\n",
              "      <td>3</td>\n",
              "      <td>115712</td>\n",
              "      <td>True</td>\n",
              "      <td>Tue Oct 31 22:08:27 +0000 2017</td>\n",
              "      <td>@sprintcare I have sent several private messag...</td>\n",
              "      <td>1</td>\n",
              "      <td>4.0</td>\n",
              "    </tr>\n",
              "    <tr>\n",
              "      <th>3</th>\n",
              "      <td>4</td>\n",
              "      <td>sprintcare</td>\n",
              "      <td>False</td>\n",
              "      <td>Tue Oct 31 21:54:49 +0000 2017</td>\n",
              "      <td>@115712 Please send us a Private Message so th...</td>\n",
              "      <td>3</td>\n",
              "      <td>5.0</td>\n",
              "    </tr>\n",
              "    <tr>\n",
              "      <th>4</th>\n",
              "      <td>5</td>\n",
              "      <td>115712</td>\n",
              "      <td>True</td>\n",
              "      <td>Tue Oct 31 21:49:35 +0000 2017</td>\n",
              "      <td>@sprintcare I did.</td>\n",
              "      <td>4</td>\n",
              "      <td>6.0</td>\n",
              "    </tr>\n",
              "  </tbody>\n",
              "</table>\n",
              "</div>"
            ],
            "text/plain": [
              "   tweet_id   author_id  ...  response_tweet_id in_response_to_tweet_id\n",
              "0         1  sprintcare  ...                  2                     3.0\n",
              "1         2      115712  ...                NaN                     1.0\n",
              "2         3      115712  ...                  1                     4.0\n",
              "3         4  sprintcare  ...                  3                     5.0\n",
              "4         5      115712  ...                  4                     6.0\n",
              "\n",
              "[5 rows x 7 columns]"
            ]
          },
          "metadata": {
            "tags": []
          },
          "execution_count": 34
        }
      ]
    },
    {
      "cell_type": "markdown",
      "metadata": {
        "id": "G1pmhX9Tqj_t"
      },
      "source": [
        "1. Lower case conversion"
      ]
    },
    {
      "cell_type": "code",
      "metadata": {
        "id": "dWN8PEIlqmgS",
        "colab": {
          "base_uri": "https://localhost:8080/",
          "height": 324
        },
        "outputId": "fe6f6e16-596a-4ec3-b247-0338fa88dce0"
      },
      "source": [
        "df[\"text_lower\"] = df[\"text\"].str.lower()  # upper and lower case treated different in python\n",
        "df.head()"
      ],
      "execution_count": 35,
      "outputs": [
        {
          "output_type": "stream",
          "text": [
            "/usr/local/lib/python3.7/dist-packages/ipykernel_launcher.py:1: SettingWithCopyWarning: \n",
            "A value is trying to be set on a copy of a slice from a DataFrame.\n",
            "Try using .loc[row_indexer,col_indexer] = value instead\n",
            "\n",
            "See the caveats in the documentation: https://pandas.pydata.org/pandas-docs/stable/user_guide/indexing.html#returning-a-view-versus-a-copy\n",
            "  \"\"\"Entry point for launching an IPython kernel.\n"
          ],
          "name": "stderr"
        },
        {
          "output_type": "execute_result",
          "data": {
            "text/html": [
              "<div>\n",
              "<style scoped>\n",
              "    .dataframe tbody tr th:only-of-type {\n",
              "        vertical-align: middle;\n",
              "    }\n",
              "\n",
              "    .dataframe tbody tr th {\n",
              "        vertical-align: top;\n",
              "    }\n",
              "\n",
              "    .dataframe thead th {\n",
              "        text-align: right;\n",
              "    }\n",
              "</style>\n",
              "<table border=\"1\" class=\"dataframe\">\n",
              "  <thead>\n",
              "    <tr style=\"text-align: right;\">\n",
              "      <th></th>\n",
              "      <th>text</th>\n",
              "      <th>text_lower</th>\n",
              "    </tr>\n",
              "  </thead>\n",
              "  <tbody>\n",
              "    <tr>\n",
              "      <th>0</th>\n",
              "      <td>@115712 I understand. I would like to assist y...</td>\n",
              "      <td>@115712 i understand. i would like to assist y...</td>\n",
              "    </tr>\n",
              "    <tr>\n",
              "      <th>1</th>\n",
              "      <td>@sprintcare and how do you propose we do that</td>\n",
              "      <td>@sprintcare and how do you propose we do that</td>\n",
              "    </tr>\n",
              "    <tr>\n",
              "      <th>2</th>\n",
              "      <td>@sprintcare I have sent several private messag...</td>\n",
              "      <td>@sprintcare i have sent several private messag...</td>\n",
              "    </tr>\n",
              "    <tr>\n",
              "      <th>3</th>\n",
              "      <td>@115712 Please send us a Private Message so th...</td>\n",
              "      <td>@115712 please send us a private message so th...</td>\n",
              "    </tr>\n",
              "    <tr>\n",
              "      <th>4</th>\n",
              "      <td>@sprintcare I did.</td>\n",
              "      <td>@sprintcare i did.</td>\n",
              "    </tr>\n",
              "  </tbody>\n",
              "</table>\n",
              "</div>"
            ],
            "text/plain": [
              "                                                text                                         text_lower\n",
              "0  @115712 I understand. I would like to assist y...  @115712 i understand. i would like to assist y...\n",
              "1      @sprintcare and how do you propose we do that      @sprintcare and how do you propose we do that\n",
              "2  @sprintcare I have sent several private messag...  @sprintcare i have sent several private messag...\n",
              "3  @115712 Please send us a Private Message so th...  @115712 please send us a private message so th...\n",
              "4                                 @sprintcare I did.                                 @sprintcare i did."
            ]
          },
          "metadata": {
            "tags": []
          },
          "execution_count": 35
        }
      ]
    },
    {
      "cell_type": "code",
      "metadata": {
        "colab": {
          "base_uri": "https://localhost:8080/",
          "height": 1000
        },
        "id": "mG-xbt_NvYlP",
        "outputId": "77e3bda3-43ca-4ec8-f419-6cde02459bd8"
      },
      "source": [
        "full_df.head(25)  # Original"
      ],
      "execution_count": 36,
      "outputs": [
        {
          "output_type": "execute_result",
          "data": {
            "text/html": [
              "<div>\n",
              "<style scoped>\n",
              "    .dataframe tbody tr th:only-of-type {\n",
              "        vertical-align: middle;\n",
              "    }\n",
              "\n",
              "    .dataframe tbody tr th {\n",
              "        vertical-align: top;\n",
              "    }\n",
              "\n",
              "    .dataframe thead th {\n",
              "        text-align: right;\n",
              "    }\n",
              "</style>\n",
              "<table border=\"1\" class=\"dataframe\">\n",
              "  <thead>\n",
              "    <tr style=\"text-align: right;\">\n",
              "      <th></th>\n",
              "      <th>tweet_id</th>\n",
              "      <th>author_id</th>\n",
              "      <th>inbound</th>\n",
              "      <th>created_at</th>\n",
              "      <th>text</th>\n",
              "      <th>response_tweet_id</th>\n",
              "      <th>in_response_to_tweet_id</th>\n",
              "    </tr>\n",
              "  </thead>\n",
              "  <tbody>\n",
              "    <tr>\n",
              "      <th>0</th>\n",
              "      <td>1</td>\n",
              "      <td>sprintcare</td>\n",
              "      <td>False</td>\n",
              "      <td>Tue Oct 31 22:10:47 +0000 2017</td>\n",
              "      <td>@115712 I understand. I would like to assist y...</td>\n",
              "      <td>2</td>\n",
              "      <td>3.0</td>\n",
              "    </tr>\n",
              "    <tr>\n",
              "      <th>1</th>\n",
              "      <td>2</td>\n",
              "      <td>115712</td>\n",
              "      <td>True</td>\n",
              "      <td>Tue Oct 31 22:11:45 +0000 2017</td>\n",
              "      <td>@sprintcare and how do you propose we do that</td>\n",
              "      <td>NaN</td>\n",
              "      <td>1.0</td>\n",
              "    </tr>\n",
              "    <tr>\n",
              "      <th>2</th>\n",
              "      <td>3</td>\n",
              "      <td>115712</td>\n",
              "      <td>True</td>\n",
              "      <td>Tue Oct 31 22:08:27 +0000 2017</td>\n",
              "      <td>@sprintcare I have sent several private messag...</td>\n",
              "      <td>1</td>\n",
              "      <td>4.0</td>\n",
              "    </tr>\n",
              "    <tr>\n",
              "      <th>3</th>\n",
              "      <td>4</td>\n",
              "      <td>sprintcare</td>\n",
              "      <td>False</td>\n",
              "      <td>Tue Oct 31 21:54:49 +0000 2017</td>\n",
              "      <td>@115712 Please send us a Private Message so th...</td>\n",
              "      <td>3</td>\n",
              "      <td>5.0</td>\n",
              "    </tr>\n",
              "    <tr>\n",
              "      <th>4</th>\n",
              "      <td>5</td>\n",
              "      <td>115712</td>\n",
              "      <td>True</td>\n",
              "      <td>Tue Oct 31 21:49:35 +0000 2017</td>\n",
              "      <td>@sprintcare I did.</td>\n",
              "      <td>4</td>\n",
              "      <td>6.0</td>\n",
              "    </tr>\n",
              "    <tr>\n",
              "      <th>5</th>\n",
              "      <td>6</td>\n",
              "      <td>sprintcare</td>\n",
              "      <td>False</td>\n",
              "      <td>Tue Oct 31 21:46:24 +0000 2017</td>\n",
              "      <td>@115712 Can you please send us a private messa...</td>\n",
              "      <td>5,7</td>\n",
              "      <td>8.0</td>\n",
              "    </tr>\n",
              "    <tr>\n",
              "      <th>6</th>\n",
              "      <td>8</td>\n",
              "      <td>115712</td>\n",
              "      <td>True</td>\n",
              "      <td>Tue Oct 31 21:45:10 +0000 2017</td>\n",
              "      <td>@sprintcare is the worst customer service</td>\n",
              "      <td>9,6,10</td>\n",
              "      <td>NaN</td>\n",
              "    </tr>\n",
              "    <tr>\n",
              "      <th>7</th>\n",
              "      <td>11</td>\n",
              "      <td>sprintcare</td>\n",
              "      <td>False</td>\n",
              "      <td>Tue Oct 31 22:10:35 +0000 2017</td>\n",
              "      <td>@115713 This is saddening to hear. Please shoo...</td>\n",
              "      <td>NaN</td>\n",
              "      <td>12.0</td>\n",
              "    </tr>\n",
              "    <tr>\n",
              "      <th>8</th>\n",
              "      <td>12</td>\n",
              "      <td>115713</td>\n",
              "      <td>True</td>\n",
              "      <td>Tue Oct 31 22:04:47 +0000 2017</td>\n",
              "      <td>@sprintcare You gonna magically change your co...</td>\n",
              "      <td>11,13,14</td>\n",
              "      <td>15.0</td>\n",
              "    </tr>\n",
              "    <tr>\n",
              "      <th>9</th>\n",
              "      <td>15</td>\n",
              "      <td>sprintcare</td>\n",
              "      <td>False</td>\n",
              "      <td>Tue Oct 31 20:03:31 +0000 2017</td>\n",
              "      <td>@115713 We understand your concerns and we'd l...</td>\n",
              "      <td>12</td>\n",
              "      <td>16.0</td>\n",
              "    </tr>\n",
              "    <tr>\n",
              "      <th>10</th>\n",
              "      <td>16</td>\n",
              "      <td>115713</td>\n",
              "      <td>True</td>\n",
              "      <td>Tue Oct 31 20:00:43 +0000 2017</td>\n",
              "      <td>@sprintcare Since I signed up with you....Sinc...</td>\n",
              "      <td>15</td>\n",
              "      <td>17.0</td>\n",
              "    </tr>\n",
              "    <tr>\n",
              "      <th>11</th>\n",
              "      <td>17</td>\n",
              "      <td>sprintcare</td>\n",
              "      <td>False</td>\n",
              "      <td>Tue Oct 31 19:59:13 +0000 2017</td>\n",
              "      <td>@115713 H there! We'd definitely like to work ...</td>\n",
              "      <td>16</td>\n",
              "      <td>18.0</td>\n",
              "    </tr>\n",
              "    <tr>\n",
              "      <th>12</th>\n",
              "      <td>18</td>\n",
              "      <td>115713</td>\n",
              "      <td>True</td>\n",
              "      <td>Tue Oct 31 19:56:01 +0000 2017</td>\n",
              "      <td>@115714 y’all lie about your “great” connectio...</td>\n",
              "      <td>17</td>\n",
              "      <td>NaN</td>\n",
              "    </tr>\n",
              "    <tr>\n",
              "      <th>13</th>\n",
              "      <td>19</td>\n",
              "      <td>sprintcare</td>\n",
              "      <td>False</td>\n",
              "      <td>Tue Oct 31 22:10:10 +0000 2017</td>\n",
              "      <td>@115715 Please send me a private message so th...</td>\n",
              "      <td>NaN</td>\n",
              "      <td>20.0</td>\n",
              "    </tr>\n",
              "    <tr>\n",
              "      <th>14</th>\n",
              "      <td>20</td>\n",
              "      <td>115715</td>\n",
              "      <td>True</td>\n",
              "      <td>Tue Oct 31 22:03:34 +0000 2017</td>\n",
              "      <td>@115714 whenever I contact customer support, t...</td>\n",
              "      <td>19</td>\n",
              "      <td>NaN</td>\n",
              "    </tr>\n",
              "    <tr>\n",
              "      <th>15</th>\n",
              "      <td>21</td>\n",
              "      <td>Ask_Spectrum</td>\n",
              "      <td>False</td>\n",
              "      <td>Tue Oct 31 22:14:37 +0000 2017</td>\n",
              "      <td>@115716 What information is incorrect? ^JK</td>\n",
              "      <td>22,23</td>\n",
              "      <td>24.0</td>\n",
              "    </tr>\n",
              "    <tr>\n",
              "      <th>16</th>\n",
              "      <td>22</td>\n",
              "      <td>115716</td>\n",
              "      <td>True</td>\n",
              "      <td>Tue Oct 31 22:16:48 +0000 2017</td>\n",
              "      <td>@Ask_Spectrum Would you like me to email you a...</td>\n",
              "      <td>25</td>\n",
              "      <td>21.0</td>\n",
              "    </tr>\n",
              "    <tr>\n",
              "      <th>17</th>\n",
              "      <td>25</td>\n",
              "      <td>Ask_Spectrum</td>\n",
              "      <td>False</td>\n",
              "      <td>Tue Oct 31 22:18:28 +0000 2017</td>\n",
              "      <td>@115716 Our department is part of the corporat...</td>\n",
              "      <td>26</td>\n",
              "      <td>22.0</td>\n",
              "    </tr>\n",
              "    <tr>\n",
              "      <th>18</th>\n",
              "      <td>26</td>\n",
              "      <td>115716</td>\n",
              "      <td>True</td>\n",
              "      <td>Tue Oct 31 22:19:56 +0000 2017</td>\n",
              "      <td>@Ask_Spectrum I received this from your corpor...</td>\n",
              "      <td>27</td>\n",
              "      <td>25.0</td>\n",
              "    </tr>\n",
              "    <tr>\n",
              "      <th>19</th>\n",
              "      <td>27</td>\n",
              "      <td>Ask_Spectrum</td>\n",
              "      <td>False</td>\n",
              "      <td>Tue Oct 31 22:21:26 +0000 2017</td>\n",
              "      <td>@115716 No thank you. ^JK</td>\n",
              "      <td>NaN</td>\n",
              "      <td>26.0</td>\n",
              "    </tr>\n",
              "    <tr>\n",
              "      <th>20</th>\n",
              "      <td>23</td>\n",
              "      <td>115716</td>\n",
              "      <td>True</td>\n",
              "      <td>Tue Oct 31 22:16:05 +0000 2017</td>\n",
              "      <td>@Ask_Spectrum The correct way to do it is via ...</td>\n",
              "      <td>NaN</td>\n",
              "      <td>21.0</td>\n",
              "    </tr>\n",
              "    <tr>\n",
              "      <th>21</th>\n",
              "      <td>24</td>\n",
              "      <td>115716</td>\n",
              "      <td>True</td>\n",
              "      <td>Tue Oct 31 22:13:02 +0000 2017</td>\n",
              "      <td>@Ask_Spectrum That is INCORRECT information I ...</td>\n",
              "      <td>21</td>\n",
              "      <td>28.0</td>\n",
              "    </tr>\n",
              "    <tr>\n",
              "      <th>22</th>\n",
              "      <td>28</td>\n",
              "      <td>Ask_Spectrum</td>\n",
              "      <td>False</td>\n",
              "      <td>Tue Oct 31 22:05:37 +0000 2017</td>\n",
              "      <td>@115716 The information pertaining to the acco...</td>\n",
              "      <td>24</td>\n",
              "      <td>29.0</td>\n",
              "    </tr>\n",
              "    <tr>\n",
              "      <th>23</th>\n",
              "      <td>29</td>\n",
              "      <td>115716</td>\n",
              "      <td>True</td>\n",
              "      <td>Tue Oct 31 22:01:35 +0000 2017</td>\n",
              "      <td>actually that's a broken link you sent me and ...</td>\n",
              "      <td>28</td>\n",
              "      <td>NaN</td>\n",
              "    </tr>\n",
              "    <tr>\n",
              "      <th>24</th>\n",
              "      <td>30</td>\n",
              "      <td>Ask_Spectrum</td>\n",
              "      <td>False</td>\n",
              "      <td>Tue Oct 31 22:12:09 +0000 2017</td>\n",
              "      <td>@115717 Hello, My apologies for any frustratio...</td>\n",
              "      <td>NaN</td>\n",
              "      <td>31.0</td>\n",
              "    </tr>\n",
              "  </tbody>\n",
              "</table>\n",
              "</div>"
            ],
            "text/plain": [
              "    tweet_id     author_id  ...  response_tweet_id in_response_to_tweet_id\n",
              "0          1    sprintcare  ...                  2                     3.0\n",
              "1          2        115712  ...                NaN                     1.0\n",
              "2          3        115712  ...                  1                     4.0\n",
              "3          4    sprintcare  ...                  3                     5.0\n",
              "4          5        115712  ...                  4                     6.0\n",
              "5          6    sprintcare  ...                5,7                     8.0\n",
              "6          8        115712  ...             9,6,10                     NaN\n",
              "7         11    sprintcare  ...                NaN                    12.0\n",
              "8         12        115713  ...           11,13,14                    15.0\n",
              "9         15    sprintcare  ...                 12                    16.0\n",
              "10        16        115713  ...                 15                    17.0\n",
              "11        17    sprintcare  ...                 16                    18.0\n",
              "12        18        115713  ...                 17                     NaN\n",
              "13        19    sprintcare  ...                NaN                    20.0\n",
              "14        20        115715  ...                 19                     NaN\n",
              "15        21  Ask_Spectrum  ...              22,23                    24.0\n",
              "16        22        115716  ...                 25                    21.0\n",
              "17        25  Ask_Spectrum  ...                 26                    22.0\n",
              "18        26        115716  ...                 27                    25.0\n",
              "19        27  Ask_Spectrum  ...                NaN                    26.0\n",
              "20        23        115716  ...                NaN                    21.0\n",
              "21        24        115716  ...                 21                    28.0\n",
              "22        28  Ask_Spectrum  ...                 24                    29.0\n",
              "23        29        115716  ...                 28                     NaN\n",
              "24        30  Ask_Spectrum  ...                NaN                    31.0\n",
              "\n",
              "[25 rows x 7 columns]"
            ]
          },
          "metadata": {
            "tags": []
          },
          "execution_count": 36
        }
      ]
    },
    {
      "cell_type": "markdown",
      "metadata": {
        "id": "4aptvwZ7slk8"
      },
      "source": [
        "2. Removal of Stopwords"
      ]
    },
    {
      "cell_type": "code",
      "metadata": {
        "colab": {
          "base_uri": "https://localhost:8080/"
        },
        "id": "TWElEW-ZsTea",
        "outputId": "784e9cda-bbba-41ae-b63d-ca550c769ece"
      },
      "source": [
        "nltk.download('stopwords')"
      ],
      "execution_count": 37,
      "outputs": [
        {
          "output_type": "stream",
          "text": [
            "[nltk_data] Downloading package stopwords to /root/nltk_data...\n",
            "[nltk_data]   Package stopwords is already up-to-date!\n"
          ],
          "name": "stdout"
        },
        {
          "output_type": "execute_result",
          "data": {
            "text/plain": [
              "True"
            ]
          },
          "metadata": {
            "tags": []
          },
          "execution_count": 37
        }
      ]
    },
    {
      "cell_type": "code",
      "metadata": {
        "colab": {
          "base_uri": "https://localhost:8080/",
          "height": 154
        },
        "id": "txwIO-18sXq5",
        "outputId": "4830c2c6-2875-4e58-beff-01e9643febd2"
      },
      "source": [
        "from nltk.corpus import stopwords\n",
        "\", \".join(stopwords.words('english'))"
      ],
      "execution_count": 38,
      "outputs": [
        {
          "output_type": "execute_result",
          "data": {
            "application/vnd.google.colaboratory.intrinsic+json": {
              "type": "string"
            },
            "text/plain": [
              "\"i, me, my, myself, we, our, ours, ourselves, you, you're, you've, you'll, you'd, your, yours, yourself, yourselves, he, him, his, himself, she, she's, her, hers, herself, it, it's, its, itself, they, them, their, theirs, themselves, what, which, who, whom, this, that, that'll, these, those, am, is, are, was, were, be, been, being, have, has, had, having, do, does, did, doing, a, an, the, and, but, if, or, because, as, until, while, of, at, by, for, with, about, against, between, into, through, during, before, after, above, below, to, from, up, down, in, out, on, off, over, under, again, further, then, once, here, there, when, where, why, how, all, any, both, each, few, more, most, other, some, such, no, nor, not, only, own, same, so, than, too, very, s, t, can, will, just, don, don't, should, should've, now, d, ll, m, o, re, ve, y, ain, aren, aren't, couldn, couldn't, didn, didn't, doesn, doesn't, hadn, hadn't, hasn, hasn't, haven, haven't, isn, isn't, ma, mightn, mightn't, mustn, mustn't, needn, needn't, shan, shan't, shouldn, shouldn't, wasn, wasn't, weren, weren't, won, won't, wouldn, wouldn't\""
            ]
          },
          "metadata": {
            "tags": []
          },
          "execution_count": 38
        }
      ]
    },
    {
      "cell_type": "code",
      "metadata": {
        "colab": {
          "base_uri": "https://localhost:8080/",
          "height": 374
        },
        "id": "Av8TmQnZsehk",
        "outputId": "a153f709-4cfc-4155-e63b-f5f558f956ad"
      },
      "source": [
        "STOPWORDS = set(stopwords.words('english'))\n",
        "def remove_stopwords(text):\n",
        "    \"\"\"function to remove the stopwords\"\"\"\n",
        "    return \" \".join([word for word in str(text).split() if word not in STOPWORDS])\n",
        "\n",
        "df[\"text_wo_stop\"] = df[\"text_lower\"].apply(lambda text: remove_stopwords(text))\n",
        "df.head()"
      ],
      "execution_count": 39,
      "outputs": [
        {
          "output_type": "stream",
          "text": [
            "/usr/local/lib/python3.7/dist-packages/ipykernel_launcher.py:6: SettingWithCopyWarning: \n",
            "A value is trying to be set on a copy of a slice from a DataFrame.\n",
            "Try using .loc[row_indexer,col_indexer] = value instead\n",
            "\n",
            "See the caveats in the documentation: https://pandas.pydata.org/pandas-docs/stable/user_guide/indexing.html#returning-a-view-versus-a-copy\n",
            "  \n"
          ],
          "name": "stderr"
        },
        {
          "output_type": "execute_result",
          "data": {
            "text/html": [
              "<div>\n",
              "<style scoped>\n",
              "    .dataframe tbody tr th:only-of-type {\n",
              "        vertical-align: middle;\n",
              "    }\n",
              "\n",
              "    .dataframe tbody tr th {\n",
              "        vertical-align: top;\n",
              "    }\n",
              "\n",
              "    .dataframe thead th {\n",
              "        text-align: right;\n",
              "    }\n",
              "</style>\n",
              "<table border=\"1\" class=\"dataframe\">\n",
              "  <thead>\n",
              "    <tr style=\"text-align: right;\">\n",
              "      <th></th>\n",
              "      <th>text</th>\n",
              "      <th>text_lower</th>\n",
              "      <th>text_wo_stop</th>\n",
              "    </tr>\n",
              "  </thead>\n",
              "  <tbody>\n",
              "    <tr>\n",
              "      <th>0</th>\n",
              "      <td>@115712 I understand. I would like to assist y...</td>\n",
              "      <td>@115712 i understand. i would like to assist y...</td>\n",
              "      <td>@115712 understand. would like assist you. wou...</td>\n",
              "    </tr>\n",
              "    <tr>\n",
              "      <th>1</th>\n",
              "      <td>@sprintcare and how do you propose we do that</td>\n",
              "      <td>@sprintcare and how do you propose we do that</td>\n",
              "      <td>@sprintcare propose</td>\n",
              "    </tr>\n",
              "    <tr>\n",
              "      <th>2</th>\n",
              "      <td>@sprintcare I have sent several private messag...</td>\n",
              "      <td>@sprintcare i have sent several private messag...</td>\n",
              "      <td>@sprintcare sent several private messages one ...</td>\n",
              "    </tr>\n",
              "    <tr>\n",
              "      <th>3</th>\n",
              "      <td>@115712 Please send us a Private Message so th...</td>\n",
              "      <td>@115712 please send us a private message so th...</td>\n",
              "      <td>@115712 please send us private message assist ...</td>\n",
              "    </tr>\n",
              "    <tr>\n",
              "      <th>4</th>\n",
              "      <td>@sprintcare I did.</td>\n",
              "      <td>@sprintcare i did.</td>\n",
              "      <td>@sprintcare did.</td>\n",
              "    </tr>\n",
              "  </tbody>\n",
              "</table>\n",
              "</div>"
            ],
            "text/plain": [
              "                                                text  ...                                       text_wo_stop\n",
              "0  @115712 I understand. I would like to assist y...  ...  @115712 understand. would like assist you. wou...\n",
              "1      @sprintcare and how do you propose we do that  ...                                @sprintcare propose\n",
              "2  @sprintcare I have sent several private messag...  ...  @sprintcare sent several private messages one ...\n",
              "3  @115712 Please send us a Private Message so th...  ...  @115712 please send us private message assist ...\n",
              "4                                 @sprintcare I did.  ...                                   @sprintcare did.\n",
              "\n",
              "[5 rows x 3 columns]"
            ]
          },
          "metadata": {
            "tags": []
          },
          "execution_count": 39
        }
      ]
    },
    {
      "cell_type": "markdown",
      "metadata": {
        "id": "Vg43I6c3qsYi"
      },
      "source": [
        "3. Remove Punctuations"
      ]
    },
    {
      "cell_type": "code",
      "metadata": {
        "id": "diGEs71mqtPr",
        "colab": {
          "base_uri": "https://localhost:8080/",
          "height": 408
        },
        "outputId": "7043bc8f-72b4-4f68-fe94-1aba2b41e1a7"
      },
      "source": [
        "# drop the new column created in last cell\n",
        "# df.drop([\"text_lower\"], axis=1, inplace=True)\n",
        "\n",
        "PUNCT_TO_REMOVE = string.punctuation\n",
        "print (PUNCT_TO_REMOVE)\n",
        "def remove_punctuation(text):\n",
        "    \"\"\"custom function to remove the punctuation\"\"\"\n",
        "    return text.translate(str.maketrans('', '', PUNCT_TO_REMOVE))\n",
        "\n",
        "df[\"text_wo_punct\"] = df[\"text_wo_stop\"].apply(lambda text: remove_punctuation(text))\n",
        "df.head()"
      ],
      "execution_count": 40,
      "outputs": [
        {
          "output_type": "stream",
          "text": [
            "!\"#$%&'()*+,-./:;<=>?@[\\]^_`{|}~\n"
          ],
          "name": "stdout"
        },
        {
          "output_type": "stream",
          "text": [
            "/usr/local/lib/python3.7/dist-packages/ipykernel_launcher.py:10: SettingWithCopyWarning: \n",
            "A value is trying to be set on a copy of a slice from a DataFrame.\n",
            "Try using .loc[row_indexer,col_indexer] = value instead\n",
            "\n",
            "See the caveats in the documentation: https://pandas.pydata.org/pandas-docs/stable/user_guide/indexing.html#returning-a-view-versus-a-copy\n",
            "  # Remove the CWD from sys.path while we load stuff.\n"
          ],
          "name": "stderr"
        },
        {
          "output_type": "execute_result",
          "data": {
            "text/html": [
              "<div>\n",
              "<style scoped>\n",
              "    .dataframe tbody tr th:only-of-type {\n",
              "        vertical-align: middle;\n",
              "    }\n",
              "\n",
              "    .dataframe tbody tr th {\n",
              "        vertical-align: top;\n",
              "    }\n",
              "\n",
              "    .dataframe thead th {\n",
              "        text-align: right;\n",
              "    }\n",
              "</style>\n",
              "<table border=\"1\" class=\"dataframe\">\n",
              "  <thead>\n",
              "    <tr style=\"text-align: right;\">\n",
              "      <th></th>\n",
              "      <th>text</th>\n",
              "      <th>text_lower</th>\n",
              "      <th>text_wo_stop</th>\n",
              "      <th>text_wo_punct</th>\n",
              "    </tr>\n",
              "  </thead>\n",
              "  <tbody>\n",
              "    <tr>\n",
              "      <th>0</th>\n",
              "      <td>@115712 I understand. I would like to assist y...</td>\n",
              "      <td>@115712 i understand. i would like to assist y...</td>\n",
              "      <td>@115712 understand. would like assist you. wou...</td>\n",
              "      <td>115712 understand would like assist you would ...</td>\n",
              "    </tr>\n",
              "    <tr>\n",
              "      <th>1</th>\n",
              "      <td>@sprintcare and how do you propose we do that</td>\n",
              "      <td>@sprintcare and how do you propose we do that</td>\n",
              "      <td>@sprintcare propose</td>\n",
              "      <td>sprintcare propose</td>\n",
              "    </tr>\n",
              "    <tr>\n",
              "      <th>2</th>\n",
              "      <td>@sprintcare I have sent several private messag...</td>\n",
              "      <td>@sprintcare i have sent several private messag...</td>\n",
              "      <td>@sprintcare sent several private messages one ...</td>\n",
              "      <td>sprintcare sent several private messages one r...</td>\n",
              "    </tr>\n",
              "    <tr>\n",
              "      <th>3</th>\n",
              "      <td>@115712 Please send us a Private Message so th...</td>\n",
              "      <td>@115712 please send us a private message so th...</td>\n",
              "      <td>@115712 please send us private message assist ...</td>\n",
              "      <td>115712 please send us private message assist y...</td>\n",
              "    </tr>\n",
              "    <tr>\n",
              "      <th>4</th>\n",
              "      <td>@sprintcare I did.</td>\n",
              "      <td>@sprintcare i did.</td>\n",
              "      <td>@sprintcare did.</td>\n",
              "      <td>sprintcare did</td>\n",
              "    </tr>\n",
              "  </tbody>\n",
              "</table>\n",
              "</div>"
            ],
            "text/plain": [
              "                                                text  ...                                      text_wo_punct\n",
              "0  @115712 I understand. I would like to assist y...  ...  115712 understand would like assist you would ...\n",
              "1      @sprintcare and how do you propose we do that  ...                                 sprintcare propose\n",
              "2  @sprintcare I have sent several private messag...  ...  sprintcare sent several private messages one r...\n",
              "3  @115712 Please send us a Private Message so th...  ...  115712 please send us private message assist y...\n",
              "4                                 @sprintcare I did.  ...                                     sprintcare did\n",
              "\n",
              "[5 rows x 4 columns]"
            ]
          },
          "metadata": {
            "tags": []
          },
          "execution_count": 40
        }
      ]
    },
    {
      "cell_type": "code",
      "metadata": {
        "id": "X2QZshds-7hu",
        "colab": {
          "base_uri": "https://localhost:8080/",
          "height": 1000
        },
        "outputId": "51224692-d2b6-4998-a0d8-9270ed84477b"
      },
      "source": [
        "df.head(25)"
      ],
      "execution_count": 41,
      "outputs": [
        {
          "output_type": "execute_result",
          "data": {
            "text/html": [
              "<div>\n",
              "<style scoped>\n",
              "    .dataframe tbody tr th:only-of-type {\n",
              "        vertical-align: middle;\n",
              "    }\n",
              "\n",
              "    .dataframe tbody tr th {\n",
              "        vertical-align: top;\n",
              "    }\n",
              "\n",
              "    .dataframe thead th {\n",
              "        text-align: right;\n",
              "    }\n",
              "</style>\n",
              "<table border=\"1\" class=\"dataframe\">\n",
              "  <thead>\n",
              "    <tr style=\"text-align: right;\">\n",
              "      <th></th>\n",
              "      <th>text</th>\n",
              "      <th>text_lower</th>\n",
              "      <th>text_wo_stop</th>\n",
              "      <th>text_wo_punct</th>\n",
              "    </tr>\n",
              "  </thead>\n",
              "  <tbody>\n",
              "    <tr>\n",
              "      <th>0</th>\n",
              "      <td>@115712 I understand. I would like to assist y...</td>\n",
              "      <td>@115712 i understand. i would like to assist y...</td>\n",
              "      <td>@115712 understand. would like assist you. wou...</td>\n",
              "      <td>115712 understand would like assist you would ...</td>\n",
              "    </tr>\n",
              "    <tr>\n",
              "      <th>1</th>\n",
              "      <td>@sprintcare and how do you propose we do that</td>\n",
              "      <td>@sprintcare and how do you propose we do that</td>\n",
              "      <td>@sprintcare propose</td>\n",
              "      <td>sprintcare propose</td>\n",
              "    </tr>\n",
              "    <tr>\n",
              "      <th>2</th>\n",
              "      <td>@sprintcare I have sent several private messag...</td>\n",
              "      <td>@sprintcare i have sent several private messag...</td>\n",
              "      <td>@sprintcare sent several private messages one ...</td>\n",
              "      <td>sprintcare sent several private messages one r...</td>\n",
              "    </tr>\n",
              "    <tr>\n",
              "      <th>3</th>\n",
              "      <td>@115712 Please send us a Private Message so th...</td>\n",
              "      <td>@115712 please send us a private message so th...</td>\n",
              "      <td>@115712 please send us private message assist ...</td>\n",
              "      <td>115712 please send us private message assist y...</td>\n",
              "    </tr>\n",
              "    <tr>\n",
              "      <th>4</th>\n",
              "      <td>@sprintcare I did.</td>\n",
              "      <td>@sprintcare i did.</td>\n",
              "      <td>@sprintcare did.</td>\n",
              "      <td>sprintcare did</td>\n",
              "    </tr>\n",
              "    <tr>\n",
              "      <th>5</th>\n",
              "      <td>@115712 Can you please send us a private messa...</td>\n",
              "      <td>@115712 can you please send us a private messa...</td>\n",
              "      <td>@115712 please send us private message, gain d...</td>\n",
              "      <td>115712 please send us private message gain det...</td>\n",
              "    </tr>\n",
              "    <tr>\n",
              "      <th>6</th>\n",
              "      <td>@sprintcare is the worst customer service</td>\n",
              "      <td>@sprintcare is the worst customer service</td>\n",
              "      <td>@sprintcare worst customer service</td>\n",
              "      <td>sprintcare worst customer service</td>\n",
              "    </tr>\n",
              "    <tr>\n",
              "      <th>7</th>\n",
              "      <td>@115713 This is saddening to hear. Please shoo...</td>\n",
              "      <td>@115713 this is saddening to hear. please shoo...</td>\n",
              "      <td>@115713 saddening hear. please shoot us dm, lo...</td>\n",
              "      <td>115713 saddening hear please shoot us dm look ...</td>\n",
              "    </tr>\n",
              "    <tr>\n",
              "      <th>8</th>\n",
              "      <td>@sprintcare You gonna magically change your co...</td>\n",
              "      <td>@sprintcare you gonna magically change your co...</td>\n",
              "      <td>@sprintcare gonna magically change connectivit...</td>\n",
              "      <td>sprintcare gonna magically change connectivity...</td>\n",
              "    </tr>\n",
              "    <tr>\n",
              "      <th>9</th>\n",
              "      <td>@115713 We understand your concerns and we'd l...</td>\n",
              "      <td>@115713 we understand your concerns and we'd l...</td>\n",
              "      <td>@115713 understand concerns we'd like please s...</td>\n",
              "      <td>115713 understand concerns wed like please sen...</td>\n",
              "    </tr>\n",
              "    <tr>\n",
              "      <th>10</th>\n",
              "      <td>@sprintcare Since I signed up with you....Sinc...</td>\n",
              "      <td>@sprintcare since i signed up with you....sinc...</td>\n",
              "      <td>@sprintcare since signed you....since day 1</td>\n",
              "      <td>sprintcare since signed yousince day 1</td>\n",
              "    </tr>\n",
              "    <tr>\n",
              "      <th>11</th>\n",
              "      <td>@115713 H there! We'd definitely like to work ...</td>\n",
              "      <td>@115713 h there! we'd definitely like to work ...</td>\n",
              "      <td>@115713 h there! we'd definitely like work thi...</td>\n",
              "      <td>115713 h there wed definitely like work this l...</td>\n",
              "    </tr>\n",
              "    <tr>\n",
              "      <th>12</th>\n",
              "      <td>@115714 y’all lie about your “great” connectio...</td>\n",
              "      <td>@115714 y’all lie about your “great” connectio...</td>\n",
              "      <td>@115714 y’all lie “great” connection. 5 bars l...</td>\n",
              "      <td>115714 y’all lie “great” connection 5 bars lte...</td>\n",
              "    </tr>\n",
              "    <tr>\n",
              "      <th>13</th>\n",
              "      <td>@115715 Please send me a private message so th...</td>\n",
              "      <td>@115715 please send me a private message so th...</td>\n",
              "      <td>@115715 please send private message send link ...</td>\n",
              "      <td>115715 please send private message send link a...</td>\n",
              "    </tr>\n",
              "    <tr>\n",
              "      <th>14</th>\n",
              "      <td>@115714 whenever I contact customer support, t...</td>\n",
              "      <td>@115714 whenever i contact customer support, t...</td>\n",
              "      <td>@115714 whenever contact customer support, tel...</td>\n",
              "      <td>115714 whenever contact customer support tell ...</td>\n",
              "    </tr>\n",
              "    <tr>\n",
              "      <th>15</th>\n",
              "      <td>@115716 What information is incorrect? ^JK</td>\n",
              "      <td>@115716 what information is incorrect? ^jk</td>\n",
              "      <td>@115716 information incorrect? ^jk</td>\n",
              "      <td>115716 information incorrect jk</td>\n",
              "    </tr>\n",
              "    <tr>\n",
              "      <th>16</th>\n",
              "      <td>@Ask_Spectrum Would you like me to email you a...</td>\n",
              "      <td>@ask_spectrum would you like me to email you a...</td>\n",
              "      <td>@ask_spectrum would like email copy one since ...</td>\n",
              "      <td>askspectrum would like email copy one since sp...</td>\n",
              "    </tr>\n",
              "    <tr>\n",
              "      <th>17</th>\n",
              "      <td>@115716 Our department is part of the corporat...</td>\n",
              "      <td>@115716 our department is part of the corporat...</td>\n",
              "      <td>@115716 department part corporate office. part...</td>\n",
              "      <td>115716 department part corporate office partic...</td>\n",
              "    </tr>\n",
              "    <tr>\n",
              "      <th>18</th>\n",
              "      <td>@Ask_Spectrum I received this from your corpor...</td>\n",
              "      <td>@ask_spectrum i received this from your corpor...</td>\n",
              "      <td>@ask_spectrum received corporate office would ...</td>\n",
              "      <td>askspectrum received corporate office would li...</td>\n",
              "    </tr>\n",
              "    <tr>\n",
              "      <th>19</th>\n",
              "      <td>@115716 No thank you. ^JK</td>\n",
              "      <td>@115716 no thank you. ^jk</td>\n",
              "      <td>@115716 thank you. ^jk</td>\n",
              "      <td>115716 thank you jk</td>\n",
              "    </tr>\n",
              "    <tr>\n",
              "      <th>20</th>\n",
              "      <td>@Ask_Spectrum The correct way to do it is via ...</td>\n",
              "      <td>@ask_spectrum the correct way to do it is via ...</td>\n",
              "      <td>@ask_spectrum correct way via ocs account take...</td>\n",
              "      <td>askspectrum correct way via ocs account takeov...</td>\n",
              "    </tr>\n",
              "    <tr>\n",
              "      <th>21</th>\n",
              "      <td>@Ask_Spectrum That is INCORRECT information I ...</td>\n",
              "      <td>@ask_spectrum that is incorrect information i ...</td>\n",
              "      <td>@ask_spectrum incorrect information form front...</td>\n",
              "      <td>askspectrum incorrect information form front f...</td>\n",
              "    </tr>\n",
              "    <tr>\n",
              "      <th>22</th>\n",
              "      <td>@115716 The information pertaining to the acco...</td>\n",
              "      <td>@115716 the information pertaining to the acco...</td>\n",
              "      <td>@115716 information pertaining account assumpt...</td>\n",
              "      <td>115716 information pertaining account assumpti...</td>\n",
              "    </tr>\n",
              "    <tr>\n",
              "      <th>23</th>\n",
              "      <td>actually that's a broken link you sent me and ...</td>\n",
              "      <td>actually that's a broken link you sent me and ...</td>\n",
              "      <td>actually that's broken link sent incorrect inf...</td>\n",
              "      <td>actually thats broken link sent incorrect info...</td>\n",
              "    </tr>\n",
              "    <tr>\n",
              "      <th>24</th>\n",
              "      <td>@115717 Hello, My apologies for any frustratio...</td>\n",
              "      <td>@115717 hello, my apologies for any frustratio...</td>\n",
              "      <td>@115717 hello, apologies frustrations inconven...</td>\n",
              "      <td>115717 hello apologies frustrations inconvenie...</td>\n",
              "    </tr>\n",
              "  </tbody>\n",
              "</table>\n",
              "</div>"
            ],
            "text/plain": [
              "                                                 text  ...                                      text_wo_punct\n",
              "0   @115712 I understand. I would like to assist y...  ...  115712 understand would like assist you would ...\n",
              "1       @sprintcare and how do you propose we do that  ...                                 sprintcare propose\n",
              "2   @sprintcare I have sent several private messag...  ...  sprintcare sent several private messages one r...\n",
              "3   @115712 Please send us a Private Message so th...  ...  115712 please send us private message assist y...\n",
              "4                                  @sprintcare I did.  ...                                     sprintcare did\n",
              "5   @115712 Can you please send us a private messa...  ...  115712 please send us private message gain det...\n",
              "6           @sprintcare is the worst customer service  ...                  sprintcare worst customer service\n",
              "7   @115713 This is saddening to hear. Please shoo...  ...  115713 saddening hear please shoot us dm look ...\n",
              "8   @sprintcare You gonna magically change your co...  ...  sprintcare gonna magically change connectivity...\n",
              "9   @115713 We understand your concerns and we'd l...  ...  115713 understand concerns wed like please sen...\n",
              "10  @sprintcare Since I signed up with you....Sinc...  ...             sprintcare since signed yousince day 1\n",
              "11  @115713 H there! We'd definitely like to work ...  ...  115713 h there wed definitely like work this l...\n",
              "12  @115714 y’all lie about your “great” connectio...  ...  115714 y’all lie “great” connection 5 bars lte...\n",
              "13  @115715 Please send me a private message so th...  ...  115715 please send private message send link a...\n",
              "14  @115714 whenever I contact customer support, t...  ...  115714 whenever contact customer support tell ...\n",
              "15         @115716 What information is incorrect? ^JK  ...                    115716 information incorrect jk\n",
              "16  @Ask_Spectrum Would you like me to email you a...  ...  askspectrum would like email copy one since sp...\n",
              "17  @115716 Our department is part of the corporat...  ...  115716 department part corporate office partic...\n",
              "18  @Ask_Spectrum I received this from your corpor...  ...  askspectrum received corporate office would li...\n",
              "19                          @115716 No thank you. ^JK  ...                                115716 thank you jk\n",
              "20  @Ask_Spectrum The correct way to do it is via ...  ...  askspectrum correct way via ocs account takeov...\n",
              "21  @Ask_Spectrum That is INCORRECT information I ...  ...  askspectrum incorrect information form front f...\n",
              "22  @115716 The information pertaining to the acco...  ...  115716 information pertaining account assumpti...\n",
              "23  actually that's a broken link you sent me and ...  ...  actually thats broken link sent incorrect info...\n",
              "24  @115717 Hello, My apologies for any frustratio...  ...  115717 hello apologies frustrations inconvenie...\n",
              "\n",
              "[25 rows x 4 columns]"
            ]
          },
          "metadata": {
            "tags": []
          },
          "execution_count": 41
        }
      ]
    },
    {
      "cell_type": "markdown",
      "metadata": {
        "id": "x0pBrCQfq83o"
      },
      "source": [
        "4. Removal of Frequent words"
      ]
    },
    {
      "cell_type": "code",
      "metadata": {
        "id": "HwvNyoCCq9VL",
        "colab": {
          "base_uri": "https://localhost:8080/"
        },
        "outputId": "595baa27-91ad-4c45-8b8b-e356318b1e40"
      },
      "source": [
        "from collections import Counter\n",
        "cnt = Counter()\n",
        "for text in df[\"text_wo_punct\"].values:\n",
        "    for word in text.split():\n",
        "        cnt[word] += 1\n",
        "        \n",
        "cnt.most_common(10)"
      ],
      "execution_count": 42,
      "outputs": [
        {
          "output_type": "execute_result",
          "data": {
            "text/plain": [
              "[('us', 15280),\n",
              " ('please', 14172),\n",
              " ('dm', 10290),\n",
              " ('help', 9181),\n",
              " ('hi', 8364),\n",
              " ('thanks', 7794),\n",
              " ('get', 7393),\n",
              " ('sorry', 6913),\n",
              " ('you', 6354),\n",
              " ('amazonhelp', 5916)]"
            ]
          },
          "metadata": {
            "tags": []
          },
          "execution_count": 42
        }
      ]
    },
    {
      "cell_type": "code",
      "metadata": {
        "id": "QDYqRzI2rFL7",
        "colab": {
          "base_uri": "https://localhost:8080/",
          "height": 391
        },
        "outputId": "1d8e295b-79fd-465b-b4dc-69bd42ee2da1"
      },
      "source": [
        "FREQWORDS = set([w for (w, wc) in cnt.most_common(10)])\n",
        "def remove_freqwords(text):\n",
        "    \"\"\"custom function to remove the frequent words\"\"\"\n",
        "    return \" \".join([word for word in str(text).split() if word not in FREQWORDS])\n",
        "\n",
        "df[\"text_wo_stopfreq\"] = df[\"text_wo_punct\"].apply(lambda text: remove_freqwords(text))\n",
        "df.head()"
      ],
      "execution_count": 43,
      "outputs": [
        {
          "output_type": "stream",
          "text": [
            "/usr/local/lib/python3.7/dist-packages/ipykernel_launcher.py:6: SettingWithCopyWarning: \n",
            "A value is trying to be set on a copy of a slice from a DataFrame.\n",
            "Try using .loc[row_indexer,col_indexer] = value instead\n",
            "\n",
            "See the caveats in the documentation: https://pandas.pydata.org/pandas-docs/stable/user_guide/indexing.html#returning-a-view-versus-a-copy\n",
            "  \n"
          ],
          "name": "stderr"
        },
        {
          "output_type": "execute_result",
          "data": {
            "text/html": [
              "<div>\n",
              "<style scoped>\n",
              "    .dataframe tbody tr th:only-of-type {\n",
              "        vertical-align: middle;\n",
              "    }\n",
              "\n",
              "    .dataframe tbody tr th {\n",
              "        vertical-align: top;\n",
              "    }\n",
              "\n",
              "    .dataframe thead th {\n",
              "        text-align: right;\n",
              "    }\n",
              "</style>\n",
              "<table border=\"1\" class=\"dataframe\">\n",
              "  <thead>\n",
              "    <tr style=\"text-align: right;\">\n",
              "      <th></th>\n",
              "      <th>text</th>\n",
              "      <th>text_lower</th>\n",
              "      <th>text_wo_stop</th>\n",
              "      <th>text_wo_punct</th>\n",
              "      <th>text_wo_stopfreq</th>\n",
              "    </tr>\n",
              "  </thead>\n",
              "  <tbody>\n",
              "    <tr>\n",
              "      <th>0</th>\n",
              "      <td>@115712 I understand. I would like to assist y...</td>\n",
              "      <td>@115712 i understand. i would like to assist y...</td>\n",
              "      <td>@115712 understand. would like assist you. wou...</td>\n",
              "      <td>115712 understand would like assist you would ...</td>\n",
              "      <td>115712 understand would like assist would need...</td>\n",
              "    </tr>\n",
              "    <tr>\n",
              "      <th>1</th>\n",
              "      <td>@sprintcare and how do you propose we do that</td>\n",
              "      <td>@sprintcare and how do you propose we do that</td>\n",
              "      <td>@sprintcare propose</td>\n",
              "      <td>sprintcare propose</td>\n",
              "      <td>sprintcare propose</td>\n",
              "    </tr>\n",
              "    <tr>\n",
              "      <th>2</th>\n",
              "      <td>@sprintcare I have sent several private messag...</td>\n",
              "      <td>@sprintcare i have sent several private messag...</td>\n",
              "      <td>@sprintcare sent several private messages one ...</td>\n",
              "      <td>sprintcare sent several private messages one r...</td>\n",
              "      <td>sprintcare sent several private messages one r...</td>\n",
              "    </tr>\n",
              "    <tr>\n",
              "      <th>3</th>\n",
              "      <td>@115712 Please send us a Private Message so th...</td>\n",
              "      <td>@115712 please send us a private message so th...</td>\n",
              "      <td>@115712 please send us private message assist ...</td>\n",
              "      <td>115712 please send us private message assist y...</td>\n",
              "      <td>115712 send private message assist click ‘mess...</td>\n",
              "    </tr>\n",
              "    <tr>\n",
              "      <th>4</th>\n",
              "      <td>@sprintcare I did.</td>\n",
              "      <td>@sprintcare i did.</td>\n",
              "      <td>@sprintcare did.</td>\n",
              "      <td>sprintcare did</td>\n",
              "      <td>sprintcare did</td>\n",
              "    </tr>\n",
              "  </tbody>\n",
              "</table>\n",
              "</div>"
            ],
            "text/plain": [
              "                                                text  ...                                   text_wo_stopfreq\n",
              "0  @115712 I understand. I would like to assist y...  ...  115712 understand would like assist would need...\n",
              "1      @sprintcare and how do you propose we do that  ...                                 sprintcare propose\n",
              "2  @sprintcare I have sent several private messag...  ...  sprintcare sent several private messages one r...\n",
              "3  @115712 Please send us a Private Message so th...  ...  115712 send private message assist click ‘mess...\n",
              "4                                 @sprintcare I did.  ...                                     sprintcare did\n",
              "\n",
              "[5 rows x 5 columns]"
            ]
          },
          "metadata": {
            "tags": []
          },
          "execution_count": 43
        }
      ]
    },
    {
      "cell_type": "markdown",
      "metadata": {
        "id": "bcLbadHAuSrh"
      },
      "source": [
        "5. Removal of Rare words"
      ]
    },
    {
      "cell_type": "code",
      "metadata": {
        "id": "oxBsoozNrORV",
        "colab": {
          "base_uri": "https://localhost:8080/",
          "height": 475
        },
        "outputId": "ca79c65e-76ff-4a60-ff29-702954257a19"
      },
      "source": [
        "# Drop the two columns which are no more needed \n",
        "# df.drop([\"text_wo_punct\", \"text_wo_stop\"], axis=1, inplace=True)\n",
        "\n",
        "n_rare_words = 10\n",
        "RAREWORDS = set([w for (w, wc) in cnt.most_common()[:-n_rare_words-1:-1]])\n",
        "print(RAREWORDS)\n",
        "def remove_rarewords(text):\n",
        "    \"\"\"custom function to remove the rare words\"\"\"\n",
        "    return \" \".join([word for word in str(text).split() if word not in RAREWORDS])\n",
        "\n",
        "df[\"text_wo_stopfreqrare\"] = df[\"text_wo_stopfreq\"].apply(lambda text: remove_rarewords(text))\n",
        "df.head()"
      ],
      "execution_count": 44,
      "outputs": [
        {
          "output_type": "stream",
          "text": [
            "{'230k', '7109', 'phone131027', 'therelets', '7110', 'httpstcoklebhaiotk', 'mailtemplate', '144295', '144296', 'httpstcosxccepn7bl'}\n"
          ],
          "name": "stdout"
        },
        {
          "output_type": "stream",
          "text": [
            "/usr/local/lib/python3.7/dist-packages/ipykernel_launcher.py:11: SettingWithCopyWarning: \n",
            "A value is trying to be set on a copy of a slice from a DataFrame.\n",
            "Try using .loc[row_indexer,col_indexer] = value instead\n",
            "\n",
            "See the caveats in the documentation: https://pandas.pydata.org/pandas-docs/stable/user_guide/indexing.html#returning-a-view-versus-a-copy\n",
            "  # This is added back by InteractiveShellApp.init_path()\n"
          ],
          "name": "stderr"
        },
        {
          "output_type": "execute_result",
          "data": {
            "text/html": [
              "<div>\n",
              "<style scoped>\n",
              "    .dataframe tbody tr th:only-of-type {\n",
              "        vertical-align: middle;\n",
              "    }\n",
              "\n",
              "    .dataframe tbody tr th {\n",
              "        vertical-align: top;\n",
              "    }\n",
              "\n",
              "    .dataframe thead th {\n",
              "        text-align: right;\n",
              "    }\n",
              "</style>\n",
              "<table border=\"1\" class=\"dataframe\">\n",
              "  <thead>\n",
              "    <tr style=\"text-align: right;\">\n",
              "      <th></th>\n",
              "      <th>text</th>\n",
              "      <th>text_lower</th>\n",
              "      <th>text_wo_stop</th>\n",
              "      <th>text_wo_punct</th>\n",
              "      <th>text_wo_stopfreq</th>\n",
              "      <th>text_wo_stopfreqrare</th>\n",
              "    </tr>\n",
              "  </thead>\n",
              "  <tbody>\n",
              "    <tr>\n",
              "      <th>0</th>\n",
              "      <td>@115712 I understand. I would like to assist y...</td>\n",
              "      <td>@115712 i understand. i would like to assist y...</td>\n",
              "      <td>@115712 understand. would like assist you. wou...</td>\n",
              "      <td>115712 understand would like assist you would ...</td>\n",
              "      <td>115712 understand would like assist would need...</td>\n",
              "      <td>115712 understand would like assist would need...</td>\n",
              "    </tr>\n",
              "    <tr>\n",
              "      <th>1</th>\n",
              "      <td>@sprintcare and how do you propose we do that</td>\n",
              "      <td>@sprintcare and how do you propose we do that</td>\n",
              "      <td>@sprintcare propose</td>\n",
              "      <td>sprintcare propose</td>\n",
              "      <td>sprintcare propose</td>\n",
              "      <td>sprintcare propose</td>\n",
              "    </tr>\n",
              "    <tr>\n",
              "      <th>2</th>\n",
              "      <td>@sprintcare I have sent several private messag...</td>\n",
              "      <td>@sprintcare i have sent several private messag...</td>\n",
              "      <td>@sprintcare sent several private messages one ...</td>\n",
              "      <td>sprintcare sent several private messages one r...</td>\n",
              "      <td>sprintcare sent several private messages one r...</td>\n",
              "      <td>sprintcare sent several private messages one r...</td>\n",
              "    </tr>\n",
              "    <tr>\n",
              "      <th>3</th>\n",
              "      <td>@115712 Please send us a Private Message so th...</td>\n",
              "      <td>@115712 please send us a private message so th...</td>\n",
              "      <td>@115712 please send us private message assist ...</td>\n",
              "      <td>115712 please send us private message assist y...</td>\n",
              "      <td>115712 send private message assist click ‘mess...</td>\n",
              "      <td>115712 send private message assist click ‘mess...</td>\n",
              "    </tr>\n",
              "    <tr>\n",
              "      <th>4</th>\n",
              "      <td>@sprintcare I did.</td>\n",
              "      <td>@sprintcare i did.</td>\n",
              "      <td>@sprintcare did.</td>\n",
              "      <td>sprintcare did</td>\n",
              "      <td>sprintcare did</td>\n",
              "      <td>sprintcare did</td>\n",
              "    </tr>\n",
              "  </tbody>\n",
              "</table>\n",
              "</div>"
            ],
            "text/plain": [
              "                                                text  ...                               text_wo_stopfreqrare\n",
              "0  @115712 I understand. I would like to assist y...  ...  115712 understand would like assist would need...\n",
              "1      @sprintcare and how do you propose we do that  ...                                 sprintcare propose\n",
              "2  @sprintcare I have sent several private messag...  ...  sprintcare sent several private messages one r...\n",
              "3  @115712 Please send us a Private Message so th...  ...  115712 send private message assist click ‘mess...\n",
              "4                                 @sprintcare I did.  ...                                     sprintcare did\n",
              "\n",
              "[5 rows x 6 columns]"
            ]
          },
          "metadata": {
            "tags": []
          },
          "execution_count": 44
        }
      ]
    },
    {
      "cell_type": "markdown",
      "metadata": {
        "id": "r3fYocr8uWED"
      },
      "source": [
        "6. Stemming"
      ]
    },
    {
      "cell_type": "code",
      "metadata": {
        "id": "Of4NXNDLrSJz",
        "colab": {
          "base_uri": "https://localhost:8080/",
          "height": 438
        },
        "outputId": "dadc0d61-89d2-495b-d339-9890dd014cd0"
      },
      "source": [
        "from nltk.stem.snowball import SnowballStemmer\n",
        "\n",
        "# Drop the two columns \n",
        "# df.drop([\"text_wo_stopfreq\", \"text_wo_stopfreqrare\"], axis=1, inplace=True) \n",
        "\n",
        "stemmer = SnowballStemmer(\"english\")\n",
        "def stem_words(text):\n",
        "    return \" \".join([stemmer.stem(word) for word in text.split()])\n",
        "\n",
        "df[\"text_stemmed\"] = df[\"text_wo_stopfreq\"].apply(lambda text: stem_words(text))\n",
        "df.head()"
      ],
      "execution_count": 45,
      "outputs": [
        {
          "output_type": "execute_result",
          "data": {
            "text/html": [
              "<div>\n",
              "<style scoped>\n",
              "    .dataframe tbody tr th:only-of-type {\n",
              "        vertical-align: middle;\n",
              "    }\n",
              "\n",
              "    .dataframe tbody tr th {\n",
              "        vertical-align: top;\n",
              "    }\n",
              "\n",
              "    .dataframe thead th {\n",
              "        text-align: right;\n",
              "    }\n",
              "</style>\n",
              "<table border=\"1\" class=\"dataframe\">\n",
              "  <thead>\n",
              "    <tr style=\"text-align: right;\">\n",
              "      <th></th>\n",
              "      <th>text</th>\n",
              "      <th>text_lower</th>\n",
              "      <th>text_wo_stop</th>\n",
              "      <th>text_wo_punct</th>\n",
              "      <th>text_wo_stopfreq</th>\n",
              "      <th>text_wo_stopfreqrare</th>\n",
              "      <th>text_stemmed</th>\n",
              "    </tr>\n",
              "  </thead>\n",
              "  <tbody>\n",
              "    <tr>\n",
              "      <th>0</th>\n",
              "      <td>@115712 I understand. I would like to assist y...</td>\n",
              "      <td>@115712 i understand. i would like to assist y...</td>\n",
              "      <td>@115712 understand. would like assist you. wou...</td>\n",
              "      <td>115712 understand would like assist you would ...</td>\n",
              "      <td>115712 understand would like assist would need...</td>\n",
              "      <td>115712 understand would like assist would need...</td>\n",
              "      <td>115712 understand would like assist would need...</td>\n",
              "    </tr>\n",
              "    <tr>\n",
              "      <th>1</th>\n",
              "      <td>@sprintcare and how do you propose we do that</td>\n",
              "      <td>@sprintcare and how do you propose we do that</td>\n",
              "      <td>@sprintcare propose</td>\n",
              "      <td>sprintcare propose</td>\n",
              "      <td>sprintcare propose</td>\n",
              "      <td>sprintcare propose</td>\n",
              "      <td>sprintcar propos</td>\n",
              "    </tr>\n",
              "    <tr>\n",
              "      <th>2</th>\n",
              "      <td>@sprintcare I have sent several private messag...</td>\n",
              "      <td>@sprintcare i have sent several private messag...</td>\n",
              "      <td>@sprintcare sent several private messages one ...</td>\n",
              "      <td>sprintcare sent several private messages one r...</td>\n",
              "      <td>sprintcare sent several private messages one r...</td>\n",
              "      <td>sprintcare sent several private messages one r...</td>\n",
              "      <td>sprintcar sent sever privat messag one respond...</td>\n",
              "    </tr>\n",
              "    <tr>\n",
              "      <th>3</th>\n",
              "      <td>@115712 Please send us a Private Message so th...</td>\n",
              "      <td>@115712 please send us a private message so th...</td>\n",
              "      <td>@115712 please send us private message assist ...</td>\n",
              "      <td>115712 please send us private message assist y...</td>\n",
              "      <td>115712 send private message assist click ‘mess...</td>\n",
              "      <td>115712 send private message assist click ‘mess...</td>\n",
              "      <td>115712 send privat messag assist click messag ...</td>\n",
              "    </tr>\n",
              "    <tr>\n",
              "      <th>4</th>\n",
              "      <td>@sprintcare I did.</td>\n",
              "      <td>@sprintcare i did.</td>\n",
              "      <td>@sprintcare did.</td>\n",
              "      <td>sprintcare did</td>\n",
              "      <td>sprintcare did</td>\n",
              "      <td>sprintcare did</td>\n",
              "      <td>sprintcar did</td>\n",
              "    </tr>\n",
              "  </tbody>\n",
              "</table>\n",
              "</div>"
            ],
            "text/plain": [
              "                                                text  ...                                       text_stemmed\n",
              "0  @115712 I understand. I would like to assist y...  ...  115712 understand would like assist would need...\n",
              "1      @sprintcare and how do you propose we do that  ...                                   sprintcar propos\n",
              "2  @sprintcare I have sent several private messag...  ...  sprintcar sent sever privat messag one respond...\n",
              "3  @115712 Please send us a Private Message so th...  ...  115712 send privat messag assist click messag ...\n",
              "4                                 @sprintcare I did.  ...                                      sprintcar did\n",
              "\n",
              "[5 rows x 7 columns]"
            ]
          },
          "metadata": {
            "tags": []
          },
          "execution_count": 45
        }
      ]
    },
    {
      "cell_type": "markdown",
      "metadata": {
        "id": "4gH9w9znukBp"
      },
      "source": [
        "7. Lemmatization"
      ]
    },
    {
      "cell_type": "code",
      "metadata": {
        "id": "-4BK0nv-u1EC",
        "colab": {
          "base_uri": "https://localhost:8080/"
        },
        "outputId": "facfcc1e-9859-4e59-d57c-11488ab3f89c"
      },
      "source": [
        "nltk.download('wordnet')"
      ],
      "execution_count": 46,
      "outputs": [
        {
          "output_type": "stream",
          "text": [
            "[nltk_data] Downloading package wordnet to /root/nltk_data...\n",
            "[nltk_data]   Package wordnet is already up-to-date!\n"
          ],
          "name": "stdout"
        },
        {
          "output_type": "execute_result",
          "data": {
            "text/plain": [
              "True"
            ]
          },
          "metadata": {
            "tags": []
          },
          "execution_count": 46
        }
      ]
    },
    {
      "cell_type": "code",
      "metadata": {
        "id": "zlzM9fH7rYuo",
        "colab": {
          "base_uri": "https://localhost:8080/",
          "height": 506
        },
        "outputId": "dbc68507-6fe1-4a28-96ee-dcb66756dc7a"
      },
      "source": [
        "from nltk.stem import WordNetLemmatizer\n",
        "\n",
        "lemmatizer = WordNetLemmatizer()\n",
        "def lemmatize_words(text):\n",
        "    return \" \".join([lemmatizer.lemmatize(word) for word in text.split()])\n",
        "\n",
        "df[\"text_lemmatized\"] = df[\"text_wo_punct\"].apply(lambda text: lemmatize_words(text))\n",
        "df.head()"
      ],
      "execution_count": 47,
      "outputs": [
        {
          "output_type": "execute_result",
          "data": {
            "text/html": [
              "<div>\n",
              "<style scoped>\n",
              "    .dataframe tbody tr th:only-of-type {\n",
              "        vertical-align: middle;\n",
              "    }\n",
              "\n",
              "    .dataframe tbody tr th {\n",
              "        vertical-align: top;\n",
              "    }\n",
              "\n",
              "    .dataframe thead th {\n",
              "        text-align: right;\n",
              "    }\n",
              "</style>\n",
              "<table border=\"1\" class=\"dataframe\">\n",
              "  <thead>\n",
              "    <tr style=\"text-align: right;\">\n",
              "      <th></th>\n",
              "      <th>text</th>\n",
              "      <th>text_lower</th>\n",
              "      <th>text_wo_stop</th>\n",
              "      <th>text_wo_punct</th>\n",
              "      <th>text_wo_stopfreq</th>\n",
              "      <th>text_wo_stopfreqrare</th>\n",
              "      <th>text_stemmed</th>\n",
              "      <th>text_lemmatized</th>\n",
              "    </tr>\n",
              "  </thead>\n",
              "  <tbody>\n",
              "    <tr>\n",
              "      <th>0</th>\n",
              "      <td>@115712 I understand. I would like to assist y...</td>\n",
              "      <td>@115712 i understand. i would like to assist y...</td>\n",
              "      <td>@115712 understand. would like assist you. wou...</td>\n",
              "      <td>115712 understand would like assist you would ...</td>\n",
              "      <td>115712 understand would like assist would need...</td>\n",
              "      <td>115712 understand would like assist would need...</td>\n",
              "      <td>115712 understand would like assist would need...</td>\n",
              "      <td>115712 understand would like assist you would ...</td>\n",
              "    </tr>\n",
              "    <tr>\n",
              "      <th>1</th>\n",
              "      <td>@sprintcare and how do you propose we do that</td>\n",
              "      <td>@sprintcare and how do you propose we do that</td>\n",
              "      <td>@sprintcare propose</td>\n",
              "      <td>sprintcare propose</td>\n",
              "      <td>sprintcare propose</td>\n",
              "      <td>sprintcare propose</td>\n",
              "      <td>sprintcar propos</td>\n",
              "      <td>sprintcare propose</td>\n",
              "    </tr>\n",
              "    <tr>\n",
              "      <th>2</th>\n",
              "      <td>@sprintcare I have sent several private messag...</td>\n",
              "      <td>@sprintcare i have sent several private messag...</td>\n",
              "      <td>@sprintcare sent several private messages one ...</td>\n",
              "      <td>sprintcare sent several private messages one r...</td>\n",
              "      <td>sprintcare sent several private messages one r...</td>\n",
              "      <td>sprintcare sent several private messages one r...</td>\n",
              "      <td>sprintcar sent sever privat messag one respond...</td>\n",
              "      <td>sprintcare sent several private message one re...</td>\n",
              "    </tr>\n",
              "    <tr>\n",
              "      <th>3</th>\n",
              "      <td>@115712 Please send us a Private Message so th...</td>\n",
              "      <td>@115712 please send us a private message so th...</td>\n",
              "      <td>@115712 please send us private message assist ...</td>\n",
              "      <td>115712 please send us private message assist y...</td>\n",
              "      <td>115712 send private message assist click ‘mess...</td>\n",
              "      <td>115712 send private message assist click ‘mess...</td>\n",
              "      <td>115712 send privat messag assist click messag ...</td>\n",
              "      <td>115712 please send u private message assist yo...</td>\n",
              "    </tr>\n",
              "    <tr>\n",
              "      <th>4</th>\n",
              "      <td>@sprintcare I did.</td>\n",
              "      <td>@sprintcare i did.</td>\n",
              "      <td>@sprintcare did.</td>\n",
              "      <td>sprintcare did</td>\n",
              "      <td>sprintcare did</td>\n",
              "      <td>sprintcare did</td>\n",
              "      <td>sprintcar did</td>\n",
              "      <td>sprintcare did</td>\n",
              "    </tr>\n",
              "  </tbody>\n",
              "</table>\n",
              "</div>"
            ],
            "text/plain": [
              "                                                text  ...                                    text_lemmatized\n",
              "0  @115712 I understand. I would like to assist y...  ...  115712 understand would like assist you would ...\n",
              "1      @sprintcare and how do you propose we do that  ...                                 sprintcare propose\n",
              "2  @sprintcare I have sent several private messag...  ...  sprintcare sent several private message one re...\n",
              "3  @115712 Please send us a Private Message so th...  ...  115712 please send u private message assist yo...\n",
              "4                                 @sprintcare I did.  ...                                     sprintcare did\n",
              "\n",
              "[5 rows x 8 columns]"
            ]
          },
          "metadata": {
            "tags": []
          },
          "execution_count": 47
        }
      ]
    },
    {
      "cell_type": "code",
      "metadata": {
        "colab": {
          "base_uri": "https://localhost:8080/",
          "height": 1000
        },
        "id": "KWO0SOS4oBCo",
        "outputId": "514dc39b-0579-4d69-8d63-ffc8285b7378"
      },
      "source": [
        "df.head(25)"
      ],
      "execution_count": 48,
      "outputs": [
        {
          "output_type": "execute_result",
          "data": {
            "text/html": [
              "<div>\n",
              "<style scoped>\n",
              "    .dataframe tbody tr th:only-of-type {\n",
              "        vertical-align: middle;\n",
              "    }\n",
              "\n",
              "    .dataframe tbody tr th {\n",
              "        vertical-align: top;\n",
              "    }\n",
              "\n",
              "    .dataframe thead th {\n",
              "        text-align: right;\n",
              "    }\n",
              "</style>\n",
              "<table border=\"1\" class=\"dataframe\">\n",
              "  <thead>\n",
              "    <tr style=\"text-align: right;\">\n",
              "      <th></th>\n",
              "      <th>text</th>\n",
              "      <th>text_lower</th>\n",
              "      <th>text_wo_stop</th>\n",
              "      <th>text_wo_punct</th>\n",
              "      <th>text_wo_stopfreq</th>\n",
              "      <th>text_wo_stopfreqrare</th>\n",
              "      <th>text_stemmed</th>\n",
              "      <th>text_lemmatized</th>\n",
              "    </tr>\n",
              "  </thead>\n",
              "  <tbody>\n",
              "    <tr>\n",
              "      <th>0</th>\n",
              "      <td>@115712 I understand. I would like to assist y...</td>\n",
              "      <td>@115712 i understand. i would like to assist y...</td>\n",
              "      <td>@115712 understand. would like assist you. wou...</td>\n",
              "      <td>115712 understand would like assist you would ...</td>\n",
              "      <td>115712 understand would like assist would need...</td>\n",
              "      <td>115712 understand would like assist would need...</td>\n",
              "      <td>115712 understand would like assist would need...</td>\n",
              "      <td>115712 understand would like assist you would ...</td>\n",
              "    </tr>\n",
              "    <tr>\n",
              "      <th>1</th>\n",
              "      <td>@sprintcare and how do you propose we do that</td>\n",
              "      <td>@sprintcare and how do you propose we do that</td>\n",
              "      <td>@sprintcare propose</td>\n",
              "      <td>sprintcare propose</td>\n",
              "      <td>sprintcare propose</td>\n",
              "      <td>sprintcare propose</td>\n",
              "      <td>sprintcar propos</td>\n",
              "      <td>sprintcare propose</td>\n",
              "    </tr>\n",
              "    <tr>\n",
              "      <th>2</th>\n",
              "      <td>@sprintcare I have sent several private messag...</td>\n",
              "      <td>@sprintcare i have sent several private messag...</td>\n",
              "      <td>@sprintcare sent several private messages one ...</td>\n",
              "      <td>sprintcare sent several private messages one r...</td>\n",
              "      <td>sprintcare sent several private messages one r...</td>\n",
              "      <td>sprintcare sent several private messages one r...</td>\n",
              "      <td>sprintcar sent sever privat messag one respond...</td>\n",
              "      <td>sprintcare sent several private message one re...</td>\n",
              "    </tr>\n",
              "    <tr>\n",
              "      <th>3</th>\n",
              "      <td>@115712 Please send us a Private Message so th...</td>\n",
              "      <td>@115712 please send us a private message so th...</td>\n",
              "      <td>@115712 please send us private message assist ...</td>\n",
              "      <td>115712 please send us private message assist y...</td>\n",
              "      <td>115712 send private message assist click ‘mess...</td>\n",
              "      <td>115712 send private message assist click ‘mess...</td>\n",
              "      <td>115712 send privat messag assist click messag ...</td>\n",
              "      <td>115712 please send u private message assist yo...</td>\n",
              "    </tr>\n",
              "    <tr>\n",
              "      <th>4</th>\n",
              "      <td>@sprintcare I did.</td>\n",
              "      <td>@sprintcare i did.</td>\n",
              "      <td>@sprintcare did.</td>\n",
              "      <td>sprintcare did</td>\n",
              "      <td>sprintcare did</td>\n",
              "      <td>sprintcare did</td>\n",
              "      <td>sprintcar did</td>\n",
              "      <td>sprintcare did</td>\n",
              "    </tr>\n",
              "    <tr>\n",
              "      <th>5</th>\n",
              "      <td>@115712 Can you please send us a private messa...</td>\n",
              "      <td>@115712 can you please send us a private messa...</td>\n",
              "      <td>@115712 please send us private message, gain d...</td>\n",
              "      <td>115712 please send us private message gain det...</td>\n",
              "      <td>115712 send private message gain details account</td>\n",
              "      <td>115712 send private message gain details account</td>\n",
              "      <td>115712 send privat messag gain detail account</td>\n",
              "      <td>115712 please send u private message gain deta...</td>\n",
              "    </tr>\n",
              "    <tr>\n",
              "      <th>6</th>\n",
              "      <td>@sprintcare is the worst customer service</td>\n",
              "      <td>@sprintcare is the worst customer service</td>\n",
              "      <td>@sprintcare worst customer service</td>\n",
              "      <td>sprintcare worst customer service</td>\n",
              "      <td>sprintcare worst customer service</td>\n",
              "      <td>sprintcare worst customer service</td>\n",
              "      <td>sprintcar worst custom servic</td>\n",
              "      <td>sprintcare worst customer service</td>\n",
              "    </tr>\n",
              "    <tr>\n",
              "      <th>7</th>\n",
              "      <td>@115713 This is saddening to hear. Please shoo...</td>\n",
              "      <td>@115713 this is saddening to hear. please shoo...</td>\n",
              "      <td>@115713 saddening hear. please shoot us dm, lo...</td>\n",
              "      <td>115713 saddening hear please shoot us dm look ...</td>\n",
              "      <td>115713 saddening hear shoot look kc</td>\n",
              "      <td>115713 saddening hear shoot look kc</td>\n",
              "      <td>115713 sadden hear shoot look kc</td>\n",
              "      <td>115713 saddening hear please shoot u dm look y...</td>\n",
              "    </tr>\n",
              "    <tr>\n",
              "      <th>8</th>\n",
              "      <td>@sprintcare You gonna magically change your co...</td>\n",
              "      <td>@sprintcare you gonna magically change your co...</td>\n",
              "      <td>@sprintcare gonna magically change connectivit...</td>\n",
              "      <td>sprintcare gonna magically change connectivity...</td>\n",
              "      <td>sprintcare gonna magically change connectivity...</td>\n",
              "      <td>sprintcare gonna magically change connectivity...</td>\n",
              "      <td>sprintcar gonna magic chang connect whole fami...</td>\n",
              "      <td>sprintcare gonna magically change connectivity...</td>\n",
              "    </tr>\n",
              "    <tr>\n",
              "      <th>9</th>\n",
              "      <td>@115713 We understand your concerns and we'd l...</td>\n",
              "      <td>@115713 we understand your concerns and we'd l...</td>\n",
              "      <td>@115713 understand concerns we'd like please s...</td>\n",
              "      <td>115713 understand concerns wed like please sen...</td>\n",
              "      <td>115713 understand concerns wed like send direc...</td>\n",
              "      <td>115713 understand concerns wed like send direc...</td>\n",
              "      <td>115713 understand concern wed like send direct...</td>\n",
              "      <td>115713 understand concern wed like please send...</td>\n",
              "    </tr>\n",
              "    <tr>\n",
              "      <th>10</th>\n",
              "      <td>@sprintcare Since I signed up with you....Sinc...</td>\n",
              "      <td>@sprintcare since i signed up with you....sinc...</td>\n",
              "      <td>@sprintcare since signed you....since day 1</td>\n",
              "      <td>sprintcare since signed yousince day 1</td>\n",
              "      <td>sprintcare since signed yousince day 1</td>\n",
              "      <td>sprintcare since signed yousince day 1</td>\n",
              "      <td>sprintcar sinc sign yousinc day 1</td>\n",
              "      <td>sprintcare since signed yousince day 1</td>\n",
              "    </tr>\n",
              "    <tr>\n",
              "      <th>11</th>\n",
              "      <td>@115713 H there! We'd definitely like to work ...</td>\n",
              "      <td>@115713 h there! we'd definitely like to work ...</td>\n",
              "      <td>@115713 h there! we'd definitely like work thi...</td>\n",
              "      <td>115713 h there wed definitely like work this l...</td>\n",
              "      <td>115713 h there wed definitely like work this l...</td>\n",
              "      <td>115713 h there wed definitely like work this l...</td>\n",
              "      <td>115713 h there wed definit like work this long...</td>\n",
              "      <td>115713 h there wed definitely like work this l...</td>\n",
              "    </tr>\n",
              "    <tr>\n",
              "      <th>12</th>\n",
              "      <td>@115714 y’all lie about your “great” connectio...</td>\n",
              "      <td>@115714 y’all lie about your “great” connectio...</td>\n",
              "      <td>@115714 y’all lie “great” connection. 5 bars l...</td>\n",
              "      <td>115714 y’all lie “great” connection 5 bars lte...</td>\n",
              "      <td>115714 y’all lie “great” connection 5 bars lte...</td>\n",
              "      <td>115714 y’all lie “great” connection 5 bars lte...</td>\n",
              "      <td>115714 y'all lie “great” connect 5 bar lte sti...</td>\n",
              "      <td>115714 y’all lie “great” connection 5 bar lte ...</td>\n",
              "    </tr>\n",
              "    <tr>\n",
              "      <th>13</th>\n",
              "      <td>@115715 Please send me a private message so th...</td>\n",
              "      <td>@115715 please send me a private message so th...</td>\n",
              "      <td>@115715 please send private message send link ...</td>\n",
              "      <td>115715 please send private message send link a...</td>\n",
              "      <td>115715 send private message send link access a...</td>\n",
              "      <td>115715 send private message send link access a...</td>\n",
              "      <td>115715 send privat messag send link access acc...</td>\n",
              "      <td>115715 please send private message send link a...</td>\n",
              "    </tr>\n",
              "    <tr>\n",
              "      <th>14</th>\n",
              "      <td>@115714 whenever I contact customer support, t...</td>\n",
              "      <td>@115714 whenever i contact customer support, t...</td>\n",
              "      <td>@115714 whenever contact customer support, tel...</td>\n",
              "      <td>115714 whenever contact customer support tell ...</td>\n",
              "      <td>115714 whenever contact customer support tell ...</td>\n",
              "      <td>115714 whenever contact customer support tell ...</td>\n",
              "      <td>115714 whenev contact custom support tell shor...</td>\n",
              "      <td>115714 whenever contact customer support tell ...</td>\n",
              "    </tr>\n",
              "    <tr>\n",
              "      <th>15</th>\n",
              "      <td>@115716 What information is incorrect? ^JK</td>\n",
              "      <td>@115716 what information is incorrect? ^jk</td>\n",
              "      <td>@115716 information incorrect? ^jk</td>\n",
              "      <td>115716 information incorrect jk</td>\n",
              "      <td>115716 information incorrect jk</td>\n",
              "      <td>115716 information incorrect jk</td>\n",
              "      <td>115716 inform incorrect jk</td>\n",
              "      <td>115716 information incorrect jk</td>\n",
              "    </tr>\n",
              "    <tr>\n",
              "      <th>16</th>\n",
              "      <td>@Ask_Spectrum Would you like me to email you a...</td>\n",
              "      <td>@ask_spectrum would you like me to email you a...</td>\n",
              "      <td>@ask_spectrum would like email copy one since ...</td>\n",
              "      <td>askspectrum would like email copy one since sp...</td>\n",
              "      <td>askspectrum would like email copy one since sp...</td>\n",
              "      <td>askspectrum would like email copy one since sp...</td>\n",
              "      <td>askspectrum would like email copi one sinc spe...</td>\n",
              "      <td>askspectrum would like email copy one since sp...</td>\n",
              "    </tr>\n",
              "    <tr>\n",
              "      <th>17</th>\n",
              "      <td>@115716 Our department is part of the corporat...</td>\n",
              "      <td>@115716 our department is part of the corporat...</td>\n",
              "      <td>@115716 department part corporate office. part...</td>\n",
              "      <td>115716 department part corporate office partic...</td>\n",
              "      <td>115716 department part corporate office partic...</td>\n",
              "      <td>115716 department part corporate office partic...</td>\n",
              "      <td>115716 depart part corpor offic particular are...</td>\n",
              "      <td>115716 department part corporate office partic...</td>\n",
              "    </tr>\n",
              "    <tr>\n",
              "      <th>18</th>\n",
              "      <td>@Ask_Spectrum I received this from your corpor...</td>\n",
              "      <td>@ask_spectrum i received this from your corpor...</td>\n",
              "      <td>@ask_spectrum received corporate office would ...</td>\n",
              "      <td>askspectrum received corporate office would li...</td>\n",
              "      <td>askspectrum received corporate office would li...</td>\n",
              "      <td>askspectrum received corporate office would li...</td>\n",
              "      <td>askspectrum receiv corpor offic would like copi</td>\n",
              "      <td>askspectrum received corporate office would li...</td>\n",
              "    </tr>\n",
              "    <tr>\n",
              "      <th>19</th>\n",
              "      <td>@115716 No thank you. ^JK</td>\n",
              "      <td>@115716 no thank you. ^jk</td>\n",
              "      <td>@115716 thank you. ^jk</td>\n",
              "      <td>115716 thank you jk</td>\n",
              "      <td>115716 thank jk</td>\n",
              "      <td>115716 thank jk</td>\n",
              "      <td>115716 thank jk</td>\n",
              "      <td>115716 thank you jk</td>\n",
              "    </tr>\n",
              "    <tr>\n",
              "      <th>20</th>\n",
              "      <td>@Ask_Spectrum The correct way to do it is via ...</td>\n",
              "      <td>@ask_spectrum the correct way to do it is via ...</td>\n",
              "      <td>@ask_spectrum correct way via ocs account take...</td>\n",
              "      <td>askspectrum correct way via ocs account takeov...</td>\n",
              "      <td>askspectrum correct way via ocs account takeov...</td>\n",
              "      <td>askspectrum correct way via ocs account takeov...</td>\n",
              "      <td>askspectrum correct way via oc account takeov ...</td>\n",
              "      <td>askspectrum correct way via ocs account takeov...</td>\n",
              "    </tr>\n",
              "    <tr>\n",
              "      <th>21</th>\n",
              "      <td>@Ask_Spectrum That is INCORRECT information I ...</td>\n",
              "      <td>@ask_spectrum that is incorrect information i ...</td>\n",
              "      <td>@ask_spectrum incorrect information form front...</td>\n",
              "      <td>askspectrum incorrect information form front f...</td>\n",
              "      <td>askspectrum incorrect information form front f...</td>\n",
              "      <td>askspectrum incorrect information form front f...</td>\n",
              "      <td>askspectrum incorrect inform form front fax ov...</td>\n",
              "      <td>askspectrum incorrect information form front f...</td>\n",
              "    </tr>\n",
              "    <tr>\n",
              "      <th>22</th>\n",
              "      <td>@115716 The information pertaining to the acco...</td>\n",
              "      <td>@115716 the information pertaining to the acco...</td>\n",
              "      <td>@115716 information pertaining account assumpt...</td>\n",
              "      <td>115716 information pertaining account assumpti...</td>\n",
              "      <td>115716 information pertaining account assumpti...</td>\n",
              "      <td>115716 information pertaining account assumpti...</td>\n",
              "      <td>115716 inform pertain account assumpt correct ...</td>\n",
              "      <td>115716 information pertaining account assumpti...</td>\n",
              "    </tr>\n",
              "    <tr>\n",
              "      <th>23</th>\n",
              "      <td>actually that's a broken link you sent me and ...</td>\n",
              "      <td>actually that's a broken link you sent me and ...</td>\n",
              "      <td>actually that's broken link sent incorrect inf...</td>\n",
              "      <td>actually thats broken link sent incorrect info...</td>\n",
              "      <td>actually thats broken link sent incorrect info...</td>\n",
              "      <td>actually thats broken link sent incorrect info...</td>\n",
              "      <td>actual that broken link sent incorrect inform ...</td>\n",
              "      <td>actually thats broken link sent incorrect info...</td>\n",
              "    </tr>\n",
              "    <tr>\n",
              "      <th>24</th>\n",
              "      <td>@115717 Hello, My apologies for any frustratio...</td>\n",
              "      <td>@115717 hello, my apologies for any frustratio...</td>\n",
              "      <td>@115717 hello, apologies frustrations inconven...</td>\n",
              "      <td>115717 hello apologies frustrations inconvenie...</td>\n",
              "      <td>115717 hello apologies frustrations inconvenie...</td>\n",
              "      <td>115717 hello apologies frustrations inconvenie...</td>\n",
              "      <td>115717 hello apolog frustrat inconveni i'd hap...</td>\n",
              "      <td>115717 hello apology frustration inconvenience...</td>\n",
              "    </tr>\n",
              "  </tbody>\n",
              "</table>\n",
              "</div>"
            ],
            "text/plain": [
              "                                                 text  ...                                    text_lemmatized\n",
              "0   @115712 I understand. I would like to assist y...  ...  115712 understand would like assist you would ...\n",
              "1       @sprintcare and how do you propose we do that  ...                                 sprintcare propose\n",
              "2   @sprintcare I have sent several private messag...  ...  sprintcare sent several private message one re...\n",
              "3   @115712 Please send us a Private Message so th...  ...  115712 please send u private message assist yo...\n",
              "4                                  @sprintcare I did.  ...                                     sprintcare did\n",
              "5   @115712 Can you please send us a private messa...  ...  115712 please send u private message gain deta...\n",
              "6           @sprintcare is the worst customer service  ...                  sprintcare worst customer service\n",
              "7   @115713 This is saddening to hear. Please shoo...  ...  115713 saddening hear please shoot u dm look y...\n",
              "8   @sprintcare You gonna magically change your co...  ...  sprintcare gonna magically change connectivity...\n",
              "9   @115713 We understand your concerns and we'd l...  ...  115713 understand concern wed like please send...\n",
              "10  @sprintcare Since I signed up with you....Sinc...  ...             sprintcare since signed yousince day 1\n",
              "11  @115713 H there! We'd definitely like to work ...  ...  115713 h there wed definitely like work this l...\n",
              "12  @115714 y’all lie about your “great” connectio...  ...  115714 y’all lie “great” connection 5 bar lte ...\n",
              "13  @115715 Please send me a private message so th...  ...  115715 please send private message send link a...\n",
              "14  @115714 whenever I contact customer support, t...  ...  115714 whenever contact customer support tell ...\n",
              "15         @115716 What information is incorrect? ^JK  ...                    115716 information incorrect jk\n",
              "16  @Ask_Spectrum Would you like me to email you a...  ...  askspectrum would like email copy one since sp...\n",
              "17  @115716 Our department is part of the corporat...  ...  115716 department part corporate office partic...\n",
              "18  @Ask_Spectrum I received this from your corpor...  ...  askspectrum received corporate office would li...\n",
              "19                          @115716 No thank you. ^JK  ...                                115716 thank you jk\n",
              "20  @Ask_Spectrum The correct way to do it is via ...  ...  askspectrum correct way via ocs account takeov...\n",
              "21  @Ask_Spectrum That is INCORRECT information I ...  ...  askspectrum incorrect information form front f...\n",
              "22  @115716 The information pertaining to the acco...  ...  115716 information pertaining account assumpti...\n",
              "23  actually that's a broken link you sent me and ...  ...  actually thats broken link sent incorrect info...\n",
              "24  @115717 Hello, My apologies for any frustratio...  ...  115717 hello apology frustration inconvenience...\n",
              "\n",
              "[25 rows x 8 columns]"
            ]
          },
          "metadata": {
            "tags": []
          },
          "execution_count": 48
        }
      ]
    },
    {
      "cell_type": "code",
      "metadata": {
        "id": "w9wGjf8trgP6",
        "colab": {
          "base_uri": "https://localhost:8080/",
          "height": 35
        },
        "outputId": "a570f901-b192-493c-c933-77cc5d671e3e"
      },
      "source": [
        "lemmatizer.lemmatize(\"running\")"
      ],
      "execution_count": 49,
      "outputs": [
        {
          "output_type": "execute_result",
          "data": {
            "application/vnd.google.colaboratory.intrinsic+json": {
              "type": "string"
            },
            "text/plain": [
              "'running'"
            ]
          },
          "metadata": {
            "tags": []
          },
          "execution_count": 49
        },
        {
          "output_type": "execute_result",
          "data": {
            "application/vnd.google.colaboratory.intrinsic+json": {
              "type": "string"
            },
            "text/plain": [
              "'running'"
            ]
          },
          "metadata": {
            "tags": []
          },
          "execution_count": 50
        }
      ]
    },
    {
      "cell_type": "code",
      "metadata": {
        "id": "1GAFHCDrrjBm",
        "colab": {
          "base_uri": "https://localhost:8080/",
          "height": 35
        },
        "outputId": "3e87d0bc-6ff4-4775-ae9b-5c4ea678f8b1"
      },
      "source": [
        "lemmatizer.lemmatize(\"running\", \"v\") # v for verb"
      ],
      "execution_count": 51,
      "outputs": [
        {
          "output_type": "execute_result",
          "data": {
            "application/vnd.google.colaboratory.intrinsic+json": {
              "type": "string"
            },
            "text/plain": [
              "'run'"
            ]
          },
          "metadata": {
            "tags": []
          },
          "execution_count": 51
        }
      ]
    },
    {
      "cell_type": "code",
      "metadata": {
        "id": "7fg3drLHrlN2",
        "colab": {
          "base_uri": "https://localhost:8080/"
        },
        "outputId": "eca20127-f3ee-4950-ee25-ad84bdf3b3ca"
      },
      "source": [
        "print(\"Word is : stripes\")\n",
        "print(\"Lemma result for verb : \",lemmatizer.lemmatize(\"stripes\", 'v'))\n",
        "print(\"Lemma result for noun : \",lemmatizer.lemmatize(\"stripes\", 'n'))"
      ],
      "execution_count": 52,
      "outputs": [
        {
          "output_type": "stream",
          "text": [
            "Word is : stripes\n",
            "Lemma result for verb :  strip\n",
            "Lemma result for noun :  stripe\n"
          ],
          "name": "stdout"
        }
      ]
    },
    {
      "cell_type": "code",
      "metadata": {
        "id": "M8VACMDIvCDC",
        "colab": {
          "base_uri": "https://localhost:8080/"
        },
        "outputId": "6e0a193c-d90c-4835-e3eb-ce728d7b0deb"
      },
      "source": [
        "nltk.download('averaged_perceptron_tagger')"
      ],
      "execution_count": 53,
      "outputs": [
        {
          "output_type": "stream",
          "text": [
            "[nltk_data] Downloading package averaged_perceptron_tagger to\n",
            "[nltk_data]     /root/nltk_data...\n",
            "[nltk_data]   Unzipping taggers/averaged_perceptron_tagger.zip.\n"
          ],
          "name": "stdout"
        },
        {
          "output_type": "execute_result",
          "data": {
            "text/plain": [
              "True"
            ]
          },
          "metadata": {
            "tags": []
          },
          "execution_count": 53
        }
      ]
    },
    {
      "cell_type": "code",
      "metadata": {
        "id": "QHjgMrsWrfnE",
        "colab": {
          "base_uri": "https://localhost:8080/",
          "height": 506
        },
        "outputId": "fc2cc553-3d74-4cb7-af96-6f6d4c1f9d96"
      },
      "source": [
        "from nltk.corpus import wordnet\n",
        "from nltk.stem import WordNetLemmatizer\n",
        "\n",
        "lemmatizer = WordNetLemmatizer()\n",
        "wordnet_map = {\"N\":wordnet.NOUN, \"V\":wordnet.VERB, \"J\":wordnet.ADJ, \"R\":wordnet.ADV}\n",
        "def lemmatize_words(text):\n",
        "    pos_tagged_text = nltk.pos_tag(text.split())\n",
        "    return \" \".join([lemmatizer.lemmatize(word, wordnet_map.get(pos[0], wordnet.NOUN)) for word, pos in pos_tagged_text])\n",
        "\n",
        "df[\"text_lemmatized\"] = df[\"text_wo_punct\"].apply(lambda text: lemmatize_words(text))\n",
        "df.head()"
      ],
      "execution_count": 54,
      "outputs": [
        {
          "output_type": "execute_result",
          "data": {
            "text/html": [
              "<div>\n",
              "<style scoped>\n",
              "    .dataframe tbody tr th:only-of-type {\n",
              "        vertical-align: middle;\n",
              "    }\n",
              "\n",
              "    .dataframe tbody tr th {\n",
              "        vertical-align: top;\n",
              "    }\n",
              "\n",
              "    .dataframe thead th {\n",
              "        text-align: right;\n",
              "    }\n",
              "</style>\n",
              "<table border=\"1\" class=\"dataframe\">\n",
              "  <thead>\n",
              "    <tr style=\"text-align: right;\">\n",
              "      <th></th>\n",
              "      <th>text</th>\n",
              "      <th>text_lower</th>\n",
              "      <th>text_wo_stop</th>\n",
              "      <th>text_wo_punct</th>\n",
              "      <th>text_wo_stopfreq</th>\n",
              "      <th>text_wo_stopfreqrare</th>\n",
              "      <th>text_stemmed</th>\n",
              "      <th>text_lemmatized</th>\n",
              "    </tr>\n",
              "  </thead>\n",
              "  <tbody>\n",
              "    <tr>\n",
              "      <th>0</th>\n",
              "      <td>@115712 I understand. I would like to assist y...</td>\n",
              "      <td>@115712 i understand. i would like to assist y...</td>\n",
              "      <td>@115712 understand. would like assist you. wou...</td>\n",
              "      <td>115712 understand would like assist you would ...</td>\n",
              "      <td>115712 understand would like assist would need...</td>\n",
              "      <td>115712 understand would like assist would need...</td>\n",
              "      <td>115712 understand would like assist would need...</td>\n",
              "      <td>115712 understand would like assist you would ...</td>\n",
              "    </tr>\n",
              "    <tr>\n",
              "      <th>1</th>\n",
              "      <td>@sprintcare and how do you propose we do that</td>\n",
              "      <td>@sprintcare and how do you propose we do that</td>\n",
              "      <td>@sprintcare propose</td>\n",
              "      <td>sprintcare propose</td>\n",
              "      <td>sprintcare propose</td>\n",
              "      <td>sprintcare propose</td>\n",
              "      <td>sprintcar propos</td>\n",
              "      <td>sprintcare propose</td>\n",
              "    </tr>\n",
              "    <tr>\n",
              "      <th>2</th>\n",
              "      <td>@sprintcare I have sent several private messag...</td>\n",
              "      <td>@sprintcare i have sent several private messag...</td>\n",
              "      <td>@sprintcare sent several private messages one ...</td>\n",
              "      <td>sprintcare sent several private messages one r...</td>\n",
              "      <td>sprintcare sent several private messages one r...</td>\n",
              "      <td>sprintcare sent several private messages one r...</td>\n",
              "      <td>sprintcar sent sever privat messag one respond...</td>\n",
              "      <td>sprintcare send several private message one re...</td>\n",
              "    </tr>\n",
              "    <tr>\n",
              "      <th>3</th>\n",
              "      <td>@115712 Please send us a Private Message so th...</td>\n",
              "      <td>@115712 please send us a private message so th...</td>\n",
              "      <td>@115712 please send us private message assist ...</td>\n",
              "      <td>115712 please send us private message assist y...</td>\n",
              "      <td>115712 send private message assist click ‘mess...</td>\n",
              "      <td>115712 send private message assist click ‘mess...</td>\n",
              "      <td>115712 send privat messag assist click messag ...</td>\n",
              "      <td>115712 please send u private message assist yo...</td>\n",
              "    </tr>\n",
              "    <tr>\n",
              "      <th>4</th>\n",
              "      <td>@sprintcare I did.</td>\n",
              "      <td>@sprintcare i did.</td>\n",
              "      <td>@sprintcare did.</td>\n",
              "      <td>sprintcare did</td>\n",
              "      <td>sprintcare did</td>\n",
              "      <td>sprintcare did</td>\n",
              "      <td>sprintcar did</td>\n",
              "      <td>sprintcare do</td>\n",
              "    </tr>\n",
              "  </tbody>\n",
              "</table>\n",
              "</div>"
            ],
            "text/plain": [
              "                                                text  ...                                    text_lemmatized\n",
              "0  @115712 I understand. I would like to assist y...  ...  115712 understand would like assist you would ...\n",
              "1      @sprintcare and how do you propose we do that  ...                                 sprintcare propose\n",
              "2  @sprintcare I have sent several private messag...  ...  sprintcare send several private message one re...\n",
              "3  @115712 Please send us a Private Message so th...  ...  115712 please send u private message assist yo...\n",
              "4                                 @sprintcare I did.  ...                                      sprintcare do\n",
              "\n",
              "[5 rows x 8 columns]"
            ]
          },
          "metadata": {
            "tags": []
          },
          "execution_count": 54
        }
      ]
    },
    {
      "cell_type": "code",
      "metadata": {
        "colab": {
          "base_uri": "https://localhost:8080/",
          "height": 1000
        },
        "id": "rHG6QPFXpTXm",
        "outputId": "1b5fd36d-ead4-4127-faf2-a2a9bb157559"
      },
      "source": [
        "df.head(25)"
      ],
      "execution_count": null,
      "outputs": [
        {
          "output_type": "execute_result",
          "data": {
            "text/html": [
              "<div>\n",
              "<style scoped>\n",
              "    .dataframe tbody tr th:only-of-type {\n",
              "        vertical-align: middle;\n",
              "    }\n",
              "\n",
              "    .dataframe tbody tr th {\n",
              "        vertical-align: top;\n",
              "    }\n",
              "\n",
              "    .dataframe thead th {\n",
              "        text-align: right;\n",
              "    }\n",
              "</style>\n",
              "<table border=\"1\" class=\"dataframe\">\n",
              "  <thead>\n",
              "    <tr style=\"text-align: right;\">\n",
              "      <th></th>\n",
              "      <th>text</th>\n",
              "      <th>text_lower</th>\n",
              "      <th>text_wo_stop</th>\n",
              "      <th>text_wo_punct</th>\n",
              "      <th>text_wo_stopfreq</th>\n",
              "      <th>text_wo_stopfreqrare</th>\n",
              "      <th>text_stemmed</th>\n",
              "      <th>text_lemmatized</th>\n",
              "    </tr>\n",
              "  </thead>\n",
              "  <tbody>\n",
              "    <tr>\n",
              "      <th>0</th>\n",
              "      <td>@115712 I understand. I would like to assist y...</td>\n",
              "      <td>@115712 i understand. i would like to assist y...</td>\n",
              "      <td>@115712 understand. would like assist you. wou...</td>\n",
              "      <td>115712 understand would like assist you would ...</td>\n",
              "      <td>115712 understand would like assist would need...</td>\n",
              "      <td>115712 understand would like assist would need...</td>\n",
              "      <td>115712 understand would like assist would need...</td>\n",
              "      <td>115712 understand would like assist you would ...</td>\n",
              "    </tr>\n",
              "    <tr>\n",
              "      <th>1</th>\n",
              "      <td>@sprintcare and how do you propose we do that</td>\n",
              "      <td>@sprintcare and how do you propose we do that</td>\n",
              "      <td>@sprintcare propose</td>\n",
              "      <td>sprintcare propose</td>\n",
              "      <td>sprintcare propose</td>\n",
              "      <td>sprintcare propose</td>\n",
              "      <td>sprintcar propos</td>\n",
              "      <td>sprintcare propose</td>\n",
              "    </tr>\n",
              "    <tr>\n",
              "      <th>2</th>\n",
              "      <td>@sprintcare I have sent several private messag...</td>\n",
              "      <td>@sprintcare i have sent several private messag...</td>\n",
              "      <td>@sprintcare sent several private messages one ...</td>\n",
              "      <td>sprintcare sent several private messages one r...</td>\n",
              "      <td>sprintcare sent several private messages one r...</td>\n",
              "      <td>sprintcare sent several private messages one r...</td>\n",
              "      <td>sprintcar sent sever privat messag one respond...</td>\n",
              "      <td>sprintcare send several private message one re...</td>\n",
              "    </tr>\n",
              "    <tr>\n",
              "      <th>3</th>\n",
              "      <td>@115712 Please send us a Private Message so th...</td>\n",
              "      <td>@115712 please send us a private message so th...</td>\n",
              "      <td>@115712 please send us private message assist ...</td>\n",
              "      <td>115712 please send us private message assist y...</td>\n",
              "      <td>115712 send private message assist click ‘mess...</td>\n",
              "      <td>115712 send private message assist click ‘mess...</td>\n",
              "      <td>115712 send privat messag assist click messag ...</td>\n",
              "      <td>115712 please send u private message assist yo...</td>\n",
              "    </tr>\n",
              "    <tr>\n",
              "      <th>4</th>\n",
              "      <td>@sprintcare I did.</td>\n",
              "      <td>@sprintcare i did.</td>\n",
              "      <td>@sprintcare did.</td>\n",
              "      <td>sprintcare did</td>\n",
              "      <td>sprintcare did</td>\n",
              "      <td>sprintcare did</td>\n",
              "      <td>sprintcar did</td>\n",
              "      <td>sprintcare do</td>\n",
              "    </tr>\n",
              "    <tr>\n",
              "      <th>5</th>\n",
              "      <td>@115712 Can you please send us a private messa...</td>\n",
              "      <td>@115712 can you please send us a private messa...</td>\n",
              "      <td>@115712 please send us private message, gain d...</td>\n",
              "      <td>115712 please send us private message gain det...</td>\n",
              "      <td>115712 send private message gain details account</td>\n",
              "      <td>115712 send private message gain details account</td>\n",
              "      <td>115712 send privat messag gain detail account</td>\n",
              "      <td>115712 please send u private message gain deta...</td>\n",
              "    </tr>\n",
              "    <tr>\n",
              "      <th>6</th>\n",
              "      <td>@sprintcare is the worst customer service</td>\n",
              "      <td>@sprintcare is the worst customer service</td>\n",
              "      <td>@sprintcare worst customer service</td>\n",
              "      <td>sprintcare worst customer service</td>\n",
              "      <td>sprintcare worst customer service</td>\n",
              "      <td>sprintcare worst customer service</td>\n",
              "      <td>sprintcar worst custom servic</td>\n",
              "      <td>sprintcare bad customer service</td>\n",
              "    </tr>\n",
              "    <tr>\n",
              "      <th>7</th>\n",
              "      <td>@115713 This is saddening to hear. Please shoo...</td>\n",
              "      <td>@115713 this is saddening to hear. please shoo...</td>\n",
              "      <td>@115713 saddening hear. please shoot us dm, lo...</td>\n",
              "      <td>115713 saddening hear please shoot us dm look ...</td>\n",
              "      <td>115713 saddening hear shoot look kc</td>\n",
              "      <td>115713 saddening hear shoot look kc</td>\n",
              "      <td>115713 sadden hear shoot look kc</td>\n",
              "      <td>115713 sadden hear please shoot u dm look you kc</td>\n",
              "    </tr>\n",
              "    <tr>\n",
              "      <th>8</th>\n",
              "      <td>@sprintcare You gonna magically change your co...</td>\n",
              "      <td>@sprintcare you gonna magically change your co...</td>\n",
              "      <td>@sprintcare gonna magically change connectivit...</td>\n",
              "      <td>sprintcare gonna magically change connectivity...</td>\n",
              "      <td>sprintcare gonna magically change connectivity...</td>\n",
              "      <td>sprintcare gonna magically change connectivity...</td>\n",
              "      <td>sprintcar gonna magic chang connect whole fami...</td>\n",
              "      <td>sprintcare gonna magically change connectivity...</td>\n",
              "    </tr>\n",
              "    <tr>\n",
              "      <th>9</th>\n",
              "      <td>@115713 We understand your concerns and we'd l...</td>\n",
              "      <td>@115713 we understand your concerns and we'd l...</td>\n",
              "      <td>@115713 understand concerns we'd like please s...</td>\n",
              "      <td>115713 understand concerns wed like please sen...</td>\n",
              "      <td>115713 understand concerns wed like send direc...</td>\n",
              "      <td>115713 understand concerns wed like send direc...</td>\n",
              "      <td>115713 understand concern wed like send direct...</td>\n",
              "      <td>115713 understand concern wed like please send...</td>\n",
              "    </tr>\n",
              "    <tr>\n",
              "      <th>10</th>\n",
              "      <td>@sprintcare Since I signed up with you....Sinc...</td>\n",
              "      <td>@sprintcare since i signed up with you....sinc...</td>\n",
              "      <td>@sprintcare since signed you....since day 1</td>\n",
              "      <td>sprintcare since signed yousince day 1</td>\n",
              "      <td>sprintcare since signed yousince day 1</td>\n",
              "      <td>sprintcare since signed yousince day 1</td>\n",
              "      <td>sprintcar sinc sign yousinc day 1</td>\n",
              "      <td>sprintcare since sign yousince day 1</td>\n",
              "    </tr>\n",
              "    <tr>\n",
              "      <th>11</th>\n",
              "      <td>@115713 H there! We'd definitely like to work ...</td>\n",
              "      <td>@115713 h there! we'd definitely like to work ...</td>\n",
              "      <td>@115713 h there! we'd definitely like work thi...</td>\n",
              "      <td>115713 h there wed definitely like work this l...</td>\n",
              "      <td>115713 h there wed definitely like work this l...</td>\n",
              "      <td>115713 h there wed definitely like work this l...</td>\n",
              "      <td>115713 h there wed definit like work this long...</td>\n",
              "      <td>115713 h there wed definitely like work this l...</td>\n",
              "    </tr>\n",
              "    <tr>\n",
              "      <th>12</th>\n",
              "      <td>@115714 y’all lie about your “great” connectio...</td>\n",
              "      <td>@115714 y’all lie about your “great” connectio...</td>\n",
              "      <td>@115714 y’all lie “great” connection. 5 bars l...</td>\n",
              "      <td>115714 y’all lie “great” connection 5 bars lte...</td>\n",
              "      <td>115714 y’all lie “great” connection 5 bars lte...</td>\n",
              "      <td>115714 y’all lie “great” connection 5 bars lte...</td>\n",
              "      <td>115714 y'all lie “great” connect 5 bar lte sti...</td>\n",
              "      <td>115714 y’all lie “great” connection 5 bar lte ...</td>\n",
              "    </tr>\n",
              "    <tr>\n",
              "      <th>13</th>\n",
              "      <td>@115715 Please send me a private message so th...</td>\n",
              "      <td>@115715 please send me a private message so th...</td>\n",
              "      <td>@115715 please send private message send link ...</td>\n",
              "      <td>115715 please send private message send link a...</td>\n",
              "      <td>115715 send private message send link access a...</td>\n",
              "      <td>115715 send private message send link access a...</td>\n",
              "      <td>115715 send privat messag send link access acc...</td>\n",
              "      <td>115715 please send private message send link a...</td>\n",
              "    </tr>\n",
              "    <tr>\n",
              "      <th>14</th>\n",
              "      <td>@115714 whenever I contact customer support, t...</td>\n",
              "      <td>@115714 whenever i contact customer support, t...</td>\n",
              "      <td>@115714 whenever contact customer support, tel...</td>\n",
              "      <td>115714 whenever contact customer support tell ...</td>\n",
              "      <td>115714 whenever contact customer support tell ...</td>\n",
              "      <td>115714 whenever contact customer support tell ...</td>\n",
              "      <td>115714 whenev contact custom support tell shor...</td>\n",
              "      <td>115714 whenever contact customer support tell ...</td>\n",
              "    </tr>\n",
              "    <tr>\n",
              "      <th>15</th>\n",
              "      <td>@115716 What information is incorrect? ^JK</td>\n",
              "      <td>@115716 what information is incorrect? ^jk</td>\n",
              "      <td>@115716 information incorrect? ^jk</td>\n",
              "      <td>115716 information incorrect jk</td>\n",
              "      <td>115716 information incorrect jk</td>\n",
              "      <td>115716 information incorrect jk</td>\n",
              "      <td>115716 inform incorrect jk</td>\n",
              "      <td>115716 information incorrect jk</td>\n",
              "    </tr>\n",
              "    <tr>\n",
              "      <th>16</th>\n",
              "      <td>@Ask_Spectrum Would you like me to email you a...</td>\n",
              "      <td>@ask_spectrum would you like me to email you a...</td>\n",
              "      <td>@ask_spectrum would like email copy one since ...</td>\n",
              "      <td>askspectrum would like email copy one since sp...</td>\n",
              "      <td>askspectrum would like email copy one since sp...</td>\n",
              "      <td>askspectrum would like email copy one since sp...</td>\n",
              "      <td>askspectrum would like email copi one sinc spe...</td>\n",
              "      <td>askspectrum would like email copy one since sp...</td>\n",
              "    </tr>\n",
              "    <tr>\n",
              "      <th>17</th>\n",
              "      <td>@115716 Our department is part of the corporat...</td>\n",
              "      <td>@115716 our department is part of the corporat...</td>\n",
              "      <td>@115716 department part corporate office. part...</td>\n",
              "      <td>115716 department part corporate office partic...</td>\n",
              "      <td>115716 department part corporate office partic...</td>\n",
              "      <td>115716 department part corporate office partic...</td>\n",
              "      <td>115716 depart part corpor offic particular are...</td>\n",
              "      <td>115716 department part corporate office partic...</td>\n",
              "    </tr>\n",
              "    <tr>\n",
              "      <th>18</th>\n",
              "      <td>@Ask_Spectrum I received this from your corpor...</td>\n",
              "      <td>@ask_spectrum i received this from your corpor...</td>\n",
              "      <td>@ask_spectrum received corporate office would ...</td>\n",
              "      <td>askspectrum received corporate office would li...</td>\n",
              "      <td>askspectrum received corporate office would li...</td>\n",
              "      <td>askspectrum received corporate office would li...</td>\n",
              "      <td>askspectrum receiv corpor offic would like copi</td>\n",
              "      <td>askspectrum receive corporate office would lik...</td>\n",
              "    </tr>\n",
              "    <tr>\n",
              "      <th>19</th>\n",
              "      <td>@115716 No thank you. ^JK</td>\n",
              "      <td>@115716 no thank you. ^jk</td>\n",
              "      <td>@115716 thank you. ^jk</td>\n",
              "      <td>115716 thank you jk</td>\n",
              "      <td>115716 thank jk</td>\n",
              "      <td>115716 thank jk</td>\n",
              "      <td>115716 thank jk</td>\n",
              "      <td>115716 thank you jk</td>\n",
              "    </tr>\n",
              "    <tr>\n",
              "      <th>20</th>\n",
              "      <td>@Ask_Spectrum The correct way to do it is via ...</td>\n",
              "      <td>@ask_spectrum the correct way to do it is via ...</td>\n",
              "      <td>@ask_spectrum correct way via ocs account take...</td>\n",
              "      <td>askspectrum correct way via ocs account takeov...</td>\n",
              "      <td>askspectrum correct way via ocs account takeov...</td>\n",
              "      <td>askspectrum correct way via ocs account takeov...</td>\n",
              "      <td>askspectrum correct way via oc account takeov ...</td>\n",
              "      <td>askspectrum correct way via ocs account takeov...</td>\n",
              "    </tr>\n",
              "    <tr>\n",
              "      <th>21</th>\n",
              "      <td>@Ask_Spectrum That is INCORRECT information I ...</td>\n",
              "      <td>@ask_spectrum that is incorrect information i ...</td>\n",
              "      <td>@ask_spectrum incorrect information form front...</td>\n",
              "      <td>askspectrum incorrect information form front f...</td>\n",
              "      <td>askspectrum incorrect information form front f...</td>\n",
              "      <td>askspectrum incorrect information form front f...</td>\n",
              "      <td>askspectrum incorrect inform form front fax ov...</td>\n",
              "      <td>askspectrum incorrect information form front f...</td>\n",
              "    </tr>\n",
              "    <tr>\n",
              "      <th>22</th>\n",
              "      <td>@115716 The information pertaining to the acco...</td>\n",
              "      <td>@115716 the information pertaining to the acco...</td>\n",
              "      <td>@115716 information pertaining account assumpt...</td>\n",
              "      <td>115716 information pertaining account assumpti...</td>\n",
              "      <td>115716 information pertaining account assumpti...</td>\n",
              "      <td>115716 information pertaining account assumpti...</td>\n",
              "      <td>115716 inform pertain account assumpt correct ...</td>\n",
              "      <td>115716 information pertain account assumption ...</td>\n",
              "    </tr>\n",
              "    <tr>\n",
              "      <th>23</th>\n",
              "      <td>actually that's a broken link you sent me and ...</td>\n",
              "      <td>actually that's a broken link you sent me and ...</td>\n",
              "      <td>actually that's broken link sent incorrect inf...</td>\n",
              "      <td>actually thats broken link sent incorrect info...</td>\n",
              "      <td>actually thats broken link sent incorrect info...</td>\n",
              "      <td>actually thats broken link sent incorrect info...</td>\n",
              "      <td>actual that broken link sent incorrect inform ...</td>\n",
              "      <td>actually thats broken link send incorrect info...</td>\n",
              "    </tr>\n",
              "    <tr>\n",
              "      <th>24</th>\n",
              "      <td>@115717 Hello, My apologies for any frustratio...</td>\n",
              "      <td>@115717 hello, my apologies for any frustratio...</td>\n",
              "      <td>@115717 hello, apologies frustrations inconven...</td>\n",
              "      <td>115717 hello apologies frustrations inconvenie...</td>\n",
              "      <td>115717 hello apologies frustrations inconvenie...</td>\n",
              "      <td>115717 hello apologies frustrations inconvenie...</td>\n",
              "      <td>115717 hello apolog frustrat inconveni i'd hap...</td>\n",
              "      <td>115717 hello apology frustration inconvenience...</td>\n",
              "    </tr>\n",
              "  </tbody>\n",
              "</table>\n",
              "</div>"
            ],
            "text/plain": [
              "                                                 text  ...                                    text_lemmatized\n",
              "0   @115712 I understand. I would like to assist y...  ...  115712 understand would like assist you would ...\n",
              "1       @sprintcare and how do you propose we do that  ...                                 sprintcare propose\n",
              "2   @sprintcare I have sent several private messag...  ...  sprintcare send several private message one re...\n",
              "3   @115712 Please send us a Private Message so th...  ...  115712 please send u private message assist yo...\n",
              "4                                  @sprintcare I did.  ...                                      sprintcare do\n",
              "5   @115712 Can you please send us a private messa...  ...  115712 please send u private message gain deta...\n",
              "6           @sprintcare is the worst customer service  ...                    sprintcare bad customer service\n",
              "7   @115713 This is saddening to hear. Please shoo...  ...   115713 sadden hear please shoot u dm look you kc\n",
              "8   @sprintcare You gonna magically change your co...  ...  sprintcare gonna magically change connectivity...\n",
              "9   @115713 We understand your concerns and we'd l...  ...  115713 understand concern wed like please send...\n",
              "10  @sprintcare Since I signed up with you....Sinc...  ...               sprintcare since sign yousince day 1\n",
              "11  @115713 H there! We'd definitely like to work ...  ...  115713 h there wed definitely like work this l...\n",
              "12  @115714 y’all lie about your “great” connectio...  ...  115714 y’all lie “great” connection 5 bar lte ...\n",
              "13  @115715 Please send me a private message so th...  ...  115715 please send private message send link a...\n",
              "14  @115714 whenever I contact customer support, t...  ...  115714 whenever contact customer support tell ...\n",
              "15         @115716 What information is incorrect? ^JK  ...                    115716 information incorrect jk\n",
              "16  @Ask_Spectrum Would you like me to email you a...  ...  askspectrum would like email copy one since sp...\n",
              "17  @115716 Our department is part of the corporat...  ...  115716 department part corporate office partic...\n",
              "18  @Ask_Spectrum I received this from your corpor...  ...  askspectrum receive corporate office would lik...\n",
              "19                          @115716 No thank you. ^JK  ...                                115716 thank you jk\n",
              "20  @Ask_Spectrum The correct way to do it is via ...  ...  askspectrum correct way via ocs account takeov...\n",
              "21  @Ask_Spectrum That is INCORRECT information I ...  ...  askspectrum incorrect information form front f...\n",
              "22  @115716 The information pertaining to the acco...  ...  115716 information pertain account assumption ...\n",
              "23  actually that's a broken link you sent me and ...  ...  actually thats broken link send incorrect info...\n",
              "24  @115717 Hello, My apologies for any frustratio...  ...  115717 hello apology frustration inconvenience...\n",
              "\n",
              "[25 rows x 8 columns]"
            ]
          },
          "metadata": {
            "tags": []
          },
          "execution_count": 24
        }
      ]
    },
    {
      "cell_type": "markdown",
      "metadata": {
        "id": "yI-NpHdhvHwA"
      },
      "source": [
        "8. Remove Emojis"
      ]
    },
    {
      "cell_type": "code",
      "metadata": {
        "id": "ahvSVAa0rssv",
        "colab": {
          "base_uri": "https://localhost:8080/",
          "height": 35
        },
        "outputId": "92245d72-88da-46b0-ae8a-0bccf996a97e"
      },
      "source": [
        "def remove_emoji(string):\n",
        "    emoji_pattern = re.compile(\"[\"\n",
        "                           u\"\\U0001F600-\\U0001F64F\"  # emoticons\n",
        "                           u\"\\U0001F300-\\U0001F5FF\"  # symbols & pictographs\n",
        "                           u\"\\U0001F680-\\U0001F6FF\"  # transport & map symbols\n",
        "                           u\"\\U0001F1E0-\\U0001F1FF\"  # flags (iOS)\n",
        "                           u\"\\U00002702-\\U000027B0\"\n",
        "                           u\"\\U000024C2-\\U0001F251\"\n",
        "                           \"]+\", flags=re.UNICODE)\n",
        "    return emoji_pattern.sub(r'', string)\n",
        "\n",
        "remove_emoji(\"game is on 🔥🔥\")"
      ],
      "execution_count": 55,
      "outputs": [
        {
          "output_type": "execute_result",
          "data": {
            "application/vnd.google.colaboratory.intrinsic+json": {
              "type": "string"
            },
            "text/plain": [
              "'game is on '"
            ]
          },
          "metadata": {
            "tags": []
          },
          "execution_count": 55
        }
      ]
    },
    {
      "cell_type": "markdown",
      "metadata": {
        "id": "k3gB2pFAvYXo"
      },
      "source": [
        "10. Remove URLs"
      ]
    },
    {
      "cell_type": "code",
      "metadata": {
        "id": "FFkSuBPysA9C"
      },
      "source": [
        "def remove_urls(text):\n",
        "    url_pattern = re.compile(r'https?://\\S+|www\\.\\S+')\n",
        "    return url_pattern.sub(r'', text)"
      ],
      "execution_count": 56,
      "outputs": []
    },
    {
      "cell_type": "code",
      "metadata": {
        "id": "OZd5ua27sDAN",
        "colab": {
          "base_uri": "https://localhost:8080/",
          "height": 35
        },
        "outputId": "f4de64e6-509c-4e54-bb25-1f1b1b9e887d"
      },
      "source": [
        "text = \"Driverless AI NLP blog post on https://www.h2o.ai/blog/detecting-sarcasm-is-difficult-but-ai-may-have-an-answer/\"\n",
        "remove_urls(text)"
      ],
      "execution_count": 57,
      "outputs": [
        {
          "output_type": "execute_result",
          "data": {
            "application/vnd.google.colaboratory.intrinsic+json": {
              "type": "string"
            },
            "text/plain": [
              "'Driverless AI NLP blog post on '"
            ]
          },
          "metadata": {
            "tags": []
          },
          "execution_count": 57
        }
      ]
    },
    {
      "cell_type": "code",
      "metadata": {
        "id": "NHFuagMzsF14",
        "colab": {
          "base_uri": "https://localhost:8080/",
          "height": 35
        },
        "outputId": "3942a93d-c2d6-4139-f15f-25e95e52a5de"
      },
      "source": [
        "text = \"Want to know more. Checkout www.h2o.ai for additional information\"\n",
        "remove_urls(text)"
      ],
      "execution_count": 58,
      "outputs": [
        {
          "output_type": "execute_result",
          "data": {
            "application/vnd.google.colaboratory.intrinsic+json": {
              "type": "string"
            },
            "text/plain": [
              "'Want to know more. Checkout  for additional information'"
            ]
          },
          "metadata": {
            "tags": []
          },
          "execution_count": 58
        }
      ]
    },
    {
      "cell_type": "markdown",
      "metadata": {
        "id": "7skLpvHDvemf"
      },
      "source": [
        "11. Remove HTML tags"
      ]
    },
    {
      "cell_type": "code",
      "metadata": {
        "id": "aIqKZmxYsI23",
        "colab": {
          "base_uri": "https://localhost:8080/"
        },
        "outputId": "26419145-6142-4f6e-cea3-91a67c728320"
      },
      "source": [
        "def remove_html(text):\n",
        "    html_pattern = re.compile('<.*?>')\n",
        "    return html_pattern.sub(r'', text)\n",
        "\n",
        "text = \"\"\"<div>\n",
        "<h1> H2O</h1>\n",
        "<p> AutoML</p>\n",
        "<a href=\"https://www.h2o.ai/products/h2o-driverless-ai/\"> Driverless AI</a>\n",
        "</div>\"\"\"\n",
        "\n",
        "print(remove_html(text))"
      ],
      "execution_count": 59,
      "outputs": [
        {
          "output_type": "stream",
          "text": [
            "\n",
            " H2O\n",
            " AutoML\n",
            " Driverless AI\n",
            "\n"
          ],
          "name": "stdout"
        }
      ]
    }
  ]
}